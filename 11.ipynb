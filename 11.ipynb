{
  "nbformat": 4,
  "nbformat_minor": 0,
  "metadata": {
    "colab": {
      "name": "Алексеев Дмитрий \"Практика к занятию 11\"",
      "provenance": [],
      "collapsed_sections": [],
      "toc_visible": true
    },
    "kernelspec": {
      "name": "python3",
      "display_name": "Python 3"
    },
    "language_info": {
      "name": "python"
    }
  },
  "cells": [
    {
      "cell_type": "markdown",
      "metadata": {
        "id": "pvsZ6UxVQysf"
      },
      "source": [
        "# Практика"
      ]
    },
    {
      "cell_type": "markdown",
      "metadata": {
        "id": "gUvTNDlMaV-a"
      },
      "source": [
        "## Определение вероятности. События"
      ]
    },
    {
      "cell_type": "markdown",
      "metadata": {
        "id": "5V70InEBTgup"
      },
      "source": [
        "### Задача 1\n",
        "Брошено две монеты. Найти вероятность того, что монеты выпали разными сторонами\n",
        "\n",
        "$A=\\{монеты\\ выпали\\ разными\\ сторонами \\}$\n",
        "\n",
        "$P(A) = \\frac{|\\{монеты\\ выпали\\ разными\\ сторонами \\}|}{|\\Omega|}$\n",
        "\n",
        "$\\Omega = (РР), (ОО), (РО), (ОР)$\n",
        "\n",
        "$P(A) = \\frac{2}{4} = \\frac{1}{2}$"
      ]
    },
    {
      "cell_type": "code",
      "metadata": {
        "id": "88Iw-SL3jYQV"
      },
      "source": [
        ""
      ],
      "execution_count": null,
      "outputs": []
    },
    {
      "cell_type": "markdown",
      "metadata": {
        "id": "t0XOMos2Tl0e"
      },
      "source": [
        "### Задача 2\n",
        "Брошено три монеты. Описать множество всех элементарных событий. Найти вероятности следующих событий:\n",
        "\n",
        "\n",
        "1.   A = {не выпало ни одного герба}\n",
        "2.   B = {выпало четное число гербов}\n",
        "3.   C = {на третьей монете выпал герб}\n",
        "\n",
        "$\\Omega = РРР, РРГ, РГГ, ГГГ, РГР, ГРГ, ГРР, ГГР$\n",
        "\n",
        "$P(A) = \\frac{1}{8}$\n",
        "\n",
        "$P(B) = \\frac{4}{8} = \\frac{1}{2}$\n",
        "\n",
        "$P(C) = \\frac{4}{8} = \\frac{1}{2}$\n"
      ]
    },
    {
      "cell_type": "code",
      "metadata": {
        "id": "o7NjAE9uUo-L"
      },
      "source": [
        ""
      ],
      "execution_count": null,
      "outputs": []
    },
    {
      "cell_type": "markdown",
      "metadata": {
        "id": "peM38mVfYa5B"
      },
      "source": [
        "Предлагается также решить задачи: \n",
        "\n",
        "### Задача 3\n",
        "Из двух претендентов E и L на ответственную должность три члена комиссии должны отобрать одного. Каждый член комиссии должен указать либо одного достойного, либо забраковать обоих. Претендент считается выбранным, если он был признана достойным хотя бы двумя членами комиссии.\n",
        "Найти вероятность событий:\n",
        "\n",
        "A = {реокмендован L}, B = {рекомендован E}\n",
        "\n",
        "-----------------------------\n",
        "\n",
        "### Задача 4\n",
        "Брошено две игральных кости. Описать множество элементарных событий. Найти вероятности событий:\n",
        "\n",
        "A = {вышло две \"шестерки\"}\n",
        "\n",
        "B = {сумма выпавших очков не меньше 11}\n",
        "\n",
        "C = {не выпала ни одна \"шестерка\"}"
      ]
    },
    {
      "cell_type": "markdown",
      "metadata": {
        "id": "h3eq0_Eo3MdV"
      },
      "source": [
        "####Решение задачи 3\n",
        "Всего 27 (3**3, 3 члена коммиссии, у каждого 3 варианта выбора) вариантов того, какое решение могут принять члены комиссии. \n",
        "\n",
        "Рекомендован L - 9 исходов.\n",
        "Два члена комиссии должны выбрать кандидата L, третий - может сделать любой выбор (L, E, обоих забраковать).\n",
        "Поэтому получается: 1x1x3 + 1x3x1 + 3x1x1 = 9 возможных исходов, когда будет выбран кандидат L. Вариант, при котором все три члена выбирают одного и того же кандидата, учитывается трижды, поэтому нужно вычесть 2: 9-2=7.\n",
        "\n",
        "Рекомендован E - тоже 9 исходов. Логика такая же, как и для кандидата L.\n",
        "\n",
        "P(A) = 7/27 = 0.259\n",
        "\n",
        "P(B) = 7/27 = 0.259"
      ]
    },
    {
      "cell_type": "markdown",
      "metadata": {
        "id": "YBaPMVch_TaT"
      },
      "source": [
        "####Решение задачи 4\n",
        "Два кубика; может выпасть одно из 6 значений.\n",
        "\n",
        "Поэтому всего может быть 6х6=36 исходов.\n",
        "\n",
        "P(A)=1/36~0.028\n",
        "\n",
        "\n",
        "---\n",
        "\n",
        "\n",
        "В каких случаях можно получить 11 и более очков?\n",
        "\n",
        "Варианты: 5+6, 6+5, 6+6.\n",
        "\n",
        "P(B)=3/36=1/12~0.083\n",
        "\n",
        "---\n",
        "\n",
        "\n",
        "\n",
        "P(C)=5x5/36=25/36~0.694\n",
        "\n",
        "Могут выпасть числа от 1 до 5, поэтому 5х5."
      ]
    },
    {
      "cell_type": "markdown",
      "metadata": {
        "id": "f-Bi0p8haclB"
      },
      "source": [
        "## Вероятность суммы событий"
      ]
    },
    {
      "cell_type": "markdown",
      "metadata": {
        "id": "g7A7QlvGTnwZ"
      },
      "source": [
        "### Задача 5\n",
        "Брошены две игральные кости. Найти вероятность события D = {выпала хотя бы одна шестёрка}\n",
        "\n",
        "$E_1 = \\{на\\ первой\\ кости\\ выпала\\ 6ка\\}$\n",
        "$E_2 = \\{на\\ второй\\ кости\\ выпала\\ 6ка\\}$\n",
        "\n",
        "D = ? (в терминах $E_1$ и $E_2$)\n",
        "\n",
        "$ D = \\{E_1 + E_2\\} = \\{на\\ первой\\ кости\\ выпала\\ 6ка\\}\\cup\\{на\\ второй\\ кости\\ выпала\\ 6ка\\} = \\{только\\ на\\ первой\\ кости\\ выпала\\ 6ка\\}\\cup\\{только\\ на\\ второй\\ кости\\ выпала\\ 6ка\\}\\cup\\{на\\ обеих\\ 6\\}$\n",
        "\n",
        "По формуле суммы вероятностей\n",
        "\n",
        "$P(E_1 + E_2) = P(E_1) + P(E_2) - P(E_1E_2) = \\frac{1}{6} + \\frac{1}{6} - \\frac{1}{36} = \\frac{2}{6} - \\frac{1}{36} = \\frac{12-1}{36} = \\frac{11}{36}$"
      ]
    },
    {
      "cell_type": "code",
      "metadata": {
        "id": "vjtTJN-kUp9D"
      },
      "source": [
        ""
      ],
      "execution_count": null,
      "outputs": []
    },
    {
      "cell_type": "markdown",
      "metadata": {
        "id": "R1bYSzQQbC6I"
      },
      "source": [
        "Предлагается также решить задачи: \n",
        "\n",
        "### Задача 6\n",
        "В телефонном номере три последние цифры стерлись. Считая, что все возможные значения стершихся цифр равновероятны, найти вероятность событий:\n",
        "\n",
        "A = {Стерлись различные цифры},\n",
        "\n",
        "B = {Стерлись одинаковые цифры},\n",
        "\n",
        "C = {Среди стершихся цифр хотя бы две совпадают},\n",
        "\n",
        "D = {Среди стершихся цифр хотя бы две различны}\n"
      ]
    },
    {
      "cell_type": "markdown",
      "metadata": {
        "id": "Lx_aaRxAEKPr"
      },
      "source": [
        "####Решение задачи 6\n",
        "Всего 10 цифр.\n",
        "\n",
        "Общее количество вариантов: 10х10х10.\n",
        "\n",
        "P(A)=(10x9x8)/(10х10х10)=0.72\n",
        "\n",
        "На первой позиции может быть 10 цифр, на второй - 9, на третьей - 8.\n",
        "\n",
        "---\n",
        "\n",
        "\n",
        "\n",
        "P(B)=10x1x1/(10х10х10)=0.01\n",
        "\n",
        "На первой позиции может быть 10 цифр, на второй и третьей - 1.\n",
        "\n",
        "---\n",
        "\n",
        "\n",
        "\n",
        "P(C)=10x1x9/(10x10x10) + P(B)=0.09 + 0.01=0.1\n",
        "\n",
        "Вероятность того, что стёрлись две одинаковые цифры и одна отличная + вероятность того, что стёрлись три одинаковые цифры.\n",
        "\n",
        "---\n",
        "\n",
        "\n",
        "\n",
        "P(D) = 10x9x2/(10x10x10) + P(A)=0.18 + 0.72=0.9\n",
        "\n",
        "Вероятность того, что из трёх стёршихся цифр две отличные + вероятность того, что стёрлись три различные цифры.\n"
      ]
    },
    {
      "cell_type": "markdown",
      "metadata": {
        "id": "shgW4D83awjK"
      },
      "source": [
        "## Условные вероятности"
      ]
    },
    {
      "cell_type": "markdown",
      "metadata": {
        "id": "Fbu1RFZwWZrk"
      },
      "source": [
        "### Задача 7\n",
        "Из колоды (36 карт) вынимают последовательно без возвращения две карты. Найти вероятность того, что первой картой была шестерка, а второй — семерка. Найти условную вероятность того же события при условии, что обе карты бубновой масти.\n",
        "\n",
        "$A = \\{первой\\ картой\\ была\\ 6,\\ а\\ второй\\ 7\\}$\n",
        "\n",
        "$P(A) = \\frac{4*4}{36*35} = \\frac{4}{315}$\n",
        "\n",
        "$B = \\{обе\\ карты\\ бубновой\\ масти\\}$\n",
        "\n",
        "$P(AB) \\neq P(A|B)$\n",
        "\n",
        "$P(A|B) = \\frac{P(AB)}{P(B)}$\n",
        "\n",
        "$P(B) = \\frac{9}{36} \\cdot \\frac{8}{35}$\n",
        "\n",
        "$P(AB) = \\frac{1}{36} \\cdot \\frac{1}{35}$\n",
        "\n",
        "$P(A|B) = \\frac{P(AB)}{P(B)} = \\frac{\\frac{1}{36} \\cdot \\frac{1}{35}}{\\frac{9}{36} \\cdot \\frac{8}{35}} = \\frac{1}{36\\cdot35} \\cdot \\frac{36 \\cdot 35}{8 \\cdot 9} = \\frac{1}{72}$\n"
      ]
    },
    {
      "cell_type": "code",
      "metadata": {
        "id": "037o56awW9-E"
      },
      "source": [
        ""
      ],
      "execution_count": null,
      "outputs": []
    },
    {
      "cell_type": "markdown",
      "metadata": {
        "id": "hNVxtaz5c57b"
      },
      "source": [
        "Предлагается также решить задачи: \n",
        "\n",
        "### Задача 8\n",
        "Из урны, содержащей два белых и три черных шара, последовательно извлекают два шара; вынутые шары не возвращаются. Если первый шар оказался черным, то перед вторым извлечением в урну добавляют белый шар. В противном случае состав оставшихся шаров не меняют. Найти вероятности событий:\n",
        "\n",
        "$A$ = {извлечены два белых шара},\n",
        "\n",
        "$B$ = {извлечены два черных шара}\n",
        "\n",
        "Указание. Пусть событие $C_1$ = {первый шар белый}, событие $C_2$ = {второй шар белый}. Тогда $A = C_1C_2$, $B = \\overline C_1 \\overline C_2$ "
      ]
    },
    {
      "cell_type": "markdown",
      "metadata": {
        "id": "K_C1deFONfAD"
      },
      "source": [
        "####Решение задачи 8\n",
        "P(C1)=2/5=0.4\n",
        "\n",
        "Белых шара два, всего шаров 5.\n",
        "\n",
        "---\n",
        "\n",
        "\n",
        "\n",
        "P(C2)=1/4=0.25\n",
        "\n",
        "Остался один белый шар, всего 4 шара.\n",
        "\n",
        "---\n",
        "\n",
        "\n",
        "\n",
        "P(¬C1)=1 - P(C1)=1 - 0.4=0.6\n",
        "\n",
        "---\n",
        "\n",
        "\n",
        "\n",
        "Перед вторым извлчением в урне будет три белых и два чёрных шара.\n",
        "\n",
        "P(¬C2)=2/5=0.4\n",
        "\n",
        "---\n",
        "\n",
        "\n",
        "\n",
        "P(A)=P(C1)xP(C2)=0.4 x 0.25=0.1\n",
        "\n",
        "P(B)=P(¬c1)xP(¬C2)=0.6 x 0.4=0.24"
      ]
    },
    {
      "cell_type": "markdown",
      "metadata": {
        "id": "dloyhO74PC64"
      },
      "source": [
        "## Независимость событий\n",
        "### Задача 9\n",
        "Куплены два изделия, изготовленные на разных заводах. На первом заводе брак среди поступивших в продажу изделий составляет 2%, а на втором -- 5%. Найти вероятность событий:\n",
        "\n",
        "$A_0 = \\{оба\\ изделия\\ бракованные\\}$\n",
        "\n",
        "$A = \\{хотя\\ бы\\ одно\\ изделие\\ стандартное\\}$\n",
        "\n",
        "$A_1 = \\{ровно\\ одно\\ изделие\\ бракованное\\}$\n",
        "\n",
        "Определим\n",
        "\n",
        "$C = \\{купленное\\ изделие\\ первого\\ завода\\ бракованное\\}$\n",
        "$D = \\{купленное\\ изделие\\ второго\\ завода\\ бракованное\\}$\n",
        "\n",
        "$A_0 = CD$\n",
        "\n",
        "$A = \\overline A_0$\n",
        "\n",
        "$A_1 = \\overline C D + C \\overline D$\n",
        "\n",
        "$P(A_0) = 0.02 \\cdot 0.05 = 0.001$\n",
        "\n",
        "$P(A) = 1 - 0.02 \\cdot 0.05 = 0.999$\n",
        "\n",
        "$P(A_1) = P(\\overline C D + C \\overline D) = P(\\overline C D) + P(C \\overline D) - P(\\overline C D \\overline D C) = P(\\overline C) \\cdot P(D) + P(\\overline D) \\cdot P(C) - P(\\overline C D \\overline D C) = (1 - 0.02) \\cdot 0.05 + (1-0.05)\\cdot 0.02 - 0 = ...$"
      ]
    },
    {
      "cell_type": "code",
      "metadata": {
        "id": "u5aooXxdPG30"
      },
      "source": [
        ""
      ],
      "execution_count": null,
      "outputs": []
    },
    {
      "cell_type": "code",
      "metadata": {
        "id": "Do7qXtsmSZ_i"
      },
      "source": [
        ""
      ],
      "execution_count": null,
      "outputs": []
    },
    {
      "cell_type": "markdown",
      "metadata": {
        "id": "L3kW7fGvP33k"
      },
      "source": [
        "## Случайные величины"
      ]
    },
    {
      "cell_type": "markdown",
      "metadata": {
        "id": "lKis5r6lP33l"
      },
      "source": [
        "### Задача 10\n",
        "В лотерее имеется 10 билетов, из которых один выигрышный. Размер выигрыша 10 ден. ед.; стоимость билета 1 ден ед. Найти закон распределения случайной величины X, равной чистому выигрышу участника лотереи, который вытаскивает билет первым.\n",
        "\n",
        "$P(X=9) = \\frac{1}{10}$\n",
        "$P(X=-1) = \\frac{9}{10}$ "
      ]
    },
    {
      "cell_type": "code",
      "metadata": {
        "id": "ZZnajtY6P33l"
      },
      "source": [
        ""
      ],
      "execution_count": null,
      "outputs": []
    },
    {
      "cell_type": "markdown",
      "metadata": {
        "id": "USPPDbtjP33l"
      },
      "source": [
        "Предлагается также решить задачи: \n",
        "\n",
        "### Задача 11\n",
        "Брошены две игральные кости. Найти закон распределения случайной величины $X$, равной сумме выпавших очков. Найти вероятности событий ${X <= 4}$, ${X > 4}$"
      ]
    },
    {
      "cell_type": "markdown",
      "metadata": {
        "id": "mzVazGuAsWUi"
      },
      "source": [
        "Таблица с  суммой выпавших очков при бросании двух игральных костей"
      ]
    },
    {
      "cell_type": "markdown",
      "metadata": {
        "id": "jmduKJ6ssWb3"
      },
      "source": [
        "![image.png](data:image/png;base64,iVBORw0KGgoAAAANSUhEUgAAARQAAADxCAYAAAAKjkj8AAAcwklEQVR4Ae2da7KjOgyEsy4WlPVkNfmdfcximLKNiJFJ0kgK8XH1VKXCQ4Hmk9QYzq3ry6z+PR4PteVvrPaom5qw2iGncThd9KX0mFytcW+9R93UtJepdhs5tUz2tvwFTjSUvcwFbfsLBRB0qa7DkBOG7y9wuiSR9edyucz8kAFrgDWA1sDGP7Q3poP8xX896qYmrJLIaRxOjXv0mFwEd4+6qQnJ3JxHxFjkeVHMHcZac6KhYNxMURq26SDBP6ImDCg52TjRUDBupigWJYaNnMbhREPBcmmKYqNg2MhpHE40FCyXpig2CoaNnMbhREPBcmmKYqNg2MhpHE40FCyXpig2CoaNnMbhREPBcmmKYqNg2MhpHE40FCyXpig2CoaNnMbhREPBcmmKYqNg2MhpHE40FCyXpig2CoaNnMbhREPBcmmKYqNg2MhpHE40FCyXpig2CoaNnMbhREPBcmmKYqNg2MhpHE40FCyXpig2CoaNnMbhREPBcmmKYqNg2MhpHE40FCyXpig2CoaNnMbhREPBcmmKYqNg2MhpHE40FCyXpig2CoaNnMbhREPBcmmKYqNg2MhpHE40FCyXpig2CoaNnMbhREPBcmmKYqNg2MhpHE40FCyXpig2CoaNnMbhREPBcmmKYqNg2MhpHE40FCyXpig2CoaNnMbhREPZyeX9mqahvM73nX1HNkU0StHynBbz6hQVoenfbaqmq+2D05qX+7Voc4KK4DSLlnV632m+/VuVHl4I0TT/m2/Ts54mj6C5naSNhrJJaw37940ijSu9Uczlx0UpTZJF3edrapbpNjv6JHDmwCp/Am2TX3wlonlL/nz5qhX7NS18lnx9o55oKGvGluZY7ya/N5RVmiwszey5q/iLUsSkb2lgH6swTWJ2KYc/N5QYNjVtN6d/t3m6XGZP/dR60rLWRENZCSVDSY0RVwga9noq44IesVgOE6tpMeGfN28iUfJ2vZWm+b2h6BvUZXZiapr3cP4Xw/XqqM+r64mGUtPJy70aihRoJ6OBOcZMEnJdlE1KkA2pWdJQfrkL/9xQ1GjyG48XCJY6Rh7BrtfnOzCvuejc0VBq4nm5T0ORl7PRBdBc/sENPTTKvJhbHsr3YiiaozIYvRtZ182L/KaOkRGumO03ckdDqYnn5f4MRQoh4tnXW5QNrm4aZRm50VCaFK0bllytNyW9vgbiC7qeaCgNu84MZUm63FUauQc36AI4+PM2/AtF2Z7k3RbJ1/NPoeka82ftnHe/39/3LU6em4Jb02K2K5Yv5I6G0tSTFKjvXUU6rLsA5D3FpZ8/PerRUhk2+1j5OVVJ7GWEsjSrGEgfnJbaXhyFjzxV3ejFuKLsx1CkedO11R8pUs0AWY/gVApRNPnNLkLTeu29GEr6u9PmPwDshZO83E/5i9fEEcpaifELoY0SJI+aMJDkZONEQ8G4maJYlBg2chqHEw0Fy6Upio2CYSOncThdHo/HXH9ScvkhA9YAawCtgY1/aG9MB/mL/3rUTU1YJZHTOJwa9+gxuQjuHnVTE5K5iD+vY+c5EsXcYbQ0JxoKxs0UpWGbDhL8I2rCgJKTjRMNBeNmimJRYtjIaRxONBQsl6YoNgqGjZzG4URDwXJpimKjYNjIaRxONBQsl6YoNgqGjZzG4URDwXJpimKjYNjIaRxONBQsl6YoNgqGjZzG4URDwXJpimKjYNjIaRxONBQsl6YoNgqGjZzG4URDwXJpimKjYNjIaRxONBQsl6YoNgqGjZzG4URDwXJpimKjYNjIaRxONBQsl6YoNgqGjZzG4URDwXJpimKjYNjIaRxONBQsl6YoNgqGjZzG4URDwXJpimKjYNjIaRxOpxpKxNwkr9CHFKVMwbD8bzDXCZFenfTD9hBNMtFX1hQ/7cGHS3i/O/PyzcmTThDCSeUuz3P8Xv3bvSGalgnc07HSxzP9SQinTS09/xeXHl2a00mGInPdpIvwF+BeJegL24t5v63MV7KaSIbva2C3ptwklYasycfPramCGHWDCNGU2KzJq0QaFyM0ZT5pAvekQefSoCtC0+a0X6inEwylnlioY0NJcCX5mXoxQU+NhhdAnkmwMphNdWArYZoyr2meAm4QEZpS83rutJqeX1Oqe1+u4jXVR1Q30HrXgWXN6SRDSXdVGaX47rCvrlVf2Ks4fLsfeLSmPBPdxvTwq5HIGE0pl9f53s0jT9LTWfMGsZG8pe+Y3JUjRtTSnqYTDEWQ/C1DiQAeVgC5ONPozt80EZoSmzwaCGoav6YyGpgmeS/QAadlxHuvpiP1jHb3mlc66/h36UWvnj1NNJSdbGQz6WQov5H3hWfezfGhlft8lVFSL4aSddQmkgzGNxJ2m1zOVfUYltdrjRDsTZBbkxwtKG/pcFoTDUUgL9/FTHyJl0Nq2LLd/l3uxLf8ls92FK+m9K5ivbMFFaZXU0vi95zmZYTyTJV/VBDFKdf4msSW3pEtWhMNpaIXNTKRQ2rYst3+/etGSeeXx4rtt6c+x+Mkf9WpR0n9GErkC2ydOxqKdHczbJYd9m8N+/CR9CNO0iiPG4cPVn7g1lSft5cRSqecNo2rNdYcweWY3PmNrZarNdFQFjop+QmO/vz6zltGTaKrvuPVacWXdQHgv9yJ7MVQ8oBgqnLXC6fSvFJTnlpK9GNy5x/l1pWgNZ1oKLWM+GV9YfFnOH5EasKYkdM4nGgoWC5NUWwUDBs5jcOJhoLl0hTFRsGwkdM4nC6Px2OuPym5/JABa4A1gNbAxj+0N6aD/MV/PeqmJqySyGkcTo179JhcBHePuqkJyVzUXy+wc6FRzB1GSnOioWDcTFEatukgwT+iJgwoOdk40VAwbqYoFiWGjZzG4URDwXJpimKjYNjIaRxONBQsl6YoNgqGjZzG4URDwXJpimKjYNjIaRxONBQsl6YoNgqGjZzG4URDwXJpimKjYNjIaRxONBQsl6YoNgqGjZzG4URDwXJpimKjYNjIaRxONBQsl6YoNgqGjZzG4URDwXJpimKjYNjIaRxONBQsl6YoNgqGjZzG4URDwXJpimKjYNjIaRxONBQsl6YoNgqGjZzG4URDwXJpimKjYNjIaRxONBQsl6YoNgqGjZzG4XSKoegpKrzTCezhDynKPHeK/K///LMHhmiSi+1oyoo5axFOl/nSxVxB2ykr8tzLws7w7c7dppaerDy63JoSh03u4mv864Yi88qIiRRz8V+IrhE37Ay60tXNxEzlSgu3TuabSWwkoToRhnV37uZ5znzE2HQuf6Rpc9ou6qnM/Cipi5gpU+fu64aygZpWFuf2OHVzzLBJkOoj+ydE0rDrox9aTsymaZ6cE4Cnc0ZoSs0bmT+/Jn+udD78muojbhu53nNk2a0pG219U/Jz05pONxQ9YjkC9F2svrB3sci+rFPueMgPdmJiNKWh/HW+N8Wwc0Jgk19T0lON5IBzfgpxawpiU+t0a6oOFlFL6XB+TeWxUEYo7YTulWhwUWs62VCKU18C7rT6evWF6f3wei7O9Mzrb5oITakY82ggqGn8mspdbZrkvUAHnPII7jbfb8/pSNemgRO/DfRzkuOpJpbNhu8YTUVPOpb33Ve6BK3pVEMp7wEuszfZe7nQF7YXc2hbL8+8MkrqxVCyjtpEksHUw+hDlHOwO3f6MTqv1xp/oElOGZS3dDg3p7nc0OVxtTwtxObuNEMp4mOfvSVnMbDro6Xlcie+/dPb8XVvASQDXs03qDC9mtqr/z2ndujuHxVEccp1vyaxpXdki1tTU0PxuTvHUJY7SORfBnQi3LD1AX9uKOVukq5Lfzz1OR4n+VNofaftx1AiX2C7czeGoUhj+IagTb+rDW7Y+hEnwZfHDXUudNWtqT5RUwz1TnzZralTTpvG1RpxPGukm1M+kt/YVkEhjzxFz59+5JFHnZSg+iMXVQPzLEcUwFZrfcezKYvQtJ65F0PJA4Lny8+IF+wxnEqzSI15RnGJeYwm/yPFmv8oTbmOpBf9N3nN6ZxHnprKl5b1hX3pNIcOS00YLnIahxMNBculKYqNgmEjp3E40VCwXJqi2CgYNnIah9Pl8XjM9Scllx8yYA2wBtAa2PiH9sZ0kL/4r0fd1IRVEjmNw6lxjx6Ti+DuUTc1IZmL+osKdi40irnDSGlONBSMmylKwzYdJPhH1IQBJScbJxoKxs0UxaLEsJHTOJxoKFguTVFsFAwbOY3DiYaC5dIUxUbBsJHTOJxoKFguTVFsFAwbOY3DiYaC5dIUxUbBsJHTOJxoKFguTVFsFAwbOY3DiYaC5dIUxUbBsJHTOJxoKFguTVFsFAwbOY3DiYaC5dIUxUbBsJHTOJxoKFguTVFsFAwbOY3DiYaC5dIUxUbBsJHTOJxoKFguTVFsFAwbOY3DiYaC5dIUxUbBsJHTOJxoKFguTVFsFAwbOY3DiYaC5dIUxUbBsJHTOJxOMZTo6Sn28IcWZUdTVsybaQ/889HGcNpOWeGdEsWtSSaSU//7Uo8ut6ZUpJvcxU9ZsdcHH7fVmpzzTqVzaU7fNxRJdp4oZZn0K+BCNDh9YXr/kfUyB3Mn8/Ikft5JZqqLj+CU+UgOc4H6miVCU3WJc56a9NfzLS/zCEvqyk3VV1N+TqX/xGizJhG4AYivaE3fN5SNNrmz+cBuDrms6Avbi4G2pQaepnlyFmQ6V4SmzYx40AW8D/Jrip28KorT86pL0zj7xJ+7bLR1nfu5uXN3gqaTDaUkO/KOK4Xkhp0PlAzvOt8b8HKWY99+TUmP7+6vFbs1BbGpdbk1VQfLd10ZPVXbjy76NZWb52ps+UZ1m/8dFVLFuzU1uYs3uRMN5Xtmkpi7YS9TbObhYAO+yuqBRb+mkvBpkikd/Obi1rQ0xv32nI50bZoDbOpQt6b1YKqJ1+3HF2I0FT3pWJcuTK70oORL3m3K+nFKbd+daChFbnk/4W8MffH+ArjPV0l6L4aSddSsUkHUw2hN4fO6m1MylMtllufw8r6i1vhZg45wa5IDBuUtHc6vqTSvcOrjHcr2RfF0u8+36TL/aUMpBVgVpBSD89tbAMnoVrBBhenV1CIpI5abY9zs1tQM3f2jAremBVTES0Zh7tbU1FAHuZOLW7/jNZ0+QhFDWZt3vTjfgq8Ayt0kHUN/PDp9mvZ4xBfA3lnebmsapR9DiXyB7c5dw6mD3OnENhp1wOd1zenrhiLPaTL0K488vmH73mXqC9uLgbcFgE7ncmvKjxcVq6RLHsvgi9kGujXN6a+y1QhTa9yeDlqL0DTPfmOrxfo1FT1S93088mxNLfei5465U+NfN5SUpGIicvf3PW/XSa+X/QVQHa0XQ1leFKdrK5/KXCq5RxZjOJVmEV3OmvQbbwawbZYjTPZiQzjlOpLc+es+RNPyDiznznlzSty0plMMZS9h0dv0hUUf33I8asKokdM4nGgoWC5NUWwUDBs5jcOJhoLl0hTFRsGwkdM4nC6Px2OuPym5/JABa4A1gNbAxj+0N6aD/MV/PeqmJqySyGkcTo179JhcBHePuqkJyVz7lwLsV9+NYu4wvpoTDQXjZorSsE0HCf4RNWFAycnGiYaCcTNFsSgxbOQ0DicaCpZLUxQbBcNGTuNwoqFguTRFsVEwbOQ0DicaCpZLUxQbBcNGTuNwoqFguTRFsVEwbOQ0DicaCpZLUxQbBcNGTuNwoqFguTRFsVEwbOQ0DicaCpZLUxQbBcNGTuNwoqFguTRFsVEwbOQ0DicaCpZLUxQbBcNGTuNwoqFguTRFsVEwbOQ0DicaCpZLUxQbBcNGTuNwoqFguTRFsVEwbOQ0DicaCpZLUxQbBcNGTuNwoqFguTRFsVEwbOQ0DqdzDUX+F/7eeRd2+IcU5WbaA/98tCGalvlm0rHSR+Z52UEAbXJrkhyq/1WoR5dbU7ryTe46mbKi1vSFKSughEtQ1qKnYamnQ9H75Ifvv3XuTjSUSnyvhpKaJVCbhv0+Nft785xGUoy5KHzNEqFpozQbjK0Y5Th+TWlOnudUsv1MqvW8AURMk2rnVPhc1LzY9URf9bLkBfnWms4zlPrOFti0ctH6wmT7ke8E1XOn1efya4qdvCrp82uqr3LbyPWeI8tuTc3d189tFE3rzJ3X6zxtDEUxahhiGdScTjKUMjq53m7zlIbKXRpK0ui7++sUaNh6/8d1Y5LfHdetqTp4LlYZPVXbjy76NS31dV/OnG5eTl1uTU3uVAMfhWS8Gfy73+d/6Vxaj16fbfo0p3MMRRKcL6JXQylAp0mmT/Cbi4Z9uIYWbvfbtE5t4vVit6b1IlQTr9uPL8RoKnrSsbxmkq7ArynVk34Me64fp+TUpA1Er/8dQylg86NEz4aStdUmknT/+N3A8pi4Pobl9Vrj8bL0N8pyzqYgj2uRX/g1VTW2zgf949yli5N6zy/T7/NtoqFIzs3fmxdkAth7m91R4y9KfdBUpD9uXhnZrdL8o4IoThEvGeWy3Joac+sgd3Jx6/ePNWlGev1vjFCqYaj6M2P0exR3Ua6Jl4UfF0CS0SS9H0OJfIHtzl3DqYPcSRnJd6NRduDfLk7N+RWjZj+mS2s65x2KaMuiO32Hkh8nqmFy0vrrF3vzPG8aV2sUrge+dQEc+GkV6je26mAB7yuKHnk03IyK6xMdWPZz2jas9c+ytWSXph3DqDXVy/U5Py1rTTSUilgpRHkpW5lLFXNkUcM+8ttn7HaU531ajNG0bZanVttSiCa5WeWRsO9RNV1FiKZ8A1jqyXlzcmvaMZQ5P+b46l1zOtdQbPUG/UpfGPSjLwdREwaYnMbhREPBcmmKYqNg2MhpHE40FCyXpig2CoaNnMbhdHk8HnP9ScnlhwxYA6wBtAY2/qG9MR3kL/7rUTc1YZVETuNwatyjx+QiuHvUTU1I5oL+ooKdCo5i7jBUmhMNBeNmitKwTQcJ/hE1YUDJycaJhoJxM0WxKDFs5DQOJxoKlktTFBsFw0ZO43CioWC5NEWxUTBs5DQOJxoKlktTFBsFw0ZO43CioWC5NEWxUTBs5DQOJxoKlktTFBsFw0ZO43CioWC5NEWxUTBs5DQOJxoKlktTFBsFw0ZO43CioWC5NEWxUTBs5DQOJxoKlktTFBsFw0ZO43CioWC5NEWxUTBs5DQOJxoKlktTFBsFw0ZO43CioWC5NEWxUTBs5DQOJxoKlktTFBsFw0ZO43CioWC5NEWxUTBs5DQOp3MMpZ5OIGiaA52CmKLcTlkh87zoc6Hrbk0Nt/K/JfTocmtKF9/jlBW1pi6nrKhryzZFiyt3u9NoLJX8bt+HYteaTjGUMt+Nf66Ud9emL+xd7Kt9ebIjKcYM2ac5QtNGaxcTfaU5eZ5z9PYzqdZlFqPNmpwTGNlzV/hc1LzY9URa9fImvx9WojWV0+3r/SBl3a01nWAo4sw2V16Vf1jQF/YhfGd37ORV6QR+TbXMbSPXe44suzU1dzM/t1E0yURx0/U6TxtDUYwahlgGLZxea0oDzSnXaKsX05OitKYTDKU0QjqxfJw3j92r1Re2G/RuozHJ7w7p1lQdPCdfRk/V9qOLfk3lBrHmMI2anLrcmprcqQY+CmmnUZBD/Lvf538pUOvR60ETk7s0JZmv9CIHXmJ07r5vKMt7ABmO5uHexfcosXe9+sL2Yt5uWxrjvrh2Ot7aNG9/+HqnW9N6aNXE6/bjCzGaZNR5cZtJugK/pnLTknzJnVfWj1NyatIGotdPNJT12hsN657WAKtdnxZ17r5vKFqRMhi927quL+zwcbSuvO4zPrcmuYh3xSAx4LdfU2leuUGU5vU9zvo1yahAXlrf59vkuyG4NOl86XUaClitSJhuXOQ3QIyrANLxk67N0N0/KnBrWq47N63ndlvxc2sKao5KUsAIpT5aWv7NI8+qQjPS60Z9rtw1Gla1HKFUKNZFF+x0lAZ4P4aSHhNlRLBesHEhntOPm3ePQ5PLvaD321ycmvMrRs3+91pkb6wmOepe7Vf7PixqTd9/5FEjkvIOxTdE3rtGfWF7MZ+2bRo36/bpjNA0z35jq6/br6noEYPr45Fn27C5xpwjOhenHcOoNdXLdW4+LUdrWs+3o3fd92FBa/q+oWQDLH+eSie/fOGFbLpmfWEfOLzYXZql6PQ9g8dp2jbLC+Hw5hBOuQDlr3a+90xhnJYbV87d5tEVRrMJdHHabdCUR2Fmu1HFa1oueVfvBsfLFa3pFEN5qSZwh76wwEObD0VNGDpyGocTDQXLpSmKjYJhI6dxONFQsFyaotgoGDZyGofT5fF4zPUnJZcfMmANsAbQGtj4h/bGdJC/+K9H3dSEVRI5jcOpcY8ek4vg7lE3NSGZi/oLHXYuNIq5w0hpTjQUjJspSsM2HST4R9SEASUnGycaCsbNFMWixLCR0zicaChYLk1RbBQMGzmNw4mGguXSFMVGwbCR0zicaChYLk1RbBQMGzmNw4mGguXSFMVGwbCR0zicaChYLk1RbBQMGzmNw4mGguXSFMVGwbCR0zicaChYLk1RbBQMGzmNw4mGguXSFMVGwbCR0zicaChYLk1RbBQMGzmNw4mGguXSFMVGwbCR0zicaChYLk1RbBQMGzmNw4mGguXSFMVGwbCR0zicaChYLk1RbBQMGzmNw4mGguXSFMVGwbCR0zicTjKU7fQUMqcLhhGLchdlPQ1D9b/B9Gh1a0qX3uOUFbWmLqesqOtt3CkrsM5YovamyqjzaJzLW9f4CYayJHcpvDzJ0Rfm5tEXdgj2XnAXE32VuVxkzqp+JtV6zmQYMU2qPXcy183WNOqJtOrlvTS/2hatqZxnX+8rDXp7rKZtbeWpeA19qTV931AWF/Tc6TXYvXV9YXsx+DYFG//hJtKtqbmrJF2+ibVG0VTM9TJP1+s8XWpDUYwahpsUvVyxcHqtKQ00y2R3rd6XEpodoZrSDXMzuiw3frl5NSd/sUFr+r6hLI8SR4W+0P9ys76wl4HAjpz8DWzgRzshfk0qyU0R7Jz0wya3pqZBVQN/OP/eboumf/f7/C8dTOvR6ydOTP5SU5L5Su8ekBfbQjk157DdRLWmrxtKceZpvl6f05F+w1z0hTW84A2qieHftYExmpZHxvRepwuT2xae3Hk9OXVx0gai1080lLUCGg3rntYAq12fFkM5qZNZb6Ja00mGcpkvS8V1/w7lXTGoJHxa1bA/xbf7S/PK42Jp3np43/7i0xa/JhkVlHlrptt9vk2+eaBdmnS+9DoNpZREw+VZKZ660rn7uqGUlz1VwX3pEUhf2BPXsaUM13O7rU7n1tQUwW8eL6pL2ln8sSbNSK/TUErOGi6yOT052N/L6Rr/vqHkC/k7hpJGUDIi2OmeQ5s07EM/TsFNEfy4efcuoNG4F/R+m4tTc37FqNn/XovsjdUkR93LabXvw2K0Js/IRKRqTd83lHl5B/AnHnni3p8k4Bq2JAH/LnrE4L5RALgWidw2rPXPsnK09O3itGMYtaZ6uT7np+VoTev5dvSu+z4shGrKOuwjE5GqNZ1gKOnUqQhlrlj/RcjF1N/6wup9+PK2WfDf7UeGaMqJj2MXoml5bE3H+vmL4t0GrevN9s7JxWlX01Ij7/btl9G6NVJTNtq1J6W+qieJ9azvF7SmkwzlvaiIvfrCIo7pPQY1YQTJaRxONBQsl6YoNgqGjZzG4URDwXJpimKjYNjIaRxOl8fjMdeflFx+yIA1wBpAa2DjH9ob086/+K9H3dSEVRI5jcOpeeTpMbkI7h51UxOSuTmPkLHI86KYO4y15kRDwbiZojRs00GCf0RNGFBysnGioWDcTFEsSgwbOY3DiYaC5dIUxUbBsJHTOJz+A0XlURPbRHAkAAAAAElFTkSuQmCC)"
      ]
    },
    {
      "cell_type": "markdown",
      "metadata": {
        "id": "iILrwzLMssFs"
      },
      "source": [
        "P(X=2)=1/36~0.028\n",
        "\n",
        "P(X=3)=2/36=1/18~0.056\n",
        "\n",
        "P(X=4)=3/36=1/12~0.083\n",
        "\n",
        "P(X=5)=4/36=1/9~0.111\n",
        "\n",
        "P(X=6)=5/36=1/18~0.139\n",
        "\n",
        "P(X=7)=6/36=1/6~0.166\n",
        "\n",
        "P(X=8)=5/36=1/18~0.139\n",
        "\n",
        "P(X=9)=4/36=1/9~0.111\n",
        "\n",
        "P(X=10)=3/36=1/12~0.083\n",
        "\n",
        "P(X=11)=2/36=1/18~0.056\n",
        "\n",
        "P(X=12)=1/36~0.028\n",
        "\n",
        "---\n",
        "P(X<=4)=P(X=2) + P(X=3) + P(X=4)=0.028 + 0.056 + 0.083=0.167\n",
        "\n",
        "\n",
        "P(X>4)=1 - P(X<=4)=1 - 0.167=0.833"
      ]
    },
    {
      "cell_type": "code",
      "metadata": {
        "id": "a6XFMuQUG6jO"
      },
      "source": [
        "import pandas as pd\n",
        "import numpy as np\n",
        "import matplotlib.pyplot as plt\n",
        "import scipy.stats as sts\n",
        "import math\n",
        "%matplotlib inline"
      ],
      "execution_count": null,
      "outputs": []
    },
    {
      "cell_type": "markdown",
      "metadata": {
        "id": "5owLnS0MHJnz"
      },
      "source": [
        "## ЦПТ для различных распределений\n",
        "Возьмите то непрерывное распределение, которое вам больше всего понравится из списка доступных в модуле [scipy.stats](https://docs.scipy.org/doc/scipy/reference/stats.html)."
      ]
    },
    {
      "cell_type": "markdown",
      "metadata": {
        "id": "v1IvIGF9IRgH"
      },
      "source": [
        "### Сгенерируйте примеры из распределения"
      ]
    },
    {
      "cell_type": "code",
      "metadata": {
        "id": "l4oTC1NSHvl7",
        "colab": {
          "base_uri": "https://localhost:8080/"
        },
        "outputId": "bfbb5906-c7c1-4afc-e9cf-a2b4227326a0"
      },
      "source": [
        "# ваш код тут\n",
        "# например вот такое распределение https://docs.scipy.org/doc/scipy/reference/generated/scipy.stats.cosine.html#scipy.stats.cosine\n",
        "cosine_rv = sts.cosine(scale=0.5, loc=2.0)\n",
        "sample = cosine_rv.rvs(size=100)\n",
        "sample"
      ],
      "execution_count": null,
      "outputs": [
        {
          "output_type": "execute_result",
          "data": {
            "text/plain": [
              "array([2.75353929, 1.54053268, 1.57869339, 2.73869781, 2.69672081,\n",
              "       2.01833126, 1.76934675, 2.16936204, 2.71117639, 1.76688457,\n",
              "       2.59073189, 2.31394262, 2.64799296, 2.88498247, 1.81520911,\n",
              "       1.6468317 , 1.64973158, 2.25525537, 2.75633215, 2.7669714 ,\n",
              "       1.18527852, 2.14359231, 2.45511919, 1.29263852, 1.84219512,\n",
              "       2.9399046 , 1.44232753, 1.46931238, 2.34944735, 2.45832936,\n",
              "       1.79548215, 1.42796671, 1.18439876, 1.37884303, 1.95004681,\n",
              "       1.4419667 , 1.97904153, 1.50185914, 2.67479965, 2.27856654,\n",
              "       1.56577006, 1.53954346, 2.96623714, 2.66804055, 2.68021566,\n",
              "       1.42387576, 0.66336888, 2.21138168, 2.19447013, 1.62667196,\n",
              "       1.64416434, 2.68774328, 2.22443127, 2.08970347, 1.75507301,\n",
              "       1.81484363, 2.27471829, 2.41571078, 2.41414262, 2.14310131,\n",
              "       2.39644382, 2.87334486, 2.2154171 , 1.85627059, 1.6458294 ,\n",
              "       1.65461591, 1.63669598, 2.61974331, 1.15478621, 1.22284675,\n",
              "       1.46934445, 3.10195514, 2.1036615 , 2.06733578, 2.10280695,\n",
              "       2.83465423, 2.08562656, 0.94719498, 2.3001508 , 1.65025704,\n",
              "       1.35255891, 1.9149109 , 1.73580671, 1.73792441, 1.96302268,\n",
              "       1.86511854, 2.86714741, 1.84437424, 1.85051606, 2.08928755,\n",
              "       1.34477601, 3.01550228, 2.29991823, 1.72559142, 2.16013786,\n",
              "       1.70402738, 2.44412685, 2.77868058, 2.6854351 , 2.80546406])"
            ]
          },
          "metadata": {
            "tags": []
          },
          "execution_count": 71
        }
      ]
    },
    {
      "cell_type": "code",
      "metadata": {
        "id": "ScsjsI4oXgKR",
        "colab": {
          "base_uri": "https://localhost:8080/"
        },
        "outputId": "c9f04a87-796c-498b-f361-7542b6843ded"
      },
      "source": [
        "sample.dtype"
      ],
      "execution_count": null,
      "outputs": [
        {
          "output_type": "execute_result",
          "data": {
            "text/plain": [
              "dtype('float64')"
            ]
          },
          "metadata": {
            "tags": []
          },
          "execution_count": 72
        }
      ]
    },
    {
      "cell_type": "code",
      "metadata": {
        "id": "pXTNSqAOCYX4",
        "colab": {
          "base_uri": "https://localhost:8080/"
        },
        "outputId": "fe52cec4-f1b8-43e7-da65-bc6b638d1796"
      },
      "source": [
        "real_mean = cosine_rv.mean() # настоящее среднее случайной величины\n",
        "real_mean"
      ],
      "execution_count": null,
      "outputs": [
        {
          "output_type": "execute_result",
          "data": {
            "text/plain": [
              "2.0"
            ]
          },
          "metadata": {
            "tags": []
          },
          "execution_count": 73
        }
      ]
    },
    {
      "cell_type": "code",
      "metadata": {
        "id": "5x4hFKaUCWSY",
        "colab": {
          "base_uri": "https://localhost:8080/"
        },
        "outputId": "3f4f4b6e-a9ea-43d9-b340-446b72ff4c5a"
      },
      "source": [
        "real_var = cosine_rv.var() # настоящая дисперсия случайной величины\n",
        "real_var"
      ],
      "execution_count": null,
      "outputs": [
        {
          "output_type": "execute_result",
          "data": {
            "text/plain": [
              "0.3224670334241132"
            ]
          },
          "metadata": {
            "tags": []
          },
          "execution_count": 74
        }
      ]
    },
    {
      "cell_type": "markdown",
      "metadata": {
        "id": "4bNn15giIX77"
      },
      "source": [
        "### Постройте гистограмму выборки и теоретическую плотность распределения"
      ]
    },
    {
      "cell_type": "code",
      "metadata": {
        "id": "CwbvqecvIcXN",
        "colab": {
          "base_uri": "https://localhost:8080/",
          "height": 582
        },
        "outputId": "93f542ec-fb18-4598-e419-5db9c947a714"
      },
      "source": [
        "plt.rcParams.update({'font.size': 16, 'figure.figsize': (16,9)})\n",
        "plt.hist(sample, density=True, edgecolor='black')\n",
        "plt.title('Гистограмма выборки')"
      ],
      "execution_count": null,
      "outputs": [
        {
          "output_type": "execute_result",
          "data": {
            "text/plain": [
              "Text(0.5, 1.0, 'Гистограмма выборки')"
            ]
          },
          "metadata": {
            "tags": []
          },
          "execution_count": 86
        },
        {
          "output_type": "display_data",
          "data": {
            "image/png": "[encoded data removed]",
            "text/plain": [
              "<Figure size 1152x648 with 1 Axes>"
            ]
          },
          "metadata": {
            "tags": [],
            "needs_background": "light"
          }
        }
      ]
    },
    {
      "cell_type": "code",
      "metadata": {
        "colab": {
          "base_uri": "https://localhost:8080/",
          "height": 581
        },
        "id": "_4lfiV9UBP82",
        "outputId": "49cd57ea-21ac-4457-ee40-d5666144ef50"
      },
      "source": [
        "x = np.linspace(0,4,100)\n",
        "loc_, scale_ = sts.cosine.fit(sample)\n",
        "cos_estimated = sts.cosine(loc_, scale_)\n",
        "plt.plot(x, cos_estimated.pdf(x), label='оцененная плотность', alpha=0.5)\n",
        "\n",
        "pdf = cosine_rv.pdf(x)\n",
        "plt.plot(x, pdf, label='теоретическая плотность', alpha=0.5)\n",
        "plt.title('Функция плотности')\n",
        "plt.legend()"
      ],
      "execution_count": null,
      "outputs": [
        {
          "output_type": "execute_result",
          "data": {
            "text/plain": [
              "<matplotlib.legend.Legend at 0x7f308fb20b90>"
            ]
          },
          "metadata": {
            "tags": []
          },
          "execution_count": 78
        },
        {
          "output_type": "display_data",
          "data": {
            "image/png": "[encoded data removed]",
            "text/plain": [
              "<Figure size 1152x648 with 1 Axes>"
            ]
          },
          "metadata": {
            "tags": [],
            "needs_background": "light"
          }
        }
      ]
    },
    {
      "cell_type": "markdown",
      "metadata": {
        "id": "qPuHR68NId_Z"
      },
      "source": [
        "### Оценим распределение выборочного среднего для разных объёмов выборок\n",
        "Для этого постройте на одном полотне гистограмму выборочных средних и теоретическое распределение выборочных средних по ЦПТ для разных объёмов выборок.\n",
        "\n",
        "Для теоретического распределение используйте настоящие значения мат ожидания и дисперсии (не приближенные на основе выборки)."
      ]
    },
    {
      "cell_type": "code",
      "metadata": {
        "id": "_mB8upK7J58w",
        "colab": {
          "base_uri": "https://localhost:8080/",
          "height": 944
        },
        "outputId": "b4616694-0a2d-42f8-9f46-35590abc1e20"
      },
      "source": [
        "plt.rcParams.update({'figure.figsize': (24,16)})\n",
        "for N in [10, 100, 1000, 10000]:\n",
        "  means = []\n",
        "  for i in range(100):\n",
        "    means.append(np.mean(cosine_rv.rvs(N)))\n",
        "  x = np.linspace(1.5,2.5, 100)\n",
        "  cosine2_rv = sts.norm(loc=cosine_rv.mean(), scale=cosine_rv.std() / np.sqrt(N))  \n",
        "  pdf = cosine2_rv.pdf(x)\n",
        "  plt.plot(x, pdf)\n",
        "  plt.hist(means, alpha=0.5, density=True)\n",
        "\n",
        "plt.legend(['10', '100', '1000', '10000'])\n",
        "plt.title('Оценка распределения выборочного среднего для разных объёмов выборок')\n",
        "plt.show()"
      ],
      "execution_count": null,
      "outputs": [
        {
          "output_type": "display_data",
          "data": {
            "image/png": "[encoded data removed]",
            "text/plain": [
              "<Figure size 1728x1152 with 1 Axes>"
            ]
          },
          "metadata": {
            "tags": [],
            "needs_background": "light"
          }
        }
      ]
    },
    {
      "cell_type": "markdown",
      "metadata": {
        "id": "TF1onBy_J7sX"
      },
      "source": [
        "Как вы считаете, для выбранного распределения апроксимация распределения выборочного среднего работает хорошо или плохо?\n",
        "**Ваш ответ:**"
      ]
    },
    {
      "cell_type": "code",
      "metadata": {
        "id": "1BEsK495KIuM"
      },
      "source": [
        "Апроксимация работает хорошо. С увеличением размера выборки разброс значений уменьшается, кривая теоретической плотности огибает гистограмму. ЦПТ работает. "
      ],
      "execution_count": null,
      "outputs": []
    },
    {
      "cell_type": "markdown",
      "metadata": {
        "id": "Y6c2kL9AfZI9"
      },
      "source": [
        "## Доверительный интервал на основе ЦПТ\n",
        "Возьмите данные для оттока телеком компании, и постройте доверительные интервалы для среднего значения total day calls, используя центральную предельную теорему в разбиении по колонке churn (ушел/не ушел). \n",
        "\n",
        "Для оценки дисперсии используйте несмещенную оценку (параметр ddof=1).\n",
        "\n",
        "Сделайте оценку с использованием явной формулы для z интервала, а затем с помощью функций \n",
        "`from statsmodels.stats.weightstats import _zconfint_generic`. Сравните результаты.\n",
        "\n",
        "\n",
        "Ссылка на данные: https://drive.google.com/file/d/1X_drKqoarnU2Sz2har7uSCsgyhh8Xtz8/view?usp=sharing"
      ]
    },
    {
      "cell_type": "code",
      "metadata": {
        "id": "RTm8jr3-fZja",
        "colab": {
          "resources": {
            "http://localhost:8080/nbextensions/google.colab/files.js": {
              "data": "Ly8gQ29weXJpZ2h0IDIwMTcgR29vZ2xlIExMQwovLwovLyBMaWNlbnNlZCB1bmRlciB0aGUgQXBhY2hlIExpY2Vuc2UsIFZlcnNpb24gMi4wICh0aGUgIkxpY2Vuc2UiKTsKLy8geW91IG1heSBub3QgdXNlIHRoaXMgZmlsZSBleGNlcHQgaW4gY29tcGxpYW5jZSB3aXRoIHRoZSBMaWNlbnNlLgovLyBZb3UgbWF5IG9idGFpbiBhIGNvcHkgb2YgdGhlIExpY2Vuc2UgYXQKLy8KLy8gICAgICBodHRwOi8vd3d3LmFwYWNoZS5vcmcvbGljZW5zZXMvTElDRU5TRS0yLjAKLy8KLy8gVW5sZXNzIHJlcXVpcmVkIGJ5IGFwcGxpY2FibGUgbGF3IG9yIGFncmVlZCB0byBpbiB3cml0aW5nLCBzb2Z0d2FyZQovLyBkaXN0cmlidXRlZCB1bmRlciB0aGUgTGljZW5zZSBpcyBkaXN0cmlidXRlZCBvbiBhbiAiQVMgSVMiIEJBU0lTLAovLyBXSVRIT1VUIFdBUlJBTlRJRVMgT1IgQ09ORElUSU9OUyBPRiBBTlkgS0lORCwgZWl0aGVyIGV4cHJlc3Mgb3IgaW1wbGllZC4KLy8gU2VlIHRoZSBMaWNlbnNlIGZvciB0aGUgc3BlY2lmaWMgbGFuZ3VhZ2UgZ292ZXJuaW5nIHBlcm1pc3Npb25zIGFuZAovLyBsaW1pdGF0aW9ucyB1bmRlciB0aGUgTGljZW5zZS4KCi8qKgogKiBAZmlsZW92ZXJ2aWV3IEhlbHBlcnMgZm9yIGdvb2dsZS5jb2xhYiBQeXRob24gbW9kdWxlLgogKi8KKGZ1bmN0aW9uKHNjb3BlKSB7CmZ1bmN0aW9uIHNwYW4odGV4dCwgc3R5bGVBdHRyaWJ1dGVzID0ge30pIHsKICBjb25zdCBlbGVtZW50ID0gZG9jdW1lbnQuY3JlYXRlRWxlbWVudCgnc3BhbicpOwogIGVsZW1lbnQudGV4dENvbnRlbnQgPSB0ZXh0OwogIGZvciAoY29uc3Qga2V5IG9mIE9iamVjdC5rZXlzKHN0eWxlQXR0cmlidXRlcykpIHsKICAgIGVsZW1lbnQuc3R5bGVba2V5XSA9IHN0eWxlQXR0cmlidXRlc1trZXldOwogIH0KICByZXR1cm4gZWxlbWVudDsKfQoKLy8gTWF4IG51bWJlciBvZiBieXRlcyB3aGljaCB3aWxsIGJlIHVwbG9hZGVkIGF0IGEgdGltZS4KY29uc3QgTUFYX1BBWUxPQURfU0laRSA9IDEwMCAqIDEwMjQ7CgpmdW5jdGlvbiBfdXBsb2FkRmlsZXMoaW5wdXRJZCwgb3V0cHV0SWQpIHsKICBjb25zdCBzdGVwcyA9IHVwbG9hZEZpbGVzU3RlcChpbnB1dElkLCBvdXRwdXRJZCk7CiAgY29uc3Qgb3V0cHV0RWxlbWVudCA9IGRvY3VtZW50LmdldEVsZW1lbnRCeUlkKG91dHB1dElkKTsKICAvLyBDYWNoZSBzdGVwcyBvbiB0aGUgb3V0cHV0RWxlbWVudCB0byBtYWtlIGl0IGF2YWlsYWJsZSBmb3IgdGhlIG5leHQgY2FsbAogIC8vIHRvIHVwbG9hZEZpbGVzQ29udGludWUgZnJvbSBQeXRob24uCiAgb3V0cHV0RWxlbWVudC5zdGVwcyA9IHN0ZXBzOwoKICByZXR1cm4gX3VwbG9hZEZpbGVzQ29udGludWUob3V0cHV0SWQpOwp9CgovLyBUaGlzIGlzIHJvdWdobHkgYW4gYXN5bmMgZ2VuZXJhdG9yIChub3Qgc3VwcG9ydGVkIGluIHRoZSBicm93c2VyIHlldCksCi8vIHdoZXJlIHRoZXJlIGFyZSBtdWx0aXBsZSBhc3luY2hyb25vdXMgc3RlcHMgYW5kIHRoZSBQeXRob24gc2lkZSBpcyBnb2luZwovLyB0byBwb2xsIGZvciBjb21wbGV0aW9uIG9mIGVhY2ggc3RlcC4KLy8gVGhpcyB1c2VzIGEgUHJvbWlzZSB0byBibG9jayB0aGUgcHl0aG9uIHNpZGUgb24gY29tcGxldGlvbiBvZiBlYWNoIHN0ZXAsCi8vIHRoZW4gcGFzc2VzIHRoZSByZXN1bHQgb2YgdGhlIHByZXZpb3VzIHN0ZXAgYXMgdGhlIGlucHV0IHRvIHRoZSBuZXh0IHN0ZXAuCmZ1bmN0aW9uIF91cGxvYWRGaWxlc0NvbnRpbnVlKG91dHB1dElkKSB7CiAgY29uc3Qgb3V0cHV0RWxlbWVudCA9IGRvY3VtZW50LmdldEVsZW1lbnRCeUlkKG91dHB1dElkKTsKICBjb25zdCBzdGVwcyA9IG91dHB1dEVsZW1lbnQuc3RlcHM7CgogIGNvbnN0IG5leHQgPSBzdGVwcy5uZXh0KG91dHB1dEVsZW1lbnQubGFzdFByb21pc2VWYWx1ZSk7CiAgcmV0dXJuIFByb21pc2UucmVzb2x2ZShuZXh0LnZhbHVlLnByb21pc2UpLnRoZW4oKHZhbHVlKSA9PiB7CiAgICAvLyBDYWNoZSB0aGUgbGFzdCBwcm9taXNlIHZhbHVlIHRvIG1ha2UgaXQgYXZhaWxhYmxlIHRvIHRoZSBuZXh0CiAgICAvLyBzdGVwIG9mIHRoZSBnZW5lcmF0b3IuCiAgICBvdXRwdXRFbGVtZW50Lmxhc3RQcm9taXNlVmFsdWUgPSB2YWx1ZTsKICAgIHJldHVybiBuZXh0LnZhbHVlLnJlc3BvbnNlOwogIH0pOwp9CgovKioKICogR2VuZXJhdG9yIGZ1bmN0aW9uIHdoaWNoIGlzIGNhbGxlZCBiZXR3ZWVuIGVhY2ggYXN5bmMgc3RlcCBvZiB0aGUgdXBsb2FkCiAqIHByb2Nlc3MuCiAqIEBwYXJhbSB7c3RyaW5nfSBpbnB1dElkIEVsZW1lbnQgSUQgb2YgdGhlIGlucHV0IGZpbGUgcGlja2VyIGVsZW1lbnQuCiAqIEBwYXJhbSB7c3RyaW5nfSBvdXRwdXRJZCBFbGVtZW50IElEIG9mIHRoZSBvdXRwdXQgZGlzcGxheS4KICogQHJldHVybiB7IUl0ZXJhYmxlPCFPYmplY3Q+fSBJdGVyYWJsZSBvZiBuZXh0IHN0ZXBzLgogKi8KZnVuY3Rpb24qIHVwbG9hZEZpbGVzU3RlcChpbnB1dElkLCBvdXRwdXRJZCkgewogIGNvbnN0IGlucHV0RWxlbWVudCA9IGRvY3VtZW50LmdldEVsZW1lbnRCeUlkKGlucHV0SWQpOwogIGlucHV0RWxlbWVudC5kaXNhYmxlZCA9IGZhbHNlOwoKICBjb25zdCBvdXRwdXRFbGVtZW50ID0gZG9jdW1lbnQuZ2V0RWxlbWVudEJ5SWQob3V0cHV0SWQpOwogIG91dHB1dEVsZW1lbnQuaW5uZXJIVE1MID0gJyc7CgogIGNvbnN0IHBpY2tlZFByb21pc2UgPSBuZXcgUHJvbWlzZSgocmVzb2x2ZSkgPT4gewogICAgaW5wdXRFbGVtZW50LmFkZEV2ZW50TGlzdGVuZXIoJ2NoYW5nZScsIChlKSA9PiB7CiAgICAgIHJlc29sdmUoZS50YXJnZXQuZmlsZXMpOwogICAgfSk7CiAgfSk7CgogIGNvbnN0IGNhbmNlbCA9IGRvY3VtZW50LmNyZWF0ZUVsZW1lbnQoJ2J1dHRvbicpOwogIGlucHV0RWxlbWVudC5wYXJlbnRFbGVtZW50LmFwcGVuZENoaWxkKGNhbmNlbCk7CiAgY2FuY2VsLnRleHRDb250ZW50ID0gJ0NhbmNlbCB1cGxvYWQnOwogIGNvbnN0IGNhbmNlbFByb21pc2UgPSBuZXcgUHJvbWlzZSgocmVzb2x2ZSkgPT4gewogICAgY2FuY2VsLm9uY2xpY2sgPSAoKSA9PiB7CiAgICAgIHJlc29sdmUobnVsbCk7CiAgICB9OwogIH0pOwoKICAvLyBXYWl0IGZvciB0aGUgdXNlciB0byBwaWNrIHRoZSBmaWxlcy4KICBjb25zdCBmaWxlcyA9IHlpZWxkIHsKICAgIHByb21pc2U6IFByb21pc2UucmFjZShbcGlja2VkUHJvbWlzZSwgY2FuY2VsUHJvbWlzZV0pLAogICAgcmVzcG9uc2U6IHsKICAgICAgYWN0aW9uOiAnc3RhcnRpbmcnLAogICAgfQogIH07CgogIGNhbmNlbC5yZW1vdmUoKTsKCiAgLy8gRGlzYWJsZSB0aGUgaW5wdXQgZWxlbWVudCBzaW5jZSBmdXJ0aGVyIHBpY2tzIGFyZSBub3QgYWxsb3dlZC4KICBpbnB1dEVsZW1lbnQuZGlzYWJsZWQgPSB0cnVlOwoKICBpZiAoIWZpbGVzKSB7CiAgICByZXR1cm4gewogICAgICByZXNwb25zZTogewogICAgICAgIGFjdGlvbjogJ2NvbXBsZXRlJywKICAgICAgfQogICAgfTsKICB9CgogIGZvciAoY29uc3QgZmlsZSBvZiBmaWxlcykgewogICAgY29uc3QgbGkgPSBkb2N1bWVudC5jcmVhdGVFbGVtZW50KCdsaScpOwogICAgbGkuYXBwZW5kKHNwYW4oZmlsZS5uYW1lLCB7Zm9udFdlaWdodDogJ2JvbGQnfSkpOwogICAgbGkuYXBwZW5kKHNwYW4oCiAgICAgICAgYCgke2ZpbGUudHlwZSB8fCAnbi9hJ30pIC0gJHtmaWxlLnNpemV9IGJ5dGVzLCBgICsKICAgICAgICBgbGFzdCBtb2RpZmllZDogJHsKICAgICAgICAgICAgZmlsZS5sYXN0TW9kaWZpZWREYXRlID8gZmlsZS5sYXN0TW9kaWZpZWREYXRlLnRvTG9jYWxlRGF0ZVN0cmluZygpIDoKICAgICAgICAgICAgICAgICAgICAgICAgICAgICAgICAgICAgJ24vYSd9IC0gYCkpOwogICAgY29uc3QgcGVyY2VudCA9IHNwYW4oJzAlIGRvbmUnKTsKICAgIGxpLmFwcGVuZENoaWxkKHBlcmNlbnQpOwoKICAgIG91dHB1dEVsZW1lbnQuYXBwZW5kQ2hpbGQobGkpOwoKICAgIGNvbnN0IGZpbGVEYXRhUHJvbWlzZSA9IG5ldyBQcm9taXNlKChyZXNvbHZlKSA9PiB7CiAgICAgIGNvbnN0IHJlYWRlciA9IG5ldyBGaWxlUmVhZGVyKCk7CiAgICAgIHJlYWRlci5vbmxvYWQgPSAoZSkgPT4gewogICAgICAgIHJlc29sdmUoZS50YXJnZXQucmVzdWx0KTsKICAgICAgfTsKICAgICAgcmVhZGVyLnJlYWRBc0FycmF5QnVmZmVyKGZpbGUpOwogICAgfSk7CiAgICAvLyBXYWl0IGZvciB0aGUgZGF0YSB0byBiZSByZWFkeS4KICAgIGxldCBmaWxlRGF0YSA9IHlpZWxkIHsKICAgICAgcHJvbWlzZTogZmlsZURhdGFQcm9taXNlLAogICAgICByZXNwb25zZTogewogICAgICAgIGFjdGlvbjogJ2NvbnRpbnVlJywKICAgICAgfQogICAgfTsKCiAgICAvLyBVc2UgYSBjaHVua2VkIHNlbmRpbmcgdG8gYXZvaWQgbWVzc2FnZSBzaXplIGxpbWl0cy4gU2VlIGIvNjIxMTU2NjAuCiAgICBsZXQgcG9zaXRpb24gPSAwOwogICAgZG8gewogICAgICBjb25zdCBsZW5ndGggPSBNYXRoLm1pbihmaWxlRGF0YS5ieXRlTGVuZ3RoIC0gcG9zaXRpb24sIE1BWF9QQVlMT0FEX1NJWkUpOwogICAgICBjb25zdCBjaHVuayA9IG5ldyBVaW50OEFycmF5KGZpbGVEYXRhLCBwb3NpdGlvbiwgbGVuZ3RoKTsKICAgICAgcG9zaXRpb24gKz0gbGVuZ3RoOwoKICAgICAgY29uc3QgYmFzZTY0ID0gYnRvYShTdHJpbmcuZnJvbUNoYXJDb2RlLmFwcGx5KG51bGwsIGNodW5rKSk7CiAgICAgIHlpZWxkIHsKICAgICAgICByZXNwb25zZTogewogICAgICAgICAgYWN0aW9uOiAnYXBwZW5kJywKICAgICAgICAgIGZpbGU6IGZpbGUubmFtZSwKICAgICAgICAgIGRhdGE6IGJhc2U2NCwKICAgICAgICB9LAogICAgICB9OwoKICAgICAgbGV0IHBlcmNlbnREb25lID0gZmlsZURhdGEuYnl0ZUxlbmd0aCA9PT0gMCA/CiAgICAgICAgICAxMDAgOgogICAgICAgICAgTWF0aC5yb3VuZCgocG9zaXRpb24gLyBmaWxlRGF0YS5ieXRlTGVuZ3RoKSAqIDEwMCk7CiAgICAgIHBlcmNlbnQudGV4dENvbnRlbnQgPSBgJHtwZXJjZW50RG9uZX0lIGRvbmVgOwoKICAgIH0gd2hpbGUgKHBvc2l0aW9uIDwgZmlsZURhdGEuYnl0ZUxlbmd0aCk7CiAgfQoKICAvLyBBbGwgZG9uZS4KICB5aWVsZCB7CiAgICByZXNwb25zZTogewogICAgICBhY3Rpb246ICdjb21wbGV0ZScsCiAgICB9CiAgfTsKfQoKc2NvcGUuZ29vZ2xlID0gc2NvcGUuZ29vZ2xlIHx8IHt9OwpzY29wZS5nb29nbGUuY29sYWIgPSBzY29wZS5nb29nbGUuY29sYWIgfHwge307CnNjb3BlLmdvb2dsZS5jb2xhYi5fZmlsZXMgPSB7CiAgX3VwbG9hZEZpbGVzLAogIF91cGxvYWRGaWxlc0NvbnRpbnVlLAp9Owp9KShzZWxmKTsK",
              "ok": true,
              "headers": [
                [
                  "content-type",
                  "application/javascript"
                ]
              ],
              "status": 200,
              "status_text": ""
            }
          },
          "base_uri": "https://localhost:8080/",
          "height": 73
        },
        "outputId": "00c67a7b-d96a-47d2-fb53-e05993acfc1b"
      },
      "source": [
        "from google.colab import files\n",
        "uploaded = files.upload()"
      ],
      "execution_count": null,
      "outputs": [
        {
          "output_type": "display_data",
          "data": {
            "text/html": [
              "\n",
              "     <input type=\"file\" id=\"files-64a6ae66-e41f-417d-8df6-60d5201a91ef\" name=\"files[]\" multiple disabled\n",
              "        style=\"border:none\" />\n",
              "     <output id=\"result-64a6ae66-e41f-417d-8df6-60d5201a91ef\">\n",
              "      Upload widget is only available when the cell has been executed in the\n",
              "      current browser session. Please rerun this cell to enable.\n",
              "      </output>\n",
              "      <script src=\"/nbextensions/google.colab/files.js\"></script> "
            ],
            "text/plain": [
              "<IPython.core.display.HTML object>"
            ]
          },
          "metadata": {
            "tags": []
          }
        },
        {
          "output_type": "stream",
          "text": [
            "Saving telecom_churn.csv to telecom_churn.csv\n"
          ],
          "name": "stdout"
        }
      ]
    },
    {
      "cell_type": "code",
      "metadata": {
        "colab": {
          "base_uri": "https://localhost:8080/",
          "height": 334
        },
        "id": "Bu9xD61wDNnf",
        "outputId": "100c95a2-aaec-4686-e655-0ddca18e7f65"
      },
      "source": [
        "df = pd.read_csv('telecom_churn.csv')\n",
        "df.head()"
      ],
      "execution_count": null,
      "outputs": [
        {
          "output_type": "execute_result",
          "data": {
            "text/html": [
              "<div>\n",
              "<style scoped>\n",
              "    .dataframe tbody tr th:only-of-type {\n",
              "        vertical-align: middle;\n",
              "    }\n",
              "\n",
              "    .dataframe tbody tr th {\n",
              "        vertical-align: top;\n",
              "    }\n",
              "\n",
              "    .dataframe thead th {\n",
              "        text-align: right;\n",
              "    }\n",
              "</style>\n",
              "<table border=\"1\" class=\"dataframe\">\n",
              "  <thead>\n",
              "    <tr style=\"text-align: right;\">\n",
              "      <th></th>\n",
              "      <th>state</th>\n",
              "      <th>account length</th>\n",
              "      <th>area code</th>\n",
              "      <th>phone number</th>\n",
              "      <th>international plan</th>\n",
              "      <th>voice mail plan</th>\n",
              "      <th>number vmail messages</th>\n",
              "      <th>total day minutes</th>\n",
              "      <th>total day calls</th>\n",
              "      <th>total day charge</th>\n",
              "      <th>total eve minutes</th>\n",
              "      <th>total eve calls</th>\n",
              "      <th>total eve charge</th>\n",
              "      <th>total night minutes</th>\n",
              "      <th>total night calls</th>\n",
              "      <th>total night charge</th>\n",
              "      <th>total intl minutes</th>\n",
              "      <th>total intl calls</th>\n",
              "      <th>total intl charge</th>\n",
              "      <th>customer service calls</th>\n",
              "      <th>churn</th>\n",
              "    </tr>\n",
              "  </thead>\n",
              "  <tbody>\n",
              "    <tr>\n",
              "      <th>0</th>\n",
              "      <td>KS</td>\n",
              "      <td>128</td>\n",
              "      <td>415</td>\n",
              "      <td>382-4657</td>\n",
              "      <td>no</td>\n",
              "      <td>yes</td>\n",
              "      <td>25</td>\n",
              "      <td>265.1</td>\n",
              "      <td>110</td>\n",
              "      <td>45.07</td>\n",
              "      <td>197.4</td>\n",
              "      <td>99</td>\n",
              "      <td>16.78</td>\n",
              "      <td>244.7</td>\n",
              "      <td>91</td>\n",
              "      <td>11.01</td>\n",
              "      <td>10.0</td>\n",
              "      <td>3</td>\n",
              "      <td>2.70</td>\n",
              "      <td>1</td>\n",
              "      <td>False</td>\n",
              "    </tr>\n",
              "    <tr>\n",
              "      <th>1</th>\n",
              "      <td>OH</td>\n",
              "      <td>107</td>\n",
              "      <td>415</td>\n",
              "      <td>371-7191</td>\n",
              "      <td>no</td>\n",
              "      <td>yes</td>\n",
              "      <td>26</td>\n",
              "      <td>161.6</td>\n",
              "      <td>123</td>\n",
              "      <td>27.47</td>\n",
              "      <td>195.5</td>\n",
              "      <td>103</td>\n",
              "      <td>16.62</td>\n",
              "      <td>254.4</td>\n",
              "      <td>103</td>\n",
              "      <td>11.45</td>\n",
              "      <td>13.7</td>\n",
              "      <td>3</td>\n",
              "      <td>3.70</td>\n",
              "      <td>1</td>\n",
              "      <td>False</td>\n",
              "    </tr>\n",
              "    <tr>\n",
              "      <th>2</th>\n",
              "      <td>NJ</td>\n",
              "      <td>137</td>\n",
              "      <td>415</td>\n",
              "      <td>358-1921</td>\n",
              "      <td>no</td>\n",
              "      <td>no</td>\n",
              "      <td>0</td>\n",
              "      <td>243.4</td>\n",
              "      <td>114</td>\n",
              "      <td>41.38</td>\n",
              "      <td>121.2</td>\n",
              "      <td>110</td>\n",
              "      <td>10.30</td>\n",
              "      <td>162.6</td>\n",
              "      <td>104</td>\n",
              "      <td>7.32</td>\n",
              "      <td>12.2</td>\n",
              "      <td>5</td>\n",
              "      <td>3.29</td>\n",
              "      <td>0</td>\n",
              "      <td>False</td>\n",
              "    </tr>\n",
              "    <tr>\n",
              "      <th>3</th>\n",
              "      <td>OH</td>\n",
              "      <td>84</td>\n",
              "      <td>408</td>\n",
              "      <td>375-9999</td>\n",
              "      <td>yes</td>\n",
              "      <td>no</td>\n",
              "      <td>0</td>\n",
              "      <td>299.4</td>\n",
              "      <td>71</td>\n",
              "      <td>50.90</td>\n",
              "      <td>61.9</td>\n",
              "      <td>88</td>\n",
              "      <td>5.26</td>\n",
              "      <td>196.9</td>\n",
              "      <td>89</td>\n",
              "      <td>8.86</td>\n",
              "      <td>6.6</td>\n",
              "      <td>7</td>\n",
              "      <td>1.78</td>\n",
              "      <td>2</td>\n",
              "      <td>False</td>\n",
              "    </tr>\n",
              "    <tr>\n",
              "      <th>4</th>\n",
              "      <td>OK</td>\n",
              "      <td>75</td>\n",
              "      <td>415</td>\n",
              "      <td>330-6626</td>\n",
              "      <td>yes</td>\n",
              "      <td>no</td>\n",
              "      <td>0</td>\n",
              "      <td>166.7</td>\n",
              "      <td>113</td>\n",
              "      <td>28.34</td>\n",
              "      <td>148.3</td>\n",
              "      <td>122</td>\n",
              "      <td>12.61</td>\n",
              "      <td>186.9</td>\n",
              "      <td>121</td>\n",
              "      <td>8.41</td>\n",
              "      <td>10.1</td>\n",
              "      <td>3</td>\n",
              "      <td>2.73</td>\n",
              "      <td>3</td>\n",
              "      <td>False</td>\n",
              "    </tr>\n",
              "  </tbody>\n",
              "</table>\n",
              "</div>"
            ],
            "text/plain": [
              "  state  account length  ...  customer service calls  churn\n",
              "0    KS             128  ...                       1  False\n",
              "1    OH             107  ...                       1  False\n",
              "2    NJ             137  ...                       0  False\n",
              "3    OH              84  ...                       2  False\n",
              "4    OK              75  ...                       3  False\n",
              "\n",
              "[5 rows x 21 columns]"
            ]
          },
          "metadata": {
            "tags": []
          },
          "execution_count": 4
        }
      ]
    },
    {
      "cell_type": "code",
      "metadata": {
        "colab": {
          "base_uri": "https://localhost:8080/"
        },
        "id": "093GylTJC_Zs",
        "outputId": "e50be772-3073-4b9f-f088-9a9bf2637059"
      },
      "source": [
        "# Ушедшие клиенты\n",
        "yes_churn = df['total day calls'][df['churn'] == True]\n",
        "print('Count clients: ' + str(yes_churn.size))"
      ],
      "execution_count": null,
      "outputs": [
        {
          "output_type": "stream",
          "text": [
            "Count clients: 483\n"
          ],
          "name": "stdout"
        }
      ]
    },
    {
      "cell_type": "code",
      "metadata": {
        "colab": {
          "base_uri": "https://localhost:8080/"
        },
        "id": "o5G9-c4BDBRb",
        "outputId": "752306e1-af5e-425c-f239-2dca220b809c"
      },
      "source": [
        "# Оставшиеся клиенты\n",
        "no_churn = df['total day calls'][df['churn'] == False]\n",
        "print('Count clients: ' + str(no_churn.size))"
      ],
      "execution_count": null,
      "outputs": [
        {
          "output_type": "stream",
          "text": [
            "Count clients: 2850\n"
          ],
          "name": "stdout"
        }
      ]
    },
    {
      "cell_type": "code",
      "metadata": {
        "colab": {
          "base_uri": "https://localhost:8080/"
        },
        "id": "TzM0phHJDDHe",
        "outputId": "6257071d-3bd7-47f8-e7ba-35d962ef3d27"
      },
      "source": [
        "# Среднеквадратичное отклонение\n",
        "print('Total day calls (churn) std: ' + str(yes_churn.std(ddof=1)))\n",
        "print('Total day calls (no churn) std: ' + str(no_churn.std(ddof=1)))"
      ],
      "execution_count": null,
      "outputs": [
        {
          "output_type": "stream",
          "text": [
            "Total day calls (churn) std: 21.58230721307551\n",
            "Total day calls (no churn) std: 19.801156951805503\n"
          ],
          "name": "stdout"
        }
      ]
    },
    {
      "cell_type": "code",
      "metadata": {
        "colab": {
          "base_uri": "https://localhost:8080/"
        },
        "id": "tcifH5JdDEjM",
        "outputId": "6bfe6145-5f8e-44ce-f690-86fb0b453a7e"
      },
      "source": [
        "from statsmodels.stats.weightstats import _zconfint_generic"
      ],
      "execution_count": null,
      "outputs": [
        {
          "output_type": "stream",
          "text": [
            "/usr/local/lib/python3.7/dist-packages/statsmodels/tools/_testing.py:19: FutureWarning: pandas.util.testing is deprecated. Use the functions in the public API at pandas.testing instead.\n",
            "  import pandas.util.testing as tm\n"
          ],
          "name": "stderr"
        }
      ]
    },
    {
      "cell_type": "code",
      "metadata": {
        "colab": {
          "base_uri": "https://localhost:8080/"
        },
        "id": "xMIIzV9tDF_0",
        "outputId": "7cd3e04a-db80-4b2d-84bf-4bb9ebca3ce0"
      },
      "source": [
        "print('Total day calls (churn) 95%% confidence interval: ' + str(_zconfint_generic(yes_churn.mean(), yes_churn.std(ddof=1), alpha=0.05, alternative='two-sided')))\n",
        "\n",
        "print('Total day calls (no churn) 95%% confidence interval: ' + str(_zconfint_generic(no_churn.mean(), no_churn.std(ddof=1), alpha=0.05, alternative='two-sided')))"
      ],
      "execution_count": null,
      "outputs": [
        {
          "output_type": "stream",
          "text": [
            "Total day calls (churn) 95%% confidence interval: (59.03485888580106, 143.63594856761512)\n",
            "Total day calls (no churn) 95%% confidence interval: (61.47360341697314, 139.09271237250056)\n"
          ],
          "name": "stdout"
        }
      ]
    },
    {
      "cell_type": "markdown",
      "metadata": {
        "id": "FVqeBGqUDHgM"
      },
      "source": [
        "Один интервал входит в другой. Для no churn интервал немного меньше, поскольку данных изначально было больше."
      ]
    }
  ]
}