{
  "nbformat": 4,
  "nbformat_minor": 0,
  "metadata": {
    "colab": {
      "name": "Алексеев Дмитрий Практика к занятию 9.ipynb",
      "provenance": [],
      "collapsed_sections": []
    },
    "kernelspec": {
      "name": "python3",
      "display_name": "Python 3"
    },
    "language_info": {
      "name": "python"
    }
  },
  "cells": [
    {
      "cell_type": "code",
      "metadata": {
        "colab": {
          "base_uri": "https://localhost:8080/"
        },
        "id": "eMSld5G2uZrP",
        "outputId": "1de5127f-0163-49be-e730-3e8ea67b9352"
      },
      "source": [
        "!pip install psycopg2"
      ],
      "execution_count": null,
      "outputs": [
        {
          "output_type": "stream",
          "text": [
            "Requirement already satisfied: psycopg2 in /usr/local/lib/python3.7/dist-packages (2.7.6.1)\n"
          ],
          "name": "stdout"
        }
      ]
    },
    {
      "cell_type": "code",
      "metadata": {
        "id": "D0X_JZvQu16F",
        "colab": {
          "base_uri": "https://localhost:8080/"
        },
        "outputId": "241c2a72-5315-4341-9f44-3fdfd77eac3b"
      },
      "source": [
        "import psycopg2\n",
        "import pandas as pd\n",
        "DB_HOST = '89.223.95.138'\n",
        "DB_USER = 'student_9'\n",
        "DB_USER_PASSWORD = 'student_9'\n",
        "DB_NAME = 'student_9'"
      ],
      "execution_count": null,
      "outputs": [
        {
          "output_type": "stream",
          "text": [
            "/usr/local/lib/python3.7/dist-packages/psycopg2/__init__.py:144: UserWarning: The psycopg2 wheel package will be renamed from release 2.8; in order to keep installing from binary please use \"pip install psycopg2-binary\" instead. For details see: <http://initd.org/psycopg/docs/install.html#binary-install-from-pypi>.\n",
            "  \"\"\")\n"
          ],
          "name": "stderr"
        }
      ]
    },
    {
      "cell_type": "code",
      "metadata": {
        "id": "VVQlWa1oThuY"
      },
      "source": [
        "conn = psycopg2.connect(host=DB_HOST, user=DB_USER, password=DB_USER_PASSWORD, dbname=DB_NAME)"
      ],
      "execution_count": null,
      "outputs": []
    },
    {
      "cell_type": "code",
      "metadata": {
        "colab": {
          "base_uri": "https://localhost:8080/",
          "height": 107
        },
        "id": "eW-uvHRQvIx2",
        "outputId": "ebedbe8e-07be-4689-c93d-331ccd14a87d"
      },
      "source": [
        "# Проверка того, какие таблицы уже есть в базе данных\n",
        "pd.read_sql_query(\"\"\"\n",
        "SELECT *\n",
        "FROM pg_catalog.pg_tables\n",
        "WHERE schemaname != 'pg_catalog' AND \n",
        "    schemaname != 'information_schema'\n",
        "    \"\"\", conn)"
      ],
      "execution_count": null,
      "outputs": [
        {
          "output_type": "execute_result",
          "data": {
            "text/html": [
              "<div>\n",
              "<style scoped>\n",
              "    .dataframe tbody tr th:only-of-type {\n",
              "        vertical-align: middle;\n",
              "    }\n",
              "\n",
              "    .dataframe tbody tr th {\n",
              "        vertical-align: top;\n",
              "    }\n",
              "\n",
              "    .dataframe thead th {\n",
              "        text-align: right;\n",
              "    }\n",
              "</style>\n",
              "<table border=\"1\" class=\"dataframe\">\n",
              "  <thead>\n",
              "    <tr style=\"text-align: right;\">\n",
              "      <th></th>\n",
              "      <th>schemaname</th>\n",
              "      <th>tablename</th>\n",
              "      <th>tableowner</th>\n",
              "      <th>tablespace</th>\n",
              "      <th>hasindexes</th>\n",
              "      <th>hasrules</th>\n",
              "      <th>hastriggers</th>\n",
              "      <th>rowsecurity</th>\n",
              "    </tr>\n",
              "  </thead>\n",
              "  <tbody>\n",
              "    <tr>\n",
              "      <th>0</th>\n",
              "      <td>public</td>\n",
              "      <td>adv_glossary</td>\n",
              "      <td>student_9</td>\n",
              "      <td>None</td>\n",
              "      <td>True</td>\n",
              "      <td>False</td>\n",
              "      <td>True</td>\n",
              "      <td>False</td>\n",
              "    </tr>\n",
              "    <tr>\n",
              "      <th>1</th>\n",
              "      <td>public</td>\n",
              "      <td>adv_events</td>\n",
              "      <td>student_9</td>\n",
              "      <td>None</td>\n",
              "      <td>True</td>\n",
              "      <td>False</td>\n",
              "      <td>True</td>\n",
              "      <td>False</td>\n",
              "    </tr>\n",
              "  </tbody>\n",
              "</table>\n",
              "</div>"
            ],
            "text/plain": [
              "  schemaname     tablename tableowner  ... hasrules  hastriggers  rowsecurity\n",
              "0     public  adv_glossary  student_9  ...    False         True        False\n",
              "1     public    adv_events  student_9  ...    False         True        False\n",
              "\n",
              "[2 rows x 8 columns]"
            ]
          },
          "metadata": {
            "tags": []
          },
          "execution_count": 82
        }
      ]
    },
    {
      "cell_type": "markdown",
      "metadata": {
        "id": "-mTqF0HazHDU"
      },
      "source": [
        "###Логическая модель"
      ]
    },
    {
      "cell_type": "markdown",
      "metadata": {
        "id": "GQ3zsThwykfQ"
      },
      "source": [
        "![image.png](data:image/png;base64,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)"
      ]
    },
    {
      "cell_type": "markdown",
      "metadata": {
        "id": "E7ThvfCXvfMi"
      },
      "source": [
        "### Создание таблиц"
      ]
    },
    {
      "cell_type": "code",
      "metadata": {
        "id": "n_yAMpgPvL8Q"
      },
      "source": [
        "# Таблица \"Страховой агент\"\n",
        "query = \"\"\"\n",
        "CREATE TABLE insurance_agents\n",
        "(\n",
        "  id SERIAL PRIMARY KEY,\n",
        "  last_name CHARACTER VARYING(30) NOT NULL CHECK(last_name != ''),\n",
        "  first_name CHARACTER VARYING(30) NOT NULL CHECK(first_name != ''),\n",
        "\tmiddle_name CHARACTER VARYING(30) NOT NULL CHECK(middle_name != ''),\n",
        "  phone CHARACTER VARYING(18) NOT NULL UNIQUE CHECK(phone != ''),\n",
        "  email CHARACTER VARYING(30) NOT NULL CHECK(email != '') UNIQUE,\n",
        "\tinsurance_percent REAL CHECK((insurance_percent >= 0.2) AND (insurance_percent <= 1)) NOT NULL\n",
        ");\n",
        "\"\"\"\n",
        "conn.cursor().execute(query)\n",
        "conn.commit()"
      ],
      "execution_count": null,
      "outputs": []
    },
    {
      "cell_type": "code",
      "metadata": {
        "id": "KUVufWr-w_XN"
      },
      "source": [
        "# Таблица \"Страхователь\"\n",
        "query = \"\"\"\n",
        "CREATE TABLE insurants\n",
        "(\n",
        "\tid SERIAL PRIMARY KEY,\n",
        "\tlast_name CHARACTER VARYING(30) NOT NULL CHECK(last_name != ''),\n",
        "  first_name CHARACTER VARYING(30) NOT NULL CHECK(first_name != ''),\n",
        "\tmiddle_name CHARACTER VARYING(30) NOT NULL CHECK(middle_name != ''),\n",
        "  phone CHARACTER VARYING(18) NOT NULL UNIQUE CHECK(phone != ''),\n",
        "  email CHARACTER VARYING(30) NOT NULL CHECK(email != '') UNIQUE\n",
        ");\n",
        "\"\"\"\n",
        "conn.cursor().execute(query)\n",
        "conn.commit()"
      ],
      "execution_count": null,
      "outputs": []
    },
    {
      "cell_type": "code",
      "metadata": {
        "id": "b7wTyqC9w_jO"
      },
      "source": [
        "# Таблица \"Выгодоприобретатель\"\n",
        "query = \"\"\"\n",
        "CREATE TABLE beneficiaries\n",
        "(\n",
        "\tid SERIAL PRIMARY KEY,\n",
        "\tlast_name CHARACTER VARYING(30) NOT NULL CHECK(last_name != ''),\n",
        "  first_name CHARACTER VARYING(30) NOT NULL CHECK(first_name != ''),\n",
        "\tmiddle_name CHARACTER VARYING(30) NOT NULL CHECK(middle_name != ''),\n",
        "  phone CHARACTER VARYING(18) NOT NULL UNIQUE CHECK(phone != ''),\n",
        "  email CHARACTER VARYING(30) NOT NULL CHECK(email != '') UNIQUE\n",
        ");\n",
        "\"\"\"\n",
        "conn.cursor().execute(query)\n",
        "conn.commit()"
      ],
      "execution_count": null,
      "outputs": []
    },
    {
      "cell_type": "code",
      "metadata": {
        "id": "GRrt-_sSw_tU"
      },
      "source": [
        "# Таблица \"Страховой полис\"\n",
        "query = \"\"\"\n",
        "CREATE TABLE insuranсe_policies\n",
        "(\n",
        "\tid SERIAL PRIMARY KEY,\n",
        "\tseries_and_number CHARACTER VARYING(10) NOT NULL UNIQUE CHECK(series_and_number != ''),\n",
        "\tobject_insurance CHARACTER VARYING(30) NOT NULL CHECK(object_insurance != ''),\n",
        "\tinsurance_amount NUMERIC(8,2) NOT NULL,\n",
        "\tinsurance_premium NUMERIC(8,2) NOT NULL,\n",
        "\tdate_in DATE NOT NULL,\n",
        "\tdate_out DATE NOT NULL,\n",
        "\tid_agent INTEGER,\n",
        "\tid_insurant INTEGER,\n",
        "\tid_beneficiary INTEGER,\n",
        "\tFOREIGN KEY (id_agent) REFERENCES insurance_agents (id) ON DELETE CASCADE ON UPDATE CASCADE,\n",
        "\tFOREIGN KEY (id_insurant) REFERENCES insurants (id) ON DELETE CASCADE ON UPDATE CASCADE,\n",
        "\tFOREIGN KEY (id_beneficiary) REFERENCES beneficiaries (id) ON DELETE CASCADE ON UPDATE CASCADE\n",
        "); \n",
        "\"\"\"\n",
        "conn.cursor().execute(query)\n",
        "conn.commit()"
      ],
      "execution_count": null,
      "outputs": []
    },
    {
      "cell_type": "code",
      "metadata": {
        "id": "iFxhoftxw_wC"
      },
      "source": [
        "# Таблица \"Страховая выплата\"\n",
        "query = \"\"\"\n",
        "CREATE TABLE insurance_payments\n",
        "(\n",
        "\tid SERIAL PRIMARY KEY,\n",
        "\tamount NUMERIC(8,2) NOT NULL,\n",
        "\tdate DATE NOT NULL,\n",
        "\tterms_and_reasons CHARACTER VARYING(255) NOT NULL CHECK(terms_and_reasons != ''),\n",
        "\tid_policy INTEGER,\n",
        "\tFOREIGN KEY (id_policy) REFERENCES insuranсe_policies(id) ON DELETE CASCADE ON UPDATE CASCADE\n",
        ")\n",
        "\"\"\"\n",
        "conn.cursor().execute(query)\n",
        "conn.commit()"
      ],
      "execution_count": null,
      "outputs": []
    },
    {
      "cell_type": "code",
      "metadata": {
        "colab": {
          "base_uri": "https://localhost:8080/",
          "height": 257
        },
        "id": "ZRMdyQCYNE2b",
        "outputId": "f659344b-3a25-4342-b2bc-5c6d33945052"
      },
      "source": [
        "# Проверка того, что все 5 таблиц были созданы\n",
        "pd.read_sql_query(\"\"\"\n",
        "SELECT *\n",
        "FROM pg_catalog.pg_tables\n",
        "WHERE schemaname != 'pg_catalog' AND \n",
        "    schemaname != 'information_schema'\n",
        "    \"\"\", conn)"
      ],
      "execution_count": null,
      "outputs": [
        {
          "output_type": "execute_result",
          "data": {
            "text/html": [
              "<div>\n",
              "<style scoped>\n",
              "    .dataframe tbody tr th:only-of-type {\n",
              "        vertical-align: middle;\n",
              "    }\n",
              "\n",
              "    .dataframe tbody tr th {\n",
              "        vertical-align: top;\n",
              "    }\n",
              "\n",
              "    .dataframe thead th {\n",
              "        text-align: right;\n",
              "    }\n",
              "</style>\n",
              "<table border=\"1\" class=\"dataframe\">\n",
              "  <thead>\n",
              "    <tr style=\"text-align: right;\">\n",
              "      <th></th>\n",
              "      <th>schemaname</th>\n",
              "      <th>tablename</th>\n",
              "      <th>tableowner</th>\n",
              "      <th>tablespace</th>\n",
              "      <th>hasindexes</th>\n",
              "      <th>hasrules</th>\n",
              "      <th>hastriggers</th>\n",
              "      <th>rowsecurity</th>\n",
              "    </tr>\n",
              "  </thead>\n",
              "  <tbody>\n",
              "    <tr>\n",
              "      <th>0</th>\n",
              "      <td>public</td>\n",
              "      <td>insurance_agents</td>\n",
              "      <td>student_9</td>\n",
              "      <td>None</td>\n",
              "      <td>True</td>\n",
              "      <td>False</td>\n",
              "      <td>True</td>\n",
              "      <td>False</td>\n",
              "    </tr>\n",
              "    <tr>\n",
              "      <th>1</th>\n",
              "      <td>public</td>\n",
              "      <td>insuranсe_policies</td>\n",
              "      <td>student_9</td>\n",
              "      <td>None</td>\n",
              "      <td>True</td>\n",
              "      <td>False</td>\n",
              "      <td>True</td>\n",
              "      <td>False</td>\n",
              "    </tr>\n",
              "    <tr>\n",
              "      <th>2</th>\n",
              "      <td>public</td>\n",
              "      <td>insurants</td>\n",
              "      <td>student_9</td>\n",
              "      <td>None</td>\n",
              "      <td>True</td>\n",
              "      <td>False</td>\n",
              "      <td>True</td>\n",
              "      <td>False</td>\n",
              "    </tr>\n",
              "    <tr>\n",
              "      <th>3</th>\n",
              "      <td>public</td>\n",
              "      <td>beneficiaries</td>\n",
              "      <td>student_9</td>\n",
              "      <td>None</td>\n",
              "      <td>True</td>\n",
              "      <td>False</td>\n",
              "      <td>True</td>\n",
              "      <td>False</td>\n",
              "    </tr>\n",
              "    <tr>\n",
              "      <th>4</th>\n",
              "      <td>public</td>\n",
              "      <td>insurance_payments</td>\n",
              "      <td>student_9</td>\n",
              "      <td>None</td>\n",
              "      <td>True</td>\n",
              "      <td>False</td>\n",
              "      <td>True</td>\n",
              "      <td>False</td>\n",
              "    </tr>\n",
              "    <tr>\n",
              "      <th>5</th>\n",
              "      <td>public</td>\n",
              "      <td>adv_glossary</td>\n",
              "      <td>student_9</td>\n",
              "      <td>None</td>\n",
              "      <td>True</td>\n",
              "      <td>False</td>\n",
              "      <td>True</td>\n",
              "      <td>False</td>\n",
              "    </tr>\n",
              "    <tr>\n",
              "      <th>6</th>\n",
              "      <td>public</td>\n",
              "      <td>adv_events</td>\n",
              "      <td>student_9</td>\n",
              "      <td>None</td>\n",
              "      <td>True</td>\n",
              "      <td>False</td>\n",
              "      <td>True</td>\n",
              "      <td>False</td>\n",
              "    </tr>\n",
              "  </tbody>\n",
              "</table>\n",
              "</div>"
            ],
            "text/plain": [
              "  schemaname           tablename tableowner  ... hasrules  hastriggers  rowsecurity\n",
              "0     public    insurance_agents  student_9  ...    False         True        False\n",
              "1     public  insuranсe_policies  student_9  ...    False         True        False\n",
              "2     public           insurants  student_9  ...    False         True        False\n",
              "3     public       beneficiaries  student_9  ...    False         True        False\n",
              "4     public  insurance_payments  student_9  ...    False         True        False\n",
              "5     public        adv_glossary  student_9  ...    False         True        False\n",
              "6     public          adv_events  student_9  ...    False         True        False\n",
              "\n",
              "[7 rows x 8 columns]"
            ]
          },
          "metadata": {
            "tags": []
          },
          "execution_count": 89
        }
      ]
    },
    {
      "cell_type": "markdown",
      "metadata": {
        "id": "RbmB7DbYHPbD"
      },
      "source": [
        "### Заполнение таблиц"
      ]
    },
    {
      "cell_type": "code",
      "metadata": {
        "id": "H3EE2cuAHZax"
      },
      "source": [
        "# Таблица \"Страховой агент\"\n",
        "queries = []\n",
        "agents = [['Ромашов', 'Евгений', 'Дмитриевич', '+7 (909) 454-51-60', 'romashka5@yandex.ru', 0.26],\n",
        "          ['Скворцова', 'Вероника', 'Игоревна', '+7 (977) 986-10-07', 'SkvorcovaVI@gmail.com', 0.25],\n",
        "          ['Ресин', 'Владимир', 'Иосифович', '+7 (912) 051-42-79', 'resinVI@yandex.ru', 0.31],\n",
        "          ['Исаев', 'Андрей', 'Константинович', '+7 (964) 129-43-78', 'isaevAK@gmail.com', 0.26],\n",
        "          ['Тимофеева', 'Ольга', 'Викторовна', '+7 (923) 339-55-66', 'timofeevaOV@yandex.ru', 0.28],\n",
        "          ['Акимов', 'Максим', 'Алексеевич', '+7 (960) 907-64-99', 'akimovMA@list.ru', 0.36],\n",
        "          ['Еремеев', 'Вадим', 'Юрьевич', '+7 (910)385-48-89', 'ermakov.v.u@mail.ru', 0.27]]\n",
        "for value in agents:\n",
        "  queries.append(f'INSERT INTO insurance_agents (last_name, first_name, middle_name, phone, email, insurance_percent) VALUES {value[0], value[1], value[2], value[3], value[4], value[5]};')\n",
        "\n",
        "for query in queries:\n",
        "  conn.cursor().execute(query)\n",
        "\n",
        "conn.commit()"
      ],
      "execution_count": null,
      "outputs": []
    },
    {
      "cell_type": "code",
      "metadata": {
        "id": "J9D5Mr-RHZkm"
      },
      "source": [
        "# Таблица \"Страхователь\"\n",
        "queries = []\n",
        "policyholders = [['Носков', 'Константин', 'Юрьевич', '+7 (906) 962-15-42', 'NoskovKS@gmail.ru'],\n",
        "                 ['Топилин', 'Максим', 'Анатольевич', '+7 (909) 312-12-73', 'topilinMA@mail.com'],\n",
        "                 ['Алиханов', 'Антон', 'Андреевич', '+7 (910) 459-82-10', 'alihanovAA@mail.ru'],\n",
        "                 ['Голодец','Ольга','Юрьевна','+7 (927) 172-61-32','GolodecOU@yandex.ru'],\n",
        "                 ['Орешкин','Максим','Станиславович','+7 (937) 874-52-92','OreshkinMS@list.ru'],\n",
        "                 ['Колокольцев','Владимир','Александрович','+7 (915) 557-41-08','KolocolcevVA@mail.ru'],\n",
        "                 ['Васильева','Ольга','Юрьевна','+7 (921) 456-21-78','vasilyevOY@gmail.com'],\n",
        "                 ['Мантуров','Денис','Валентинович','+7 (985) 657-91-19','manturovDV@yandex.ru'],\n",
        "                 ['Голикова','Татьяна','Алексеевна','+7 (977) 826-45-51','GolikovaTA@list.ru']]\n",
        "for value in policyholders:\n",
        "  queries.append(f'INSERT INTO insurants (last_name, first_name, middle_name, phone, email) VALUES {value[0], value[1], value[2], value[3], value[4]};');\n",
        "\n",
        "for query in queries:\n",
        "  conn.cursor().execute(query)\n",
        "\n",
        "conn.commit()"
      ],
      "execution_count": null,
      "outputs": []
    },
    {
      "cell_type": "code",
      "metadata": {
        "id": "sFvObD_8HZ1O"
      },
      "source": [
        "# Таблица \"Выгодоприобретатель\"\n",
        "queries = []\n",
        "beneficiaries = [['Алиханов', 'Антон', 'Андреевич', '+7 (910) 459-82-10', 'alihanovAA@mail.ru'],\n",
        "                 ['Трутнев', 'Юрий', 'Петрович', '+7 (907) 802-49-87', 'TrutnevYP@gmail.com'],\n",
        "                 ['Голодец', 'Ольга', 'Юрьевна', '+7 (927) 172-61-32', 'GolodecOU@yandex.ru'],\n",
        "                 ['Колокольцев','Владимир','Александрович','+7 (915) 557-41-08','KolocolcevVA@mail.ru'],\n",
        "                 ['Орешкин','Максим','Станиславович','+7 (937) 874-52-92','OreshkinMS@list.ru'],\n",
        "                 ['Скворцова','Вероника','Игоревна','+7 (912) 946-70-32','SkvorcovaVI@gmail.com'],\n",
        "                 ['Козак','Дмитрий','Николаевич','+7 (977) 321-68-72','kozakDN@gmail.com'],\n",
        "                 ['Зиничев','Евгений','Николаевич','+7 (985) 742-02-14','ZinichevEN@yandex.ru'],\n",
        "                 ['Петрова','Екатерина','Юрьевна','+7 (906) 805-42-95','PetrovaEY@gmail.com']]\n",
        "for value in beneficiaries:\n",
        "  queries.append(f'INSERT INTO beneficiaries (last_name, first_name, middle_name, phone, email) VALUES {value[0], value[1], value[2], value[3], value[4]};');\n",
        "\n",
        "for query in queries:\n",
        "  conn.cursor().execute(query)\n",
        "\n",
        "conn.commit()"
      ],
      "execution_count": null,
      "outputs": []
    },
    {
      "cell_type": "code",
      "metadata": {
        "id": "PzZhhFRsU0_b"
      },
      "source": [
        "# Таблица \"Страховой полис\"\n",
        "queries = []\n",
        "policies = [['0567412354','Автомобиль', 10000, 500, '2015-06-05', '2016-06-05', 3, 3, 1],\n",
        "            ['8315492310','Автомобиль', 23000, 800, '2018-10-10', '2019-10-10', 5, 1, 2],\n",
        "            ['0456489461','Квартира', 500000, 10000, '2017-02-26', '2018-08-26', 5, 9, 8],\n",
        "            ['7894163254','Дом', 675000, 15000, '2019-05-01', '2021-05-01', 7, 5, 5],\n",
        "            ['9541682315','Земельный участок', 300000, 7000, '2018-11-05', '2019-11-05', 1, 7, 7],\n",
        "            ['0524893215','Жизнь', 50000, 2000, '2018-03-11', '2018-09-11', 4, 4, 3],\n",
        "            ['6254971322','Квартира', 450000, 9500, '2010-03-12', '2011-09-12', 6, 8, 6],\n",
        "            ['5324152845','Ювелирные изделия', 100000, 3000, '2019-08-09', '2021-08-09', 2, 6, 4],\n",
        "            ['1597265321','Автомобиль', 5000, 750, '2016-07-16', '2017-07-16', 6, 2, 9],\n",
        "            ['5847846178','Автомобиль', 20000, 900, '2015-03-19', '2016-03-19', 3, 3, 1]]\n",
        "for value in policies:\n",
        "  queries.append(f'INSERT INTO insuranсe_policies (series_and_number, object_insurance, insurance_amount, insurance_premium, date_in, date_out, id_agent, id_insurant, id_beneficiary) VALUES {value[0], value[1], value[2], value[3], value[4], value[5], value[6], value[7], value[8]};');\n",
        "\n",
        "for query in queries:\n",
        "  conn.cursor().execute(query)\n",
        "\n",
        "conn.commit()"
      ],
      "execution_count": null,
      "outputs": []
    },
    {
      "cell_type": "code",
      "metadata": {
        "id": "-9Yth9MSU2G8"
      },
      "source": [
        "# Таблица \"Страховая выплата\"\n",
        "queries = []\n",
        "payouts = [[7500, '2015-09-21', 'Стихийное бедствие', 1],\n",
        "           [25000, '2019-09-01', 'Неурожайный год', 9],\n",
        "           [100000, '2017-12-31', 'Непреднамеренная порча имущества', 3],\n",
        "           [20000, '2019-10-19', 'Непреднамеренная утрата имущества', 8],\n",
        "           [2300, '2017-02-04', 'Повреждение транспортного средства в ДТП, при условии что в нём нет вины владельца', 5]]\n",
        "for value in payouts:\n",
        "  queries.append(f'INSERT INTO insurance_payments (amount, date, terms_and_reasons, id_policy) VALUES {value[0], value[1], value[2], value[3]};');\n",
        "\n",
        "for query in queries:\n",
        "  conn.cursor().execute(query)\n",
        "\n",
        "conn.commit()"
      ],
      "execution_count": null,
      "outputs": []
    },
    {
      "cell_type": "markdown",
      "metadata": {
        "id": "0JfBOPqRXAWS"
      },
      "source": [
        "### Запросы"
      ]
    },
    {
      "cell_type": "code",
      "metadata": {
        "id": "RVgMZfkbXinZ",
        "colab": {
          "base_uri": "https://localhost:8080/",
          "height": 227
        },
        "outputId": "13504b58-3295-4ec0-9daa-e6382bf8f8f7"
      },
      "source": [
        "# Страховая сумма по объектам страхования\n",
        "pd.read_sql_query(\"\"\"\n",
        "SELECT object_insurance      AS \"Объект страхования\",\n",
        "       Sum(insurance_amount) AS \"Общая страховая сумма\",\n",
        "       Avg(insurance_amount),\n",
        "       Min(insurance_amount),\n",
        "       Max(insurance_amount)\n",
        "FROM   insuranсe_policies\n",
        "GROUP  BY object_insurance\n",
        "ORDER  BY Sum(insurance_amount) DESC \n",
        "    \"\"\", conn)"
      ],
      "execution_count": null,
      "outputs": [
        {
          "output_type": "execute_result",
          "data": {
            "text/html": [
              "<div>\n",
              "<style scoped>\n",
              "    .dataframe tbody tr th:only-of-type {\n",
              "        vertical-align: middle;\n",
              "    }\n",
              "\n",
              "    .dataframe tbody tr th {\n",
              "        vertical-align: top;\n",
              "    }\n",
              "\n",
              "    .dataframe thead th {\n",
              "        text-align: right;\n",
              "    }\n",
              "</style>\n",
              "<table border=\"1\" class=\"dataframe\">\n",
              "  <thead>\n",
              "    <tr style=\"text-align: right;\">\n",
              "      <th></th>\n",
              "      <th>Объект страхования</th>\n",
              "      <th>Общая страховая сумма</th>\n",
              "      <th>avg</th>\n",
              "      <th>min</th>\n",
              "      <th>max</th>\n",
              "    </tr>\n",
              "  </thead>\n",
              "  <tbody>\n",
              "    <tr>\n",
              "      <th>0</th>\n",
              "      <td>Квартира</td>\n",
              "      <td>950000.0</td>\n",
              "      <td>475000.0</td>\n",
              "      <td>450000.0</td>\n",
              "      <td>500000.0</td>\n",
              "    </tr>\n",
              "    <tr>\n",
              "      <th>1</th>\n",
              "      <td>Дом</td>\n",
              "      <td>675000.0</td>\n",
              "      <td>675000.0</td>\n",
              "      <td>675000.0</td>\n",
              "      <td>675000.0</td>\n",
              "    </tr>\n",
              "    <tr>\n",
              "      <th>2</th>\n",
              "      <td>Земельный участок</td>\n",
              "      <td>300000.0</td>\n",
              "      <td>300000.0</td>\n",
              "      <td>300000.0</td>\n",
              "      <td>300000.0</td>\n",
              "    </tr>\n",
              "    <tr>\n",
              "      <th>3</th>\n",
              "      <td>Ювелирные изделия</td>\n",
              "      <td>100000.0</td>\n",
              "      <td>100000.0</td>\n",
              "      <td>100000.0</td>\n",
              "      <td>100000.0</td>\n",
              "    </tr>\n",
              "    <tr>\n",
              "      <th>4</th>\n",
              "      <td>Автомобиль</td>\n",
              "      <td>58000.0</td>\n",
              "      <td>14500.0</td>\n",
              "      <td>5000.0</td>\n",
              "      <td>23000.0</td>\n",
              "    </tr>\n",
              "    <tr>\n",
              "      <th>5</th>\n",
              "      <td>Жизнь</td>\n",
              "      <td>50000.0</td>\n",
              "      <td>50000.0</td>\n",
              "      <td>50000.0</td>\n",
              "      <td>50000.0</td>\n",
              "    </tr>\n",
              "  </tbody>\n",
              "</table>\n",
              "</div>"
            ],
            "text/plain": [
              "  Объект страхования  Общая страховая сумма       avg       min       max\n",
              "0           Квартира               950000.0  475000.0  450000.0  500000.0\n",
              "1                Дом               675000.0  675000.0  675000.0  675000.0\n",
              "2  Земельный участок               300000.0  300000.0  300000.0  300000.0\n",
              "3  Ювелирные изделия               100000.0  100000.0  100000.0  100000.0\n",
              "4         Автомобиль                58000.0   14500.0    5000.0   23000.0\n",
              "5              Жизнь                50000.0   50000.0   50000.0   50000.0"
            ]
          },
          "metadata": {
            "tags": []
          },
          "execution_count": 156
        }
      ]
    },
    {
      "cell_type": "code",
      "metadata": {
        "colab": {
          "base_uri": "https://localhost:8080/",
          "height": 227
        },
        "id": "KV3vYOT2E2b3",
        "outputId": "cee61afa-523d-4921-f24f-b447cb9320e0"
      },
      "source": [
        "# Страховая премия по объектам страхования\n",
        "pd.read_sql_query(\"\"\"\n",
        "SELECT object_insurance       AS \"Объект страхования\",\n",
        "       Sum(insurance_premium) AS \"Общая страховая премия\",\n",
        "       Avg(insurance_premium),\n",
        "       Min(insurance_premium),\n",
        "       Max(insurance_premium)\n",
        "FROM   insuranсe_policies\n",
        "GROUP  BY object_insurance\n",
        "ORDER  BY Sum(insurance_premium) DESC \n",
        "    \"\"\", conn)"
      ],
      "execution_count": null,
      "outputs": [
        {
          "output_type": "execute_result",
          "data": {
            "text/html": [
              "<div>\n",
              "<style scoped>\n",
              "    .dataframe tbody tr th:only-of-type {\n",
              "        vertical-align: middle;\n",
              "    }\n",
              "\n",
              "    .dataframe tbody tr th {\n",
              "        vertical-align: top;\n",
              "    }\n",
              "\n",
              "    .dataframe thead th {\n",
              "        text-align: right;\n",
              "    }\n",
              "</style>\n",
              "<table border=\"1\" class=\"dataframe\">\n",
              "  <thead>\n",
              "    <tr style=\"text-align: right;\">\n",
              "      <th></th>\n",
              "      <th>Объект страхования</th>\n",
              "      <th>Общая страховая премия</th>\n",
              "      <th>avg</th>\n",
              "      <th>min</th>\n",
              "      <th>max</th>\n",
              "    </tr>\n",
              "  </thead>\n",
              "  <tbody>\n",
              "    <tr>\n",
              "      <th>0</th>\n",
              "      <td>Квартира</td>\n",
              "      <td>19500.0</td>\n",
              "      <td>9750.0</td>\n",
              "      <td>9500.0</td>\n",
              "      <td>10000.0</td>\n",
              "    </tr>\n",
              "    <tr>\n",
              "      <th>1</th>\n",
              "      <td>Дом</td>\n",
              "      <td>15000.0</td>\n",
              "      <td>15000.0</td>\n",
              "      <td>15000.0</td>\n",
              "      <td>15000.0</td>\n",
              "    </tr>\n",
              "    <tr>\n",
              "      <th>2</th>\n",
              "      <td>Земельный участок</td>\n",
              "      <td>7000.0</td>\n",
              "      <td>7000.0</td>\n",
              "      <td>7000.0</td>\n",
              "      <td>7000.0</td>\n",
              "    </tr>\n",
              "    <tr>\n",
              "      <th>3</th>\n",
              "      <td>Ювелирные изделия</td>\n",
              "      <td>3000.0</td>\n",
              "      <td>3000.0</td>\n",
              "      <td>3000.0</td>\n",
              "      <td>3000.0</td>\n",
              "    </tr>\n",
              "    <tr>\n",
              "      <th>4</th>\n",
              "      <td>Автомобиль</td>\n",
              "      <td>2950.0</td>\n",
              "      <td>737.5</td>\n",
              "      <td>500.0</td>\n",
              "      <td>900.0</td>\n",
              "    </tr>\n",
              "    <tr>\n",
              "      <th>5</th>\n",
              "      <td>Жизнь</td>\n",
              "      <td>2000.0</td>\n",
              "      <td>2000.0</td>\n",
              "      <td>2000.0</td>\n",
              "      <td>2000.0</td>\n",
              "    </tr>\n",
              "  </tbody>\n",
              "</table>\n",
              "</div>"
            ],
            "text/plain": [
              "  Объект страхования  Общая страховая премия      avg      min      max\n",
              "0           Квартира                 19500.0   9750.0   9500.0  10000.0\n",
              "1                Дом                 15000.0  15000.0  15000.0  15000.0\n",
              "2  Земельный участок                  7000.0   7000.0   7000.0   7000.0\n",
              "3  Ювелирные изделия                  3000.0   3000.0   3000.0   3000.0\n",
              "4         Автомобиль                  2950.0    737.5    500.0    900.0\n",
              "5              Жизнь                  2000.0   2000.0   2000.0   2000.0"
            ]
          },
          "metadata": {
            "tags": []
          },
          "execution_count": 157
        }
      ]
    },
    {
      "cell_type": "code",
      "metadata": {
        "id": "p85hIqg0XouZ",
        "colab": {
          "base_uri": "https://localhost:8080/",
          "height": 257
        },
        "outputId": "f690ae8e-a266-471a-fd32-a9f75939c20b"
      },
      "source": [
        "# Продажи по сотрудникам\n",
        "pd.read_sql_query(\"\"\"\n",
        "SELECT last_name                                 AS \"Фамилия\",\n",
        "       first_name                                AS \"Имя\",\n",
        "       middle_name                               AS \"Отчество\",\n",
        "       Count(*)                                  AS \"Кол-во сделок\",\n",
        "       Sum(insurance_amount + insurance_premium) AS \"Сумма сделок\"\n",
        "FROM   insurance_agents\n",
        "       INNER JOIN insuranсe_policies\n",
        "               ON insurance_agents.id = insuranсe_policies.id_agent\n",
        "GROUP  BY last_name,\n",
        "          first_name,\n",
        "          middle_name\n",
        "ORDER  BY last_name \n",
        "    \"\"\", conn)"
      ],
      "execution_count": null,
      "outputs": [
        {
          "output_type": "execute_result",
          "data": {
            "text/html": [
              "<div>\n",
              "<style scoped>\n",
              "    .dataframe tbody tr th:only-of-type {\n",
              "        vertical-align: middle;\n",
              "    }\n",
              "\n",
              "    .dataframe tbody tr th {\n",
              "        vertical-align: top;\n",
              "    }\n",
              "\n",
              "    .dataframe thead th {\n",
              "        text-align: right;\n",
              "    }\n",
              "</style>\n",
              "<table border=\"1\" class=\"dataframe\">\n",
              "  <thead>\n",
              "    <tr style=\"text-align: right;\">\n",
              "      <th></th>\n",
              "      <th>Фамилия</th>\n",
              "      <th>Имя</th>\n",
              "      <th>Отчество</th>\n",
              "      <th>Кол-во сделок</th>\n",
              "      <th>Сумма сделок</th>\n",
              "    </tr>\n",
              "  </thead>\n",
              "  <tbody>\n",
              "    <tr>\n",
              "      <th>0</th>\n",
              "      <td>Акимов</td>\n",
              "      <td>Максим</td>\n",
              "      <td>Алексеевич</td>\n",
              "      <td>2</td>\n",
              "      <td>465250.0</td>\n",
              "    </tr>\n",
              "    <tr>\n",
              "      <th>1</th>\n",
              "      <td>Еремеев</td>\n",
              "      <td>Вадим</td>\n",
              "      <td>Юрьевич</td>\n",
              "      <td>1</td>\n",
              "      <td>690000.0</td>\n",
              "    </tr>\n",
              "    <tr>\n",
              "      <th>2</th>\n",
              "      <td>Исаев</td>\n",
              "      <td>Андрей</td>\n",
              "      <td>Константинович</td>\n",
              "      <td>1</td>\n",
              "      <td>52000.0</td>\n",
              "    </tr>\n",
              "    <tr>\n",
              "      <th>3</th>\n",
              "      <td>Ресин</td>\n",
              "      <td>Владимир</td>\n",
              "      <td>Иосифович</td>\n",
              "      <td>2</td>\n",
              "      <td>31400.0</td>\n",
              "    </tr>\n",
              "    <tr>\n",
              "      <th>4</th>\n",
              "      <td>Ромашов</td>\n",
              "      <td>Евгений</td>\n",
              "      <td>Дмитриевич</td>\n",
              "      <td>1</td>\n",
              "      <td>307000.0</td>\n",
              "    </tr>\n",
              "    <tr>\n",
              "      <th>5</th>\n",
              "      <td>Скворцова</td>\n",
              "      <td>Вероника</td>\n",
              "      <td>Игоревна</td>\n",
              "      <td>1</td>\n",
              "      <td>103000.0</td>\n",
              "    </tr>\n",
              "    <tr>\n",
              "      <th>6</th>\n",
              "      <td>Тимофеева</td>\n",
              "      <td>Ольга</td>\n",
              "      <td>Викторовна</td>\n",
              "      <td>2</td>\n",
              "      <td>533800.0</td>\n",
              "    </tr>\n",
              "  </tbody>\n",
              "</table>\n",
              "</div>"
            ],
            "text/plain": [
              "     Фамилия       Имя        Отчество  Кол-во сделок  Сумма сделок\n",
              "0     Акимов    Максим      Алексеевич              2      465250.0\n",
              "1    Еремеев     Вадим         Юрьевич              1      690000.0\n",
              "2      Исаев    Андрей  Константинович              1       52000.0\n",
              "3      Ресин  Владимир       Иосифович              2       31400.0\n",
              "4    Ромашов   Евгений      Дмитриевич              1      307000.0\n",
              "5  Скворцова  Вероника        Игоревна              1      103000.0\n",
              "6  Тимофеева     Ольга      Викторовна              2      533800.0"
            ]
          },
          "metadata": {
            "tags": []
          },
          "execution_count": 158
        }
      ]
    },
    {
      "cell_type": "code",
      "metadata": {
        "id": "ngIvDC7uXqZ9",
        "colab": {
          "base_uri": "https://localhost:8080/",
          "height": 257
        },
        "outputId": "8391da00-7537-45e1-cb67-36b94403eddc"
      },
      "source": [
        "# Заработки страховых агентов\n",
        "pd.read_sql_query(\"\"\"\n",
        "SELECT last_name                                                         AS\n",
        "       \"Фамилия\",\n",
        "       first_name                                                        AS\n",
        "       \"Имя\",\n",
        "       middle_name                                                       AS\n",
        "       \"Отчество\",\n",
        "       Sum(insurance_percent * ( insurance_amount + insurance_premium )) AS\n",
        "       \"Суммарная выплата агенту\"\n",
        "FROM   insurance_agents\n",
        "       JOIN insuranсe_policies\n",
        "         ON insurance_agents.id = insuranсe_policies.id_agent\n",
        "GROUP  BY last_name,\n",
        "          first_name,\n",
        "          middle_name \n",
        "    \"\"\", conn)"
      ],
      "execution_count": null,
      "outputs": [
        {
          "output_type": "execute_result",
          "data": {
            "text/html": [
              "<div>\n",
              "<style scoped>\n",
              "    .dataframe tbody tr th:only-of-type {\n",
              "        vertical-align: middle;\n",
              "    }\n",
              "\n",
              "    .dataframe tbody tr th {\n",
              "        vertical-align: top;\n",
              "    }\n",
              "\n",
              "    .dataframe thead th {\n",
              "        text-align: right;\n",
              "    }\n",
              "</style>\n",
              "<table border=\"1\" class=\"dataframe\">\n",
              "  <thead>\n",
              "    <tr style=\"text-align: right;\">\n",
              "      <th></th>\n",
              "      <th>Фамилия</th>\n",
              "      <th>Имя</th>\n",
              "      <th>Отчество</th>\n",
              "      <th>Суммарная выплата агенту</th>\n",
              "    </tr>\n",
              "  </thead>\n",
              "  <tbody>\n",
              "    <tr>\n",
              "      <th>0</th>\n",
              "      <td>Исаев</td>\n",
              "      <td>Андрей</td>\n",
              "      <td>Константинович</td>\n",
              "      <td>13519.999504</td>\n",
              "    </tr>\n",
              "    <tr>\n",
              "      <th>1</th>\n",
              "      <td>Ромашов</td>\n",
              "      <td>Евгений</td>\n",
              "      <td>Дмитриевич</td>\n",
              "      <td>79819.997072</td>\n",
              "    </tr>\n",
              "    <tr>\n",
              "      <th>2</th>\n",
              "      <td>Ресин</td>\n",
              "      <td>Владимир</td>\n",
              "      <td>Иосифович</td>\n",
              "      <td>9734.000075</td>\n",
              "    </tr>\n",
              "    <tr>\n",
              "      <th>3</th>\n",
              "      <td>Акимов</td>\n",
              "      <td>Максим</td>\n",
              "      <td>Алексеевич</td>\n",
              "      <td>167490.006655</td>\n",
              "    </tr>\n",
              "    <tr>\n",
              "      <th>4</th>\n",
              "      <td>Еремеев</td>\n",
              "      <td>Вадим</td>\n",
              "      <td>Юрьевич</td>\n",
              "      <td>186300.007403</td>\n",
              "    </tr>\n",
              "    <tr>\n",
              "      <th>5</th>\n",
              "      <td>Тимофеева</td>\n",
              "      <td>Ольга</td>\n",
              "      <td>Викторовна</td>\n",
              "      <td>149464.000636</td>\n",
              "    </tr>\n",
              "    <tr>\n",
              "      <th>6</th>\n",
              "      <td>Скворцова</td>\n",
              "      <td>Вероника</td>\n",
              "      <td>Игоревна</td>\n",
              "      <td>25750.000000</td>\n",
              "    </tr>\n",
              "  </tbody>\n",
              "</table>\n",
              "</div>"
            ],
            "text/plain": [
              "     Фамилия       Имя        Отчество  Суммарная выплата агенту\n",
              "0      Исаев    Андрей  Константинович              13519.999504\n",
              "1    Ромашов   Евгений      Дмитриевич              79819.997072\n",
              "2      Ресин  Владимир       Иосифович               9734.000075\n",
              "3     Акимов    Максим      Алексеевич             167490.006655\n",
              "4    Еремеев     Вадим         Юрьевич             186300.007403\n",
              "5  Тимофеева     Ольга      Викторовна             149464.000636\n",
              "6  Скворцова  Вероника        Игоревна              25750.000000"
            ]
          },
          "metadata": {
            "tags": []
          },
          "execution_count": 47
        }
      ]
    },
    {
      "cell_type": "code",
      "metadata": {
        "id": "fsy7ypbMXqrs",
        "colab": {
          "base_uri": "https://localhost:8080/",
          "height": 137
        },
        "outputId": "833b505e-794f-4b76-aef7-0003002bdf73"
      },
      "source": [
        "# Кол-во людей (сотрудников, клиентов), использующих тот или иной почтовый сервис\n",
        "pd.read_sql_query(\"\"\"\n",
        "SELECT 'gmail'                             AS \"Почтовый сервис\",\n",
        "       Count(last_name)\n",
        "       + (SELECT Count(last_name)\n",
        "          FROM   insurants\n",
        "          WHERE  email LIKE '%@gmail.com')\n",
        "       + (SELECT Count(last_name)\n",
        "          FROM   beneficiaries\n",
        "          WHERE  email LIKE '%@gmail.com') AS\n",
        "       \"Кол-во пользователей\"\n",
        "FROM   insurance_agents\n",
        "WHERE  email LIKE '%@gmail.com'\n",
        "UNION\n",
        "SELECT 'mail'                            AS \"Почтовый сервис\",\n",
        "       Count(last_name)\n",
        "       + (SELECT Count(last_name)\n",
        "          FROM   insurants\n",
        "          WHERE  email LIKE '%@mail.ru')\n",
        "       + (SELECT Count(last_name)\n",
        "          FROM   beneficiaries\n",
        "          WHERE  email LIKE '%@mail.ru') AS\n",
        "       \"Кол-во пользователей\"\n",
        "FROM   insurance_agents\n",
        "WHERE  email LIKE '%@mail.ru'\n",
        "UNION\n",
        "SELECT 'yandex'                            AS \"Почтовый сервис\",\n",
        "       Count(last_name)\n",
        "       + (SELECT Count(last_name)\n",
        "          FROM   insurants\n",
        "          WHERE  email LIKE '%@yandex.ru')\n",
        "       + (SELECT Count(last_name)\n",
        "          FROM   beneficiaries\n",
        "          WHERE  email LIKE '%@yandex.ru') AS\n",
        "       \"Кол-во пользователей\"\n",
        "FROM   insurance_agents\n",
        "WHERE  email LIKE '%@yandex.ru' \n",
        "    \"\"\", conn)"
      ],
      "execution_count": null,
      "outputs": [
        {
          "output_type": "execute_result",
          "data": {
            "text/html": [
              "<div>\n",
              "<style scoped>\n",
              "    .dataframe tbody tr th:only-of-type {\n",
              "        vertical-align: middle;\n",
              "    }\n",
              "\n",
              "    .dataframe tbody tr th {\n",
              "        vertical-align: top;\n",
              "    }\n",
              "\n",
              "    .dataframe thead th {\n",
              "        text-align: right;\n",
              "    }\n",
              "</style>\n",
              "<table border=\"1\" class=\"dataframe\">\n",
              "  <thead>\n",
              "    <tr style=\"text-align: right;\">\n",
              "      <th></th>\n",
              "      <th>Почтовый сервис</th>\n",
              "      <th>Кол-во пользователей</th>\n",
              "    </tr>\n",
              "  </thead>\n",
              "  <tbody>\n",
              "    <tr>\n",
              "      <th>0</th>\n",
              "      <td>gmail</td>\n",
              "      <td>7</td>\n",
              "    </tr>\n",
              "    <tr>\n",
              "      <th>1</th>\n",
              "      <td>yandex</td>\n",
              "      <td>7</td>\n",
              "    </tr>\n",
              "    <tr>\n",
              "      <th>2</th>\n",
              "      <td>mail</td>\n",
              "      <td>5</td>\n",
              "    </tr>\n",
              "  </tbody>\n",
              "</table>\n",
              "</div>"
            ],
            "text/plain": [
              "  Почтовый сервис  Кол-во пользователей\n",
              "0           gmail                     7\n",
              "1          yandex                     7\n",
              "2            mail                     5"
            ]
          },
          "metadata": {
            "tags": []
          },
          "execution_count": 54
        }
      ]
    },
    {
      "cell_type": "code",
      "metadata": {
        "id": "E44s3yaZX73w",
        "colab": {
          "base_uri": "https://localhost:8080/",
          "height": 77
        },
        "outputId": "81fd8af0-aa25-4966-d05f-75a8f9a2fe3a"
      },
      "source": [
        "# Доход и прибыль\n",
        "# НО без учёта выплат страховым агентам\n",
        "pd.read_sql_query(\"\"\"\n",
        "SELECT Sum(insurance_amount)                    AS \"Страховая сумма\",\n",
        "       Sum(insurance_premium)                   AS \"Страховая премия\",\n",
        "       Sum(amount)                              AS \"Страховые выплаты\",\n",
        "       Sum(insurance_amount) +  Sum(insurance_premium)               AS \"Доход\",\n",
        "       Sum(insurance_amount) +  Sum(insurance_premium) - Sum(amount) AS \"Прибыль\"\n",
        "FROM   insurance_payments,\n",
        "       insuranсe_policies\n",
        "    \"\"\", conn)"
      ],
      "execution_count": null,
      "outputs": [
        {
          "output_type": "execute_result",
          "data": {
            "text/html": [
              "<div>\n",
              "<style scoped>\n",
              "    .dataframe tbody tr th:only-of-type {\n",
              "        vertical-align: middle;\n",
              "    }\n",
              "\n",
              "    .dataframe tbody tr th {\n",
              "        vertical-align: top;\n",
              "    }\n",
              "\n",
              "    .dataframe thead th {\n",
              "        text-align: right;\n",
              "    }\n",
              "</style>\n",
              "<table border=\"1\" class=\"dataframe\">\n",
              "  <thead>\n",
              "    <tr style=\"text-align: right;\">\n",
              "      <th></th>\n",
              "      <th>Страховая сумма</th>\n",
              "      <th>Страховая премия</th>\n",
              "      <th>Страховые выплаты</th>\n",
              "      <th>Доход</th>\n",
              "      <th>Прибыль</th>\n",
              "    </tr>\n",
              "  </thead>\n",
              "  <tbody>\n",
              "    <tr>\n",
              "      <th>0</th>\n",
              "      <td>10665000.0</td>\n",
              "      <td>247250.0</td>\n",
              "      <td>1548000.0</td>\n",
              "      <td>10912250.0</td>\n",
              "      <td>9364250.0</td>\n",
              "    </tr>\n",
              "  </tbody>\n",
              "</table>\n",
              "</div>"
            ],
            "text/plain": [
              "   Страховая сумма  Страховая премия  Страховые выплаты       Доход    Прибыль\n",
              "0       10665000.0          247250.0          1548000.0  10912250.0  9364250.0"
            ]
          },
          "metadata": {
            "tags": []
          },
          "execution_count": 56
        }
      ]
    },
    {
      "cell_type": "code",
      "metadata": {
        "colab": {
          "base_uri": "https://localhost:8080/",
          "height": 227
        },
        "id": "JovtQoX6z-qx",
        "outputId": "c727f1b3-0d89-49ca-a1ac-9d8539f02693"
      },
      "source": [
        "# Страховая сумма и премия по годам\n",
        "pd.read_sql_query(\"\"\"\n",
        "SELECT CAST(Extract(year FROM date_in) AS INT)   AS \"Год\",\n",
        "       Sum(insurance_amount)                     AS \"Страховая сумма\",\n",
        "       Sum(insurance_premium)                    AS \"Страховая премия\"\n",
        "FROM   insuranсe_policies\n",
        "GROUP BY Extract(year FROM date_in) \n",
        "ORDER BY Extract(year FROM date_in) \n",
        "    \"\"\", conn)"
      ],
      "execution_count": null,
      "outputs": [
        {
          "output_type": "execute_result",
          "data": {
            "text/html": [
              "<div>\n",
              "<style scoped>\n",
              "    .dataframe tbody tr th:only-of-type {\n",
              "        vertical-align: middle;\n",
              "    }\n",
              "\n",
              "    .dataframe tbody tr th {\n",
              "        vertical-align: top;\n",
              "    }\n",
              "\n",
              "    .dataframe thead th {\n",
              "        text-align: right;\n",
              "    }\n",
              "</style>\n",
              "<table border=\"1\" class=\"dataframe\">\n",
              "  <thead>\n",
              "    <tr style=\"text-align: right;\">\n",
              "      <th></th>\n",
              "      <th>Год</th>\n",
              "      <th>Страховая сумма</th>\n",
              "      <th>Страховая премия</th>\n",
              "    </tr>\n",
              "  </thead>\n",
              "  <tbody>\n",
              "    <tr>\n",
              "      <th>0</th>\n",
              "      <td>2010</td>\n",
              "      <td>450000.0</td>\n",
              "      <td>9500.0</td>\n",
              "    </tr>\n",
              "    <tr>\n",
              "      <th>1</th>\n",
              "      <td>2015</td>\n",
              "      <td>30000.0</td>\n",
              "      <td>1400.0</td>\n",
              "    </tr>\n",
              "    <tr>\n",
              "      <th>2</th>\n",
              "      <td>2016</td>\n",
              "      <td>5000.0</td>\n",
              "      <td>750.0</td>\n",
              "    </tr>\n",
              "    <tr>\n",
              "      <th>3</th>\n",
              "      <td>2017</td>\n",
              "      <td>500000.0</td>\n",
              "      <td>10000.0</td>\n",
              "    </tr>\n",
              "    <tr>\n",
              "      <th>4</th>\n",
              "      <td>2018</td>\n",
              "      <td>373000.0</td>\n",
              "      <td>9800.0</td>\n",
              "    </tr>\n",
              "    <tr>\n",
              "      <th>5</th>\n",
              "      <td>2019</td>\n",
              "      <td>775000.0</td>\n",
              "      <td>18000.0</td>\n",
              "    </tr>\n",
              "  </tbody>\n",
              "</table>\n",
              "</div>"
            ],
            "text/plain": [
              "    Год  Страховая сумма  Страховая премия\n",
              "0  2010         450000.0            9500.0\n",
              "1  2015          30000.0            1400.0\n",
              "2  2016           5000.0             750.0\n",
              "3  2017         500000.0           10000.0\n",
              "4  2018         373000.0            9800.0\n",
              "5  2019         775000.0           18000.0"
            ]
          },
          "metadata": {
            "tags": []
          },
          "execution_count": 11
        }
      ]
    },
    {
      "cell_type": "code",
      "metadata": {
        "colab": {
          "base_uri": "https://localhost:8080/",
          "height": 167
        },
        "id": "anUv9tMTCp2E",
        "outputId": "ee0feda3-f111-44c1-ac2a-d5532b37efcb"
      },
      "source": [
        "# Количество страховых выплат по объектам страхования\n",
        "pd.read_sql_query(\"\"\"\n",
        "SELECT object_insurance AS \"Объект страхования\",\n",
        "       Count(*)         AS \"Количество выплат\"\n",
        "FROM   insuranсe_policies\n",
        "       RIGHT JOIN insurance_payments\n",
        "               ON insuranсe_policies.id = insurance_payments.id_policy\n",
        "GROUP  BY object_insurance\n",
        "ORDER  BY Count(*) DESC \n",
        "    \"\"\", conn)"
      ],
      "execution_count": null,
      "outputs": [
        {
          "output_type": "execute_result",
          "data": {
            "text/html": [
              "<div>\n",
              "<style scoped>\n",
              "    .dataframe tbody tr th:only-of-type {\n",
              "        vertical-align: middle;\n",
              "    }\n",
              "\n",
              "    .dataframe tbody tr th {\n",
              "        vertical-align: top;\n",
              "    }\n",
              "\n",
              "    .dataframe thead th {\n",
              "        text-align: right;\n",
              "    }\n",
              "</style>\n",
              "<table border=\"1\" class=\"dataframe\">\n",
              "  <thead>\n",
              "    <tr style=\"text-align: right;\">\n",
              "      <th></th>\n",
              "      <th>Объект страхования</th>\n",
              "      <th>Количество выплат</th>\n",
              "    </tr>\n",
              "  </thead>\n",
              "  <tbody>\n",
              "    <tr>\n",
              "      <th>0</th>\n",
              "      <td>Автомобиль</td>\n",
              "      <td>2</td>\n",
              "    </tr>\n",
              "    <tr>\n",
              "      <th>1</th>\n",
              "      <td>Земельный участок</td>\n",
              "      <td>1</td>\n",
              "    </tr>\n",
              "    <tr>\n",
              "      <th>2</th>\n",
              "      <td>Квартира</td>\n",
              "      <td>1</td>\n",
              "    </tr>\n",
              "    <tr>\n",
              "      <th>3</th>\n",
              "      <td>Ювелирные изделия</td>\n",
              "      <td>1</td>\n",
              "    </tr>\n",
              "  </tbody>\n",
              "</table>\n",
              "</div>"
            ],
            "text/plain": [
              "  Объект страхования  Количество выплат\n",
              "0         Автомобиль                  2\n",
              "1  Земельный участок                  1\n",
              "2           Квартира                  1\n",
              "3  Ювелирные изделия                  1"
            ]
          },
          "metadata": {
            "tags": []
          },
          "execution_count": 161
        }
      ]
    },
    {
      "cell_type": "code",
      "metadata": {
        "id": "89jwOapQGrkZ"
      },
      "source": [
        "conn.rollback()"
      ],
      "execution_count": null,
      "outputs": []
    },
    {
      "cell_type": "code",
      "metadata": {
        "id": "VR0PEorXGe11"
      },
      "source": [
        ""
      ],
      "execution_count": null,
      "outputs": []
    }
  ]
}