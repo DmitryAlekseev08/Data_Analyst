{
  "nbformat": 4,
  "nbformat_minor": 0,
  "metadata": {
    "colab": {
      "name": "Алексеев_Дмитрий_Проект.ipynb",
      "provenance": [],
      "collapsed_sections": [],
      "toc_visible": true
    },
    "kernelspec": {
      "name": "python3",
      "display_name": "Python 3"
    },
    "language_info": {
      "name": "python"
    }
  },
  "cells": [
    {
      "cell_type": "markdown",
      "metadata": {
        "id": "5EL1Vz7LnlHv"
      },
      "source": [
        "# DVD Rental database\n",
        "База представляет бизнес процессы магазина по аренде DVD.\n",
        "\n",
        "В ней содержится 15 таблиц:\n",
        "\n",
        "1. actor – хранит данные об актерах, включая их имя и фамилию.\n",
        "2. film – хранит данные о фильмах, такие как название, год выпуска, продолжительность, рейтинг и т.д.\n",
        "3. film_actor – хранит связи между фильмами и актерами.\n",
        "4. category – хранит категории фильмов\n",
        "5. film_category - хранит взаимосвязи между фильмами и категориями.\n",
        "6. store – хранит данные магазина, включая управляющий состав и адрес.\n",
        "7. inventory – хранит инвентарные номера фильмов по магазинам.\n",
        "8. rental – хранит данные об аренде.\n",
        "9. payment – хранит платежи клиентов.\n",
        "10. staff – хранит данные персонала магазинов.\n",
        "11. customer – хранит данные клиентов.\n",
        "12. address – хранит адреса для персонала и клиентов.\n",
        "13. city – хранит имена городов.\n",
        "14. country – хранит названия стран.\n",
        "15. language – хранит языки фильмов."
      ]
    },
    {
      "cell_type": "markdown",
      "metadata": {
        "id": "f5F4CwTJmdUc"
      },
      "source": [
        "![схема базы](https://sp.postgresqltutorial.com/wp-content/uploads/2018/03/dvd-rental-sample-database-diagram.png)\n",
        "\n",
        "**В таблице film удалены колонки rental_duration, rental_rate и replacement_cost. Стоимость определяется только по таблице payment**\n",
        "\n",
        "У всех пользователей student_x есть доступ на чтение к этой базе данных. Название **dvdrental**."
      ]
    },
    {
      "cell_type": "markdown",
      "metadata": {
        "id": "w5z8cMwJnyUy"
      },
      "source": [
        "## Задание\n",
        "1. Проведите ABC анализ ассортимента. Выполняется ли для этих данных правило Парето? Если нет, то приведите подходящее на ваш взгляд разбиение\n",
        "2. На основе полученного (общего) анализа ассортимента, оцените средний объем недельной выручки в каждой категории в привязке к дате начала аренды. В какой категории эта оценка имеет меньший разброс?\n",
        "3. Используя оценки выручки из пункта 2 и категоризацию из пункта 1, постройте классификатор фильмов на основе актерского состава, языка, рейтинга (12+, 18+, см колонку rating) и продолжительности. При построении классификатора подберите пороговые значения для каждого класса так, чтобы максимизировать ожидаемую выручку. То-есть нужно предсказывать категории А,B,C. **Дополнительно, при сравнении моделей воспользуйтесь построением доверительных интервалов (t интервалов) для оценки диапазона значений метрик качества для каждого классификатора.**\n",
        "4. В redash постройте дэшборд, отражающий динамику о кол-ве заказов каждую неделю, а также информацию о том какие фильмы ожидают возвращения в магазин и о клиентах (телефон, email), которые должны их вернуть.\n",
        "\n"
      ]
    },
    {
      "cell_type": "code",
      "metadata": {
        "colab": {
          "base_uri": "https://localhost:8080/"
        },
        "id": "pbxQ56fE0SU1",
        "outputId": "16682136-38e8-4f5a-efd5-b3174d19c3cd"
      },
      "source": [
        "!pip install psycopg2"
      ],
      "execution_count": null,
      "outputs": [
        {
          "output_type": "stream",
          "text": [
            "Requirement already satisfied: psycopg2 in /usr/local/lib/python3.7/dist-packages (2.7.6.1)\n"
          ],
          "name": "stdout"
        }
      ]
    },
    {
      "cell_type": "code",
      "metadata": {
        "id": "Reop7nGE0luZ"
      },
      "source": [
        "import psycopg2\n",
        "from math import sqrt\n",
        "import numpy as np\n",
        "import pandas as pd\n",
        "from matplotlib import pyplot as plt\n",
        "import seaborn as sns\n",
        "\n",
        "from sklearn.naive_bayes import GaussianNB\n",
        "from sklearn.linear_model import LogisticRegression\n",
        "from sklearn.svm import SVC\n",
        "from sklearn.neighbors import KNeighborsClassifier\n",
        "from sklearn.tree import DecisionTreeClassifier\n",
        "from sklearn.ensemble import RandomForestClassifier\n",
        "\n",
        "from sklearn import preprocessing\n",
        "from sklearn.model_selection import GridSearchCV\n",
        "from sklearn.model_selection import train_test_split\n",
        "from sklearn.metrics import classification_report\n",
        "from sklearn.model_selection import StratifiedKFold\n",
        "from sklearn.metrics import accuracy_score\n",
        "from sklearn.metrics import confusion_matrix\n",
        "from sklearn.metrics import plot_confusion_matrix\n",
        "from sklearn import model_selection\n",
        "from statsmodels.stats.weightstats import _tconfint_generic\n",
        "%matplotlib inline\n",
        "\n",
        "\n",
        "DB_HOST = '89.223.95.138'\n",
        "DB_USER = 'student_9'\n",
        "DB_USER_PASSWORD = 'student_9'\n",
        "DB_NAME = 'dvdrental'"
      ],
      "execution_count": null,
      "outputs": []
    },
    {
      "cell_type": "code",
      "metadata": {
        "id": "eVmzIf0C0tvE"
      },
      "source": [
        "# Подключение к БД\n",
        "conn = psycopg2.connect(host=DB_HOST, user=DB_USER, password=DB_USER_PASSWORD, dbname=DB_NAME)"
      ],
      "execution_count": null,
      "outputs": []
    },
    {
      "cell_type": "markdown",
      "metadata": {
        "id": "3KhDoE42vhFB"
      },
      "source": [
        "## ABC анализ\n",
        "Задание: Проведите ABC анализ ассортимента. Выполняется ли для этих данных правило Парето? Если нет, то приведите подходящее на ваш взгляд разбиение"
      ]
    },
    {
      "cell_type": "code",
      "metadata": {
        "id": "7TK8l8bI0zd7",
        "colab": {
          "base_uri": "https://localhost:8080/",
          "height": 406
        },
        "outputId": "810728fd-a34f-4ef2-e956-8944efc01a0f"
      },
      "source": [
        "# Запрос на получение записей о фильмах и суммах платежей, полученных по каждому из них\n",
        "abc_data = pd.read_sql_query(\"\"\"SELECT title,\n",
        "       Sum(amount) AS \"amount\"\n",
        "FROM   film\n",
        "       JOIN inventory\n",
        "         ON film.film_id = inventory.film_id\n",
        "       JOIN rental\n",
        "         ON inventory.inventory_id = rental.inventory_id\n",
        "       JOIN payment\n",
        "         ON rental.rental_id = payment.rental_id\n",
        "GROUP BY title  \"\"\", conn)\n",
        "abc_data"
      ],
      "execution_count": null,
      "outputs": [
        {
          "output_type": "execute_result",
          "data": {
            "text/html": [
              "<div>\n",
              "<style scoped>\n",
              "    .dataframe tbody tr th:only-of-type {\n",
              "        vertical-align: middle;\n",
              "    }\n",
              "\n",
              "    .dataframe tbody tr th {\n",
              "        vertical-align: top;\n",
              "    }\n",
              "\n",
              "    .dataframe thead th {\n",
              "        text-align: right;\n",
              "    }\n",
              "</style>\n",
              "<table border=\"1\" class=\"dataframe\">\n",
              "  <thead>\n",
              "    <tr style=\"text-align: right;\">\n",
              "      <th></th>\n",
              "      <th>title</th>\n",
              "      <th>amount</th>\n",
              "    </tr>\n",
              "  </thead>\n",
              "  <tbody>\n",
              "    <tr>\n",
              "      <th>0</th>\n",
              "      <td>Graceland Dynamite</td>\n",
              "      <td>173.77</td>\n",
              "    </tr>\n",
              "    <tr>\n",
              "      <th>1</th>\n",
              "      <td>Opus Ice</td>\n",
              "      <td>281.47</td>\n",
              "    </tr>\n",
              "    <tr>\n",
              "      <th>2</th>\n",
              "      <td>Braveheart Human</td>\n",
              "      <td>111.30</td>\n",
              "    </tr>\n",
              "    <tr>\n",
              "      <th>3</th>\n",
              "      <td>Rush Goodfellas</td>\n",
              "      <td>712.16</td>\n",
              "    </tr>\n",
              "    <tr>\n",
              "      <th>4</th>\n",
              "      <td>Wonderful Drop</td>\n",
              "      <td>228.55</td>\n",
              "    </tr>\n",
              "    <tr>\n",
              "      <th>...</th>\n",
              "      <td>...</td>\n",
              "      <td>...</td>\n",
              "    </tr>\n",
              "    <tr>\n",
              "      <th>953</th>\n",
              "      <td>Mockingbird Hollywood</td>\n",
              "      <td>592.29</td>\n",
              "    </tr>\n",
              "    <tr>\n",
              "      <th>954</th>\n",
              "      <td>Gathering Calendar</td>\n",
              "      <td>240.39</td>\n",
              "    </tr>\n",
              "    <tr>\n",
              "      <th>955</th>\n",
              "      <td>Drums Dynamite</td>\n",
              "      <td>346.98</td>\n",
              "    </tr>\n",
              "    <tr>\n",
              "      <th>956</th>\n",
              "      <td>Samurai Lion</td>\n",
              "      <td>420.06</td>\n",
              "    </tr>\n",
              "    <tr>\n",
              "      <th>957</th>\n",
              "      <td>Pond Seattle</td>\n",
              "      <td>405.36</td>\n",
              "    </tr>\n",
              "  </tbody>\n",
              "</table>\n",
              "<p>958 rows × 2 columns</p>\n",
              "</div>"
            ],
            "text/plain": [
              "                     title  amount\n",
              "0       Graceland Dynamite  173.77\n",
              "1                 Opus Ice  281.47\n",
              "2         Braveheart Human  111.30\n",
              "3          Rush Goodfellas  712.16\n",
              "4           Wonderful Drop  228.55\n",
              "..                     ...     ...\n",
              "953  Mockingbird Hollywood  592.29\n",
              "954     Gathering Calendar  240.39\n",
              "955         Drums Dynamite  346.98\n",
              "956           Samurai Lion  420.06\n",
              "957           Pond Seattle  405.36\n",
              "\n",
              "[958 rows x 2 columns]"
            ]
          },
          "metadata": {
            "tags": []
          },
          "execution_count": 566
        }
      ]
    },
    {
      "cell_type": "markdown",
      "metadata": {
        "id": "IS5ZPXJPZS2R"
      },
      "source": [
        "###Первичный анализ данных"
      ]
    },
    {
      "cell_type": "code",
      "metadata": {
        "colab": {
          "base_uri": "https://localhost:8080/"
        },
        "id": "g6WBnOC0ViPA",
        "outputId": "1b45e719-b26e-4f6d-82d6-ccbf195edefe"
      },
      "source": [
        "# Проверка на отсутствие нулевых значений\n",
        "abc_data['amount'].isnull().value_counts()"
      ],
      "execution_count": null,
      "outputs": [
        {
          "output_type": "execute_result",
          "data": {
            "text/plain": [
              "False    958\n",
              "Name: amount, dtype: int64"
            ]
          },
          "metadata": {
            "tags": []
          },
          "execution_count": 567
        }
      ]
    },
    {
      "cell_type": "code",
      "metadata": {
        "colab": {
          "base_uri": "https://localhost:8080/",
          "height": 287
        },
        "id": "7rmULS2LV_um",
        "outputId": "1f39d3b9-53cb-4a76-8038-5567e11fa284"
      },
      "source": [
        "abc_data.describe()\n",
        "# Большое отклонение от среднего, нужно проверить на аномалии"
      ],
      "execution_count": null,
      "outputs": [
        {
          "output_type": "execute_result",
          "data": {
            "text/html": [
              "<div>\n",
              "<style scoped>\n",
              "    .dataframe tbody tr th:only-of-type {\n",
              "        vertical-align: middle;\n",
              "    }\n",
              "\n",
              "    .dataframe tbody tr th {\n",
              "        vertical-align: top;\n",
              "    }\n",
              "\n",
              "    .dataframe thead th {\n",
              "        text-align: right;\n",
              "    }\n",
              "</style>\n",
              "<table border=\"1\" class=\"dataframe\">\n",
              "  <thead>\n",
              "    <tr style=\"text-align: right;\">\n",
              "      <th></th>\n",
              "      <th>amount</th>\n",
              "    </tr>\n",
              "  </thead>\n",
              "  <tbody>\n",
              "    <tr>\n",
              "      <th>count</th>\n",
              "      <td>958.000000</td>\n",
              "    </tr>\n",
              "    <tr>\n",
              "      <th>mean</th>\n",
              "      <td>391.292547</td>\n",
              "    </tr>\n",
              "    <tr>\n",
              "      <th>std</th>\n",
              "      <td>171.140481</td>\n",
              "    </tr>\n",
              "    <tr>\n",
              "      <th>min</th>\n",
              "      <td>36.900000</td>\n",
              "    </tr>\n",
              "    <tr>\n",
              "      <th>25%</th>\n",
              "      <td>249.927500</td>\n",
              "    </tr>\n",
              "    <tr>\n",
              "      <th>50%</th>\n",
              "      <td>379.940000</td>\n",
              "    </tr>\n",
              "    <tr>\n",
              "      <th>75%</th>\n",
              "      <td>504.235000</td>\n",
              "    </tr>\n",
              "    <tr>\n",
              "      <th>max</th>\n",
              "      <td>930.620000</td>\n",
              "    </tr>\n",
              "  </tbody>\n",
              "</table>\n",
              "</div>"
            ],
            "text/plain": [
              "           amount\n",
              "count  958.000000\n",
              "mean   391.292547\n",
              "std    171.140481\n",
              "min     36.900000\n",
              "25%    249.927500\n",
              "50%    379.940000\n",
              "75%    504.235000\n",
              "max    930.620000"
            ]
          },
          "metadata": {
            "tags": []
          },
          "execution_count": 568
        }
      ]
    },
    {
      "cell_type": "code",
      "metadata": {
        "colab": {
          "base_uri": "https://localhost:8080/",
          "height": 651
        },
        "id": "PCA4ccDNWi2U",
        "outputId": "85ff1eec-0988-44a0-eb7b-7d7d7ea9984d"
      },
      "source": [
        "# Проверка на аномалии\n",
        "plt.rcParams.update({'font.size': 18, 'figure.figsize':(16,9)})\n",
        "sns.boxplot(abc_data['amount'])"
      ],
      "execution_count": null,
      "outputs": [
        {
          "output_type": "stream",
          "text": [
            "/usr/local/lib/python3.7/dist-packages/seaborn/_decorators.py:43: FutureWarning: Pass the following variable as a keyword arg: x. From version 0.12, the only valid positional argument will be `data`, and passing other arguments without an explicit keyword will result in an error or misinterpretation.\n",
            "  FutureWarning\n"
          ],
          "name": "stderr"
        },
        {
          "output_type": "execute_result",
          "data": {
            "text/plain": [
              "<matplotlib.axes._subplots.AxesSubplot at 0x7efd99984210>"
            ]
          },
          "metadata": {
            "tags": []
          },
          "execution_count": 569
        },
        {
          "output_type": "display_data",
          "data": {
            "image/png": "[encoded data removed]",
            "text/plain": [
              "<Figure size 1152x648 with 1 Axes>"
            ]
          },
          "metadata": {
            "tags": [],
            "needs_background": "light"
          }
        }
      ]
    },
    {
      "cell_type": "code",
      "metadata": {
        "colab": {
          "base_uri": "https://localhost:8080/"
        },
        "id": "gc5E0LMrXHZ_",
        "outputId": "23bf651d-6e38-4da6-f83b-8d9261c68010"
      },
      "source": [
        "# Посмотрим самые большие значения\n",
        "abc_data['amount'][abc_data['amount'] > 800]\n",
        "# Уберу значения больше 900"
      ],
      "execution_count": null,
      "outputs": [
        {
          "output_type": "execute_result",
          "data": {
            "text/plain": [
              "80     804.94\n",
              "135    842.55\n",
              "163    911.81\n",
              "640    930.62\n",
              "652    802.53\n",
              "746    849.70\n",
              "790    925.53\n",
              "818    811.93\n",
              "833    823.30\n",
              "Name: amount, dtype: float64"
            ]
          },
          "metadata": {
            "tags": []
          },
          "execution_count": 570
        }
      ]
    },
    {
      "cell_type": "code",
      "metadata": {
        "colab": {
          "base_uri": "https://localhost:8080/",
          "height": 651
        },
        "id": "7EW0n78EYVWH",
        "outputId": "220bfb4d-4194-46fb-9c97-7ac3b352491e"
      },
      "source": [
        "# Повторная проверка на аномалии\n",
        "abc_data = abc_data.drop(abc_data[abc_data['amount']>900].index)\n",
        "sns.boxplot(abc_data['amount'])\n",
        "# Теперь можно приступать к ABC анализу"
      ],
      "execution_count": null,
      "outputs": [
        {
          "output_type": "stream",
          "text": [
            "/usr/local/lib/python3.7/dist-packages/seaborn/_decorators.py:43: FutureWarning: Pass the following variable as a keyword arg: x. From version 0.12, the only valid positional argument will be `data`, and passing other arguments without an explicit keyword will result in an error or misinterpretation.\n",
            "  FutureWarning\n"
          ],
          "name": "stderr"
        },
        {
          "output_type": "execute_result",
          "data": {
            "text/plain": [
              "<matplotlib.axes._subplots.AxesSubplot at 0x7efd99886110>"
            ]
          },
          "metadata": {
            "tags": []
          },
          "execution_count": 571
        },
        {
          "output_type": "display_data",
          "data": {
            "image/png": "[encoded data removed]",
            "text/plain": [
              "<Figure size 1152x648 with 1 Axes>"
            ]
          },
          "metadata": {
            "tags": [],
            "needs_background": "light"
          }
        }
      ]
    },
    {
      "cell_type": "markdown",
      "metadata": {
        "id": "gdL45ILAZypo"
      },
      "source": [
        "### Классификация ресурсов"
      ]
    },
    {
      "cell_type": "code",
      "metadata": {
        "colab": {
          "base_uri": "https://localhost:8080/"
        },
        "id": "E34GNsqS51_H",
        "outputId": "5d3592e4-09a5-4daa-f452-e93ed9050167"
      },
      "source": [
        "# Общая выручка (по всем фильмам)\n",
        "revenue = abc_data['amount'].sum()\n",
        "print('Revenue: ', revenue)"
      ],
      "execution_count": null,
      "outputs": [
        {
          "output_type": "stream",
          "text": [
            "Revenue:  372090.30000000005\n"
          ],
          "name": "stdout"
        }
      ]
    },
    {
      "cell_type": "code",
      "metadata": {
        "colab": {
          "base_uri": "https://localhost:8080/",
          "height": 406
        },
        "id": "lmYqBA1W8tT-",
        "outputId": "8b0ef6c4-711d-4b56-913b-de2361488cbd"
      },
      "source": [
        "# Вклад каждого фильма в общую выручку\n",
        "# contribution - вклад\n",
        "abc_data['contribution'] = abc_data['amount'] / revenue\n",
        "abc_data = abc_data.sort_values(by=['contribution'], ascending=False)\n",
        "# Расчёт кумулятивной суммы\n",
        "abc_data['cumsum'] = abc_data['contribution'].cumsum()\n",
        "abc_data"
      ],
      "execution_count": null,
      "outputs": [
        {
          "output_type": "execute_result",
          "data": {
            "text/html": [
              "<div>\n",
              "<style scoped>\n",
              "    .dataframe tbody tr th:only-of-type {\n",
              "        vertical-align: middle;\n",
              "    }\n",
              "\n",
              "    .dataframe tbody tr th {\n",
              "        vertical-align: top;\n",
              "    }\n",
              "\n",
              "    .dataframe thead th {\n",
              "        text-align: right;\n",
              "    }\n",
              "</style>\n",
              "<table border=\"1\" class=\"dataframe\">\n",
              "  <thead>\n",
              "    <tr style=\"text-align: right;\">\n",
              "      <th></th>\n",
              "      <th>title</th>\n",
              "      <th>amount</th>\n",
              "      <th>contribution</th>\n",
              "      <th>cumsum</th>\n",
              "    </tr>\n",
              "  </thead>\n",
              "  <tbody>\n",
              "    <tr>\n",
              "      <th>746</th>\n",
              "      <td>Gleaming Jawbreaker</td>\n",
              "      <td>849.70</td>\n",
              "      <td>0.002284</td>\n",
              "      <td>0.002284</td>\n",
              "    </tr>\n",
              "    <tr>\n",
              "      <th>135</th>\n",
              "      <td>Apache Divine</td>\n",
              "      <td>842.55</td>\n",
              "      <td>0.002264</td>\n",
              "      <td>0.004548</td>\n",
              "    </tr>\n",
              "    <tr>\n",
              "      <th>833</th>\n",
              "      <td>Deer Virginian</td>\n",
              "      <td>823.30</td>\n",
              "      <td>0.002213</td>\n",
              "      <td>0.006761</td>\n",
              "    </tr>\n",
              "    <tr>\n",
              "      <th>818</th>\n",
              "      <td>Storm Happiness</td>\n",
              "      <td>811.93</td>\n",
              "      <td>0.002182</td>\n",
              "      <td>0.008943</td>\n",
              "    </tr>\n",
              "    <tr>\n",
              "      <th>80</th>\n",
              "      <td>Greatest North</td>\n",
              "      <td>804.94</td>\n",
              "      <td>0.002163</td>\n",
              "      <td>0.011106</td>\n",
              "    </tr>\n",
              "    <tr>\n",
              "      <th>...</th>\n",
              "      <td>...</td>\n",
              "      <td>...</td>\n",
              "      <td>...</td>\n",
              "      <td>...</td>\n",
              "    </tr>\n",
              "    <tr>\n",
              "      <th>176</th>\n",
              "      <td>Cruelty Unforgiven</td>\n",
              "      <td>93.04</td>\n",
              "      <td>0.000250</td>\n",
              "      <td>0.999245</td>\n",
              "    </tr>\n",
              "    <tr>\n",
              "      <th>287</th>\n",
              "      <td>Mixed Doors</td>\n",
              "      <td>88.23</td>\n",
              "      <td>0.000237</td>\n",
              "      <td>0.999482</td>\n",
              "    </tr>\n",
              "    <tr>\n",
              "      <th>61</th>\n",
              "      <td>Slacker Liaisons</td>\n",
              "      <td>86.84</td>\n",
              "      <td>0.000233</td>\n",
              "      <td>0.999716</td>\n",
              "    </tr>\n",
              "    <tr>\n",
              "      <th>461</th>\n",
              "      <td>Flight Lies</td>\n",
              "      <td>68.88</td>\n",
              "      <td>0.000185</td>\n",
              "      <td>0.999901</td>\n",
              "    </tr>\n",
              "    <tr>\n",
              "      <th>512</th>\n",
              "      <td>Drumline Cyclone</td>\n",
              "      <td>36.90</td>\n",
              "      <td>0.000099</td>\n",
              "      <td>1.000000</td>\n",
              "    </tr>\n",
              "  </tbody>\n",
              "</table>\n",
              "<p>955 rows × 4 columns</p>\n",
              "</div>"
            ],
            "text/plain": [
              "                   title  amount  contribution    cumsum\n",
              "746  Gleaming Jawbreaker  849.70      0.002284  0.002284\n",
              "135        Apache Divine  842.55      0.002264  0.004548\n",
              "833       Deer Virginian  823.30      0.002213  0.006761\n",
              "818      Storm Happiness  811.93      0.002182  0.008943\n",
              "80        Greatest North  804.94      0.002163  0.011106\n",
              "..                   ...     ...           ...       ...\n",
              "176   Cruelty Unforgiven   93.04      0.000250  0.999245\n",
              "287          Mixed Doors   88.23      0.000237  0.999482\n",
              "61      Slacker Liaisons   86.84      0.000233  0.999716\n",
              "461          Flight Lies   68.88      0.000185  0.999901\n",
              "512     Drumline Cyclone   36.90      0.000099  1.000000\n",
              "\n",
              "[955 rows x 4 columns]"
            ]
          },
          "metadata": {
            "tags": []
          },
          "execution_count": 573
        }
      ]
    },
    {
      "cell_type": "code",
      "metadata": {
        "id": "UFd-WxgWAZei"
      },
      "source": [
        "# Функция для классификации ресурсов\n",
        "# 80% продаж - группа А\n",
        "# 15% - группа B\n",
        "# 5% - группа С\n",
        "def ABC_analysis(percent):\n",
        "  if percent < 0.8:\n",
        "    return 'A'\n",
        "  elif percent >= 0.8 and percent < 0.95:\n",
        "    return 'B'\n",
        "  else:\n",
        "    return 'C'"
      ],
      "execution_count": null,
      "outputs": []
    },
    {
      "cell_type": "code",
      "metadata": {
        "colab": {
          "base_uri": "https://localhost:8080/",
          "height": 406
        },
        "id": "LlHFozyIBRNY",
        "outputId": "8460bb7d-18a8-408e-b24c-58fe443940a8"
      },
      "source": [
        "# Применение функции для классификации к стоблцу contribution\n",
        "abc_data['category'] = abc_data['cumsum'].apply(ABC_analysis)\n",
        "abc_data"
      ],
      "execution_count": null,
      "outputs": [
        {
          "output_type": "execute_result",
          "data": {
            "text/html": [
              "<div>\n",
              "<style scoped>\n",
              "    .dataframe tbody tr th:only-of-type {\n",
              "        vertical-align: middle;\n",
              "    }\n",
              "\n",
              "    .dataframe tbody tr th {\n",
              "        vertical-align: top;\n",
              "    }\n",
              "\n",
              "    .dataframe thead th {\n",
              "        text-align: right;\n",
              "    }\n",
              "</style>\n",
              "<table border=\"1\" class=\"dataframe\">\n",
              "  <thead>\n",
              "    <tr style=\"text-align: right;\">\n",
              "      <th></th>\n",
              "      <th>title</th>\n",
              "      <th>amount</th>\n",
              "      <th>contribution</th>\n",
              "      <th>cumsum</th>\n",
              "      <th>category</th>\n",
              "    </tr>\n",
              "  </thead>\n",
              "  <tbody>\n",
              "    <tr>\n",
              "      <th>746</th>\n",
              "      <td>Gleaming Jawbreaker</td>\n",
              "      <td>849.70</td>\n",
              "      <td>0.002284</td>\n",
              "      <td>0.002284</td>\n",
              "      <td>A</td>\n",
              "    </tr>\n",
              "    <tr>\n",
              "      <th>135</th>\n",
              "      <td>Apache Divine</td>\n",
              "      <td>842.55</td>\n",
              "      <td>0.002264</td>\n",
              "      <td>0.004548</td>\n",
              "      <td>A</td>\n",
              "    </tr>\n",
              "    <tr>\n",
              "      <th>833</th>\n",
              "      <td>Deer Virginian</td>\n",
              "      <td>823.30</td>\n",
              "      <td>0.002213</td>\n",
              "      <td>0.006761</td>\n",
              "      <td>A</td>\n",
              "    </tr>\n",
              "    <tr>\n",
              "      <th>818</th>\n",
              "      <td>Storm Happiness</td>\n",
              "      <td>811.93</td>\n",
              "      <td>0.002182</td>\n",
              "      <td>0.008943</td>\n",
              "      <td>A</td>\n",
              "    </tr>\n",
              "    <tr>\n",
              "      <th>80</th>\n",
              "      <td>Greatest North</td>\n",
              "      <td>804.94</td>\n",
              "      <td>0.002163</td>\n",
              "      <td>0.011106</td>\n",
              "      <td>A</td>\n",
              "    </tr>\n",
              "    <tr>\n",
              "      <th>...</th>\n",
              "      <td>...</td>\n",
              "      <td>...</td>\n",
              "      <td>...</td>\n",
              "      <td>...</td>\n",
              "      <td>...</td>\n",
              "    </tr>\n",
              "    <tr>\n",
              "      <th>176</th>\n",
              "      <td>Cruelty Unforgiven</td>\n",
              "      <td>93.04</td>\n",
              "      <td>0.000250</td>\n",
              "      <td>0.999245</td>\n",
              "      <td>C</td>\n",
              "    </tr>\n",
              "    <tr>\n",
              "      <th>287</th>\n",
              "      <td>Mixed Doors</td>\n",
              "      <td>88.23</td>\n",
              "      <td>0.000237</td>\n",
              "      <td>0.999482</td>\n",
              "      <td>C</td>\n",
              "    </tr>\n",
              "    <tr>\n",
              "      <th>61</th>\n",
              "      <td>Slacker Liaisons</td>\n",
              "      <td>86.84</td>\n",
              "      <td>0.000233</td>\n",
              "      <td>0.999716</td>\n",
              "      <td>C</td>\n",
              "    </tr>\n",
              "    <tr>\n",
              "      <th>461</th>\n",
              "      <td>Flight Lies</td>\n",
              "      <td>68.88</td>\n",
              "      <td>0.000185</td>\n",
              "      <td>0.999901</td>\n",
              "      <td>C</td>\n",
              "    </tr>\n",
              "    <tr>\n",
              "      <th>512</th>\n",
              "      <td>Drumline Cyclone</td>\n",
              "      <td>36.90</td>\n",
              "      <td>0.000099</td>\n",
              "      <td>1.000000</td>\n",
              "      <td>C</td>\n",
              "    </tr>\n",
              "  </tbody>\n",
              "</table>\n",
              "<p>955 rows × 5 columns</p>\n",
              "</div>"
            ],
            "text/plain": [
              "                   title  amount  contribution    cumsum category\n",
              "746  Gleaming Jawbreaker  849.70      0.002284  0.002284        A\n",
              "135        Apache Divine  842.55      0.002264  0.004548        A\n",
              "833       Deer Virginian  823.30      0.002213  0.006761        A\n",
              "818      Storm Happiness  811.93      0.002182  0.008943        A\n",
              "80        Greatest North  804.94      0.002163  0.011106        A\n",
              "..                   ...     ...           ...       ...      ...\n",
              "176   Cruelty Unforgiven   93.04      0.000250  0.999245        C\n",
              "287          Mixed Doors   88.23      0.000237  0.999482        C\n",
              "61      Slacker Liaisons   86.84      0.000233  0.999716        C\n",
              "461          Flight Lies   68.88      0.000185  0.999901        C\n",
              "512     Drumline Cyclone   36.90      0.000099  1.000000        C\n",
              "\n",
              "[955 rows x 5 columns]"
            ]
          },
          "metadata": {
            "tags": []
          },
          "execution_count": 575
        }
      ]
    },
    {
      "cell_type": "code",
      "metadata": {
        "colab": {
          "base_uri": "https://localhost:8080/"
        },
        "id": "fArB3PiyBm1R",
        "outputId": "4b855a64-5fea-49da-ffa7-e1a478e615ff"
      },
      "source": [
        "# Процентное соотношение категорий (A,B,C)\n",
        "volume_groups = abc_data['category'].value_counts(normalize=True)\n",
        "volume_groups"
      ],
      "execution_count": null,
      "outputs": [
        {
          "output_type": "execute_result",
          "data": {
            "text/plain": [
              "A    0.635602\n",
              "B    0.234555\n",
              "C    0.129843\n",
              "Name: category, dtype: float64"
            ]
          },
          "metadata": {
            "tags": []
          },
          "execution_count": 576
        }
      ]
    },
    {
      "cell_type": "code",
      "metadata": {
        "colab": {
          "base_uri": "https://localhost:8080/",
          "height": 587
        },
        "id": "bQWzkp_hB-La",
        "outputId": "1cfff6af-910d-4b7e-f0c7-cfeca2109998"
      },
      "source": [
        "# График доли категорий\n",
        "volume_groups.plot(kind='bar', figsize=(16, 9), title='ABC analysis', color='skyblue', edgecolor='navy', grid=True)"
      ],
      "execution_count": null,
      "outputs": [
        {
          "output_type": "execute_result",
          "data": {
            "text/plain": [
              "<matplotlib.axes._subplots.AxesSubplot at 0x7efd997eb910>"
            ]
          },
          "metadata": {
            "tags": []
          },
          "execution_count": 577
        },
        {
          "output_type": "display_data",
          "data": {
            "image/png": "[encoded data removed]",
            "text/plain": [
              "<Figure size 1152x648 with 1 Axes>"
            ]
          },
          "metadata": {
            "tags": [],
            "needs_background": "light"
          }
        }
      ]
    },
    {
      "cell_type": "markdown",
      "metadata": {
        "id": "O_OmIk5YoNwY"
      },
      "source": [
        "### Вывод по ABC анализу"
      ]
    },
    {
      "cell_type": "markdown",
      "metadata": {
        "id": "-HUisFI2bHtH"
      },
      "source": [
        " Правило Парето не работает! Нужно искать другое распределение.\n"
      ]
    },
    {
      "cell_type": "markdown",
      "metadata": {
        "id": "Gp7xhcDWbHUW"
      },
      "source": [
        ">Если увеличивать процент продаж для группы А, то количество аренд в группе А увеличивается, остальные группы уменьшаются. В итоге модель машинного обучения показывает хорошие результаты для группы А и неплохой accuracy, для остальных групп - хуже, так как мало экземпляров.\n",
        "\n",
        "\n",
        ">Если уменьшать процент продаж для группы А, то группа А уменьшается, остальные увеличиваются. Accuracy падает, но percision и recall для B и С возрастают. Однако вручную подобрать оптимальное значение я не смогу, поэтому проведу дополнительный анализ."
      ]
    },
    {
      "cell_type": "markdown",
      "metadata": {
        "id": "dNKgP5Z-bKhY"
      },
      "source": [
        "Мой вариант: дополнительно провести XYZ анализ и итоговые группы сформировать следующим образом. К группе А отнести красные категории, B - жёлтые, С - синие.\n",
        "![image.png](data:image/png;base64,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)"
      ]
    },
    {
      "cell_type": "markdown",
      "metadata": {
        "id": "eMmbyQf1blGx"
      },
      "source": [
        "###XYZ анализ"
      ]
    },
    {
      "cell_type": "code",
      "metadata": {
        "colab": {
          "base_uri": "https://localhost:8080/",
          "height": 406
        },
        "id": "PudIgcUXbkG-",
        "outputId": "4ccedd10-55de-4649-b4e3-ac899da50711"
      },
      "source": [
        "# Запрос на получение данных об арендах DVD\n",
        "xyz_data = pd.read_sql_query(\"\"\"SELECT title,\n",
        "       rental_date\n",
        "FROM   film \n",
        "       JOIN inventory\n",
        "         ON film.film_id = inventory.film_id\n",
        "       JOIN rental\n",
        "         ON inventory.inventory_id = rental.inventory_id\n",
        "       JOIN payment\n",
        "         ON rental.rental_id = payment.rental_id \n",
        "                     \"\"\", conn)\n",
        "xyz_data"
      ],
      "execution_count": null,
      "outputs": [
        {
          "output_type": "execute_result",
          "data": {
            "text/html": [
              "<div>\n",
              "<style scoped>\n",
              "    .dataframe tbody tr th:only-of-type {\n",
              "        vertical-align: middle;\n",
              "    }\n",
              "\n",
              "    .dataframe tbody tr th {\n",
              "        vertical-align: top;\n",
              "    }\n",
              "\n",
              "    .dataframe thead th {\n",
              "        text-align: right;\n",
              "    }\n",
              "</style>\n",
              "<table border=\"1\" class=\"dataframe\">\n",
              "  <thead>\n",
              "    <tr style=\"text-align: right;\">\n",
              "      <th></th>\n",
              "      <th>title</th>\n",
              "      <th>rental_date</th>\n",
              "    </tr>\n",
              "  </thead>\n",
              "  <tbody>\n",
              "    <tr>\n",
              "      <th>0</th>\n",
              "      <td>Drumline Cyclone</td>\n",
              "      <td>2005-06-19 11:42:04</td>\n",
              "    </tr>\n",
              "    <tr>\n",
              "      <th>1</th>\n",
              "      <td>Drumline Cyclone</td>\n",
              "      <td>2005-06-16 18:01:36</td>\n",
              "    </tr>\n",
              "    <tr>\n",
              "      <th>2</th>\n",
              "      <td>Flight Lies</td>\n",
              "      <td>2005-06-17 08:19:22</td>\n",
              "    </tr>\n",
              "    <tr>\n",
              "      <th>3</th>\n",
              "      <td>Flight Lies</td>\n",
              "      <td>2005-06-16 06:03:33</td>\n",
              "    </tr>\n",
              "    <tr>\n",
              "      <th>4</th>\n",
              "      <td>Slacker Liaisons</td>\n",
              "      <td>2005-06-17 09:26:15</td>\n",
              "    </tr>\n",
              "    <tr>\n",
              "      <th>...</th>\n",
              "      <td>...</td>\n",
              "      <td>...</td>\n",
              "    </tr>\n",
              "    <tr>\n",
              "      <th>14591</th>\n",
              "      <td>Comancheros Enemy</td>\n",
              "      <td>2005-08-23 22:25:26</td>\n",
              "    </tr>\n",
              "    <tr>\n",
              "      <th>14592</th>\n",
              "      <td>Voyage Legally</td>\n",
              "      <td>2005-08-23 22:26:47</td>\n",
              "    </tr>\n",
              "    <tr>\n",
              "      <th>14593</th>\n",
              "      <td>Illusion Amelie</td>\n",
              "      <td>2005-08-23 22:42:48</td>\n",
              "    </tr>\n",
              "    <tr>\n",
              "      <th>14594</th>\n",
              "      <td>Hunchback Impossible</td>\n",
              "      <td>2005-08-23 22:43:07</td>\n",
              "    </tr>\n",
              "    <tr>\n",
              "      <th>14595</th>\n",
              "      <td>Mob Duffel</td>\n",
              "      <td>2005-08-23 22:50:12</td>\n",
              "    </tr>\n",
              "  </tbody>\n",
              "</table>\n",
              "<p>14596 rows × 2 columns</p>\n",
              "</div>"
            ],
            "text/plain": [
              "                      title         rental_date\n",
              "0          Drumline Cyclone 2005-06-19 11:42:04\n",
              "1          Drumline Cyclone 2005-06-16 18:01:36\n",
              "2               Flight Lies 2005-06-17 08:19:22\n",
              "3               Flight Lies 2005-06-16 06:03:33\n",
              "4          Slacker Liaisons 2005-06-17 09:26:15\n",
              "...                     ...                 ...\n",
              "14591     Comancheros Enemy 2005-08-23 22:25:26\n",
              "14592        Voyage Legally 2005-08-23 22:26:47\n",
              "14593       Illusion Amelie 2005-08-23 22:42:48\n",
              "14594  Hunchback Impossible 2005-08-23 22:43:07\n",
              "14595            Mob Duffel 2005-08-23 22:50:12\n",
              "\n",
              "[14596 rows x 2 columns]"
            ]
          },
          "metadata": {
            "tags": []
          },
          "execution_count": 578
        }
      ]
    },
    {
      "cell_type": "code",
      "metadata": {
        "colab": {
          "base_uri": "https://localhost:8080/",
          "height": 442
        },
        "id": "zmHyJC3Wcr2P",
        "outputId": "574a3f3c-a213-4336-f351-2d76317cf534"
      },
      "source": [
        "# Выделение номера недели для каждой записи об аренде\n",
        "xyz_data['sales_week']=xyz_data['rental_date'].dt.week\n",
        "xyz_data = xyz_data.drop(columns=['rental_date'])\n",
        "xyz_data"
      ],
      "execution_count": null,
      "outputs": [
        {
          "output_type": "stream",
          "text": [
            "/usr/local/lib/python3.7/dist-packages/ipykernel_launcher.py:2: FutureWarning: Series.dt.weekofyear and Series.dt.week have been deprecated.  Please use Series.dt.isocalendar().week instead.\n",
            "  \n"
          ],
          "name": "stderr"
        },
        {
          "output_type": "execute_result",
          "data": {
            "text/html": [
              "<div>\n",
              "<style scoped>\n",
              "    .dataframe tbody tr th:only-of-type {\n",
              "        vertical-align: middle;\n",
              "    }\n",
              "\n",
              "    .dataframe tbody tr th {\n",
              "        vertical-align: top;\n",
              "    }\n",
              "\n",
              "    .dataframe thead th {\n",
              "        text-align: right;\n",
              "    }\n",
              "</style>\n",
              "<table border=\"1\" class=\"dataframe\">\n",
              "  <thead>\n",
              "    <tr style=\"text-align: right;\">\n",
              "      <th></th>\n",
              "      <th>title</th>\n",
              "      <th>sales_week</th>\n",
              "    </tr>\n",
              "  </thead>\n",
              "  <tbody>\n",
              "    <tr>\n",
              "      <th>0</th>\n",
              "      <td>Drumline Cyclone</td>\n",
              "      <td>24</td>\n",
              "    </tr>\n",
              "    <tr>\n",
              "      <th>1</th>\n",
              "      <td>Drumline Cyclone</td>\n",
              "      <td>24</td>\n",
              "    </tr>\n",
              "    <tr>\n",
              "      <th>2</th>\n",
              "      <td>Flight Lies</td>\n",
              "      <td>24</td>\n",
              "    </tr>\n",
              "    <tr>\n",
              "      <th>3</th>\n",
              "      <td>Flight Lies</td>\n",
              "      <td>24</td>\n",
              "    </tr>\n",
              "    <tr>\n",
              "      <th>4</th>\n",
              "      <td>Slacker Liaisons</td>\n",
              "      <td>24</td>\n",
              "    </tr>\n",
              "    <tr>\n",
              "      <th>...</th>\n",
              "      <td>...</td>\n",
              "      <td>...</td>\n",
              "    </tr>\n",
              "    <tr>\n",
              "      <th>14591</th>\n",
              "      <td>Comancheros Enemy</td>\n",
              "      <td>34</td>\n",
              "    </tr>\n",
              "    <tr>\n",
              "      <th>14592</th>\n",
              "      <td>Voyage Legally</td>\n",
              "      <td>34</td>\n",
              "    </tr>\n",
              "    <tr>\n",
              "      <th>14593</th>\n",
              "      <td>Illusion Amelie</td>\n",
              "      <td>34</td>\n",
              "    </tr>\n",
              "    <tr>\n",
              "      <th>14594</th>\n",
              "      <td>Hunchback Impossible</td>\n",
              "      <td>34</td>\n",
              "    </tr>\n",
              "    <tr>\n",
              "      <th>14595</th>\n",
              "      <td>Mob Duffel</td>\n",
              "      <td>34</td>\n",
              "    </tr>\n",
              "  </tbody>\n",
              "</table>\n",
              "<p>14596 rows × 2 columns</p>\n",
              "</div>"
            ],
            "text/plain": [
              "                      title  sales_week\n",
              "0          Drumline Cyclone          24\n",
              "1          Drumline Cyclone          24\n",
              "2               Flight Lies          24\n",
              "3               Flight Lies          24\n",
              "4          Slacker Liaisons          24\n",
              "...                     ...         ...\n",
              "14591     Comancheros Enemy          34\n",
              "14592        Voyage Legally          34\n",
              "14593       Illusion Amelie          34\n",
              "14594  Hunchback Impossible          34\n",
              "14595            Mob Duffel          34\n",
              "\n",
              "[14596 rows x 2 columns]"
            ]
          },
          "metadata": {
            "tags": []
          },
          "execution_count": 579
        }
      ]
    },
    {
      "cell_type": "code",
      "metadata": {
        "colab": {
          "base_uri": "https://localhost:8080/"
        },
        "id": "_DOz_OcidAXT",
        "outputId": "77f06f85-10c0-44ed-981a-f43721ff9cf7"
      },
      "source": [
        "# Суммарное кол-во аренд для каждой недели и каждого фильма\n",
        "orders = xyz_data.groupby(['sales_week', 'title'])\n",
        "orders = orders.size()\n",
        "orders"
      ],
      "execution_count": null,
      "outputs": [
        {
          "output_type": "execute_result",
          "data": {
            "text/plain": [
              "sales_week  title            \n",
              "7           Ace Goldfinger       1\n",
              "            Affair Prejudice     1\n",
              "            African Egg          1\n",
              "            Ali Forever          1\n",
              "            Alone Trip           1\n",
              "                                ..\n",
              "34          Wyoming Storm        1\n",
              "            Yentl Idaho          2\n",
              "            Young Language       1\n",
              "            Zoolander Fiction    2\n",
              "            Zorro Ark            1\n",
              "Length: 6166, dtype: int64"
            ]
          },
          "metadata": {
            "tags": []
          },
          "execution_count": 580
        }
      ]
    },
    {
      "cell_type": "code",
      "metadata": {
        "colab": {
          "base_uri": "https://localhost:8080/"
        },
        "id": "E7oLnR3_gJjK",
        "outputId": "1d344f2b-2fe7-4044-8634-916d5a62ebbe"
      },
      "source": [
        "# Проверка на отсутствие нулевых значений стандартного отклонения\n",
        "orders = orders.groupby(level=1)\n",
        "orders.std().value_counts()"
      ],
      "execution_count": null,
      "outputs": [
        {
          "output_type": "execute_result",
          "data": {
            "text/plain": [
              "1.000000    28\n",
              "0.577350    26\n",
              "0.500000    24\n",
              "0.816497    24\n",
              "0.447214    22\n",
              "            ..\n",
              "1.054093     1\n",
              "1.832251     1\n",
              "2.356602     1\n",
              "2.073644     1\n",
              "1.995531     1\n",
              "Length: 272, dtype: int64"
            ]
          },
          "metadata": {
            "tags": []
          },
          "execution_count": 581
        }
      ]
    },
    {
      "cell_type": "code",
      "metadata": {
        "colab": {
          "base_uri": "https://localhost:8080/"
        },
        "id": "xYy1ftI8gx22",
        "outputId": "713fc671-f205-4bee-8d9d-e980c3b826ab"
      },
      "source": [
        "# Расчёт волатильности\n",
        "volatility = orders.std() / orders.mean()\n",
        "volatility"
      ],
      "execution_count": null,
      "outputs": [
        {
          "output_type": "execute_result",
          "data": {
            "text/plain": [
              "title\n",
              "Academy Dinosaur     0.471405\n",
              "Ace Goldfinger       0.349927\n",
              "Adaptation Holes     0.222681\n",
              "Affair Prejudice     0.544331\n",
              "African Egg          0.340151\n",
              "                       ...   \n",
              "Young Language       0.349927\n",
              "Youth Kick           0.372678\n",
              "Zhivago Core         0.000000\n",
              "Zoolander Fiction    0.419877\n",
              "Zorro Ark            0.478714\n",
              "Length: 958, dtype: float64"
            ]
          },
          "metadata": {
            "tags": []
          },
          "execution_count": 582
        }
      ]
    },
    {
      "cell_type": "code",
      "metadata": {
        "colab": {
          "base_uri": "https://localhost:8080/",
          "height": 592
        },
        "id": "jSeWK5OfhK7P",
        "outputId": "32a8dbdc-cc45-4edd-bd4f-a67aab1b7178"
      },
      "source": [
        "# Гистограмма полученных значений\n",
        "plt.title('Volatility')\n",
        "volatility.hist(edgecolor='black')"
      ],
      "execution_count": null,
      "outputs": [
        {
          "output_type": "execute_result",
          "data": {
            "text/plain": [
              "<matplotlib.axes._subplots.AxesSubplot at 0x7efd99790490>"
            ]
          },
          "metadata": {
            "tags": []
          },
          "execution_count": 583
        },
        {
          "output_type": "display_data",
          "data": {
            "image/png": "[encoded data removed]",
            "text/plain": [
              "<Figure size 1152x648 with 1 Axes>"
            ]
          },
          "metadata": {
            "tags": [],
            "needs_background": "light"
          }
        }
      ]
    },
    {
      "cell_type": "markdown",
      "metadata": {
        "id": "B5XZyGDSWkcw"
      },
      "source": [
        "На основе гистограммы определяю следующие группы:\n",
        "\n",
        "X - <0.37\n",
        "\n",
        "Y - >=0.37 and <0.6\n",
        "\n",
        "Z - >=0.6"
      ]
    },
    {
      "cell_type": "code",
      "metadata": {
        "id": "rEO7WFjrhRla"
      },
      "source": [
        "# Функция определения категории фильма в XYZ анализе\n",
        "def XYZ_analysis(cur):\n",
        "  if cur < 0.37:\n",
        "    return 'X'\n",
        "  elif cur >= 0.37 and cur < 0.6:\n",
        "    return 'Y'\n",
        "  else:\n",
        "    return 'Z'"
      ],
      "execution_count": null,
      "outputs": []
    },
    {
      "cell_type": "code",
      "metadata": {
        "colab": {
          "base_uri": "https://localhost:8080/",
          "height": 406
        },
        "id": "iytDfnL3h4O5",
        "outputId": "9549f18a-0f42-4e73-f9af-183934926b8e"
      },
      "source": [
        "# Беру результаты ABC анализа\n",
        "res = abc_data[['title', 'category']]\n",
        "res"
      ],
      "execution_count": null,
      "outputs": [
        {
          "output_type": "execute_result",
          "data": {
            "text/html": [
              "<div>\n",
              "<style scoped>\n",
              "    .dataframe tbody tr th:only-of-type {\n",
              "        vertical-align: middle;\n",
              "    }\n",
              "\n",
              "    .dataframe tbody tr th {\n",
              "        vertical-align: top;\n",
              "    }\n",
              "\n",
              "    .dataframe thead th {\n",
              "        text-align: right;\n",
              "    }\n",
              "</style>\n",
              "<table border=\"1\" class=\"dataframe\">\n",
              "  <thead>\n",
              "    <tr style=\"text-align: right;\">\n",
              "      <th></th>\n",
              "      <th>title</th>\n",
              "      <th>category</th>\n",
              "    </tr>\n",
              "  </thead>\n",
              "  <tbody>\n",
              "    <tr>\n",
              "      <th>746</th>\n",
              "      <td>Gleaming Jawbreaker</td>\n",
              "      <td>A</td>\n",
              "    </tr>\n",
              "    <tr>\n",
              "      <th>135</th>\n",
              "      <td>Apache Divine</td>\n",
              "      <td>A</td>\n",
              "    </tr>\n",
              "    <tr>\n",
              "      <th>833</th>\n",
              "      <td>Deer Virginian</td>\n",
              "      <td>A</td>\n",
              "    </tr>\n",
              "    <tr>\n",
              "      <th>818</th>\n",
              "      <td>Storm Happiness</td>\n",
              "      <td>A</td>\n",
              "    </tr>\n",
              "    <tr>\n",
              "      <th>80</th>\n",
              "      <td>Greatest North</td>\n",
              "      <td>A</td>\n",
              "    </tr>\n",
              "    <tr>\n",
              "      <th>...</th>\n",
              "      <td>...</td>\n",
              "      <td>...</td>\n",
              "    </tr>\n",
              "    <tr>\n",
              "      <th>176</th>\n",
              "      <td>Cruelty Unforgiven</td>\n",
              "      <td>C</td>\n",
              "    </tr>\n",
              "    <tr>\n",
              "      <th>287</th>\n",
              "      <td>Mixed Doors</td>\n",
              "      <td>C</td>\n",
              "    </tr>\n",
              "    <tr>\n",
              "      <th>61</th>\n",
              "      <td>Slacker Liaisons</td>\n",
              "      <td>C</td>\n",
              "    </tr>\n",
              "    <tr>\n",
              "      <th>461</th>\n",
              "      <td>Flight Lies</td>\n",
              "      <td>C</td>\n",
              "    </tr>\n",
              "    <tr>\n",
              "      <th>512</th>\n",
              "      <td>Drumline Cyclone</td>\n",
              "      <td>C</td>\n",
              "    </tr>\n",
              "  </tbody>\n",
              "</table>\n",
              "<p>955 rows × 2 columns</p>\n",
              "</div>"
            ],
            "text/plain": [
              "                   title category\n",
              "746  Gleaming Jawbreaker        A\n",
              "135        Apache Divine        A\n",
              "833       Deer Virginian        A\n",
              "818      Storm Happiness        A\n",
              "80        Greatest North        A\n",
              "..                   ...      ...\n",
              "176   Cruelty Unforgiven        C\n",
              "287          Mixed Doors        C\n",
              "61      Slacker Liaisons        C\n",
              "461          Flight Lies        C\n",
              "512     Drumline Cyclone        C\n",
              "\n",
              "[955 rows x 2 columns]"
            ]
          },
          "metadata": {
            "tags": []
          },
          "execution_count": 585
        }
      ]
    },
    {
      "cell_type": "code",
      "metadata": {
        "colab": {
          "base_uri": "https://localhost:8080/",
          "height": 436
        },
        "id": "-TeLfx7hjELD",
        "outputId": "21c233a6-d7ff-4c49-9667-cd5858aac225"
      },
      "source": [
        "# Соединяю результаты двух анализов\n",
        "res = res.rename(columns={'category': 'ABC'})\n",
        "res = res.set_index(['title'])\n",
        "res['XYZ'] = volatility.apply(XYZ_analysis)\n",
        "res['seq'] = res['ABC'] + res['XYZ']\n",
        "res"
      ],
      "execution_count": null,
      "outputs": [
        {
          "output_type": "execute_result",
          "data": {
            "text/html": [
              "<div>\n",
              "<style scoped>\n",
              "    .dataframe tbody tr th:only-of-type {\n",
              "        vertical-align: middle;\n",
              "    }\n",
              "\n",
              "    .dataframe tbody tr th {\n",
              "        vertical-align: top;\n",
              "    }\n",
              "\n",
              "    .dataframe thead th {\n",
              "        text-align: right;\n",
              "    }\n",
              "</style>\n",
              "<table border=\"1\" class=\"dataframe\">\n",
              "  <thead>\n",
              "    <tr style=\"text-align: right;\">\n",
              "      <th></th>\n",
              "      <th>ABC</th>\n",
              "      <th>XYZ</th>\n",
              "      <th>seq</th>\n",
              "    </tr>\n",
              "    <tr>\n",
              "      <th>title</th>\n",
              "      <th></th>\n",
              "      <th></th>\n",
              "      <th></th>\n",
              "    </tr>\n",
              "  </thead>\n",
              "  <tbody>\n",
              "    <tr>\n",
              "      <th>Gleaming Jawbreaker</th>\n",
              "      <td>A</td>\n",
              "      <td>Y</td>\n",
              "      <td>AY</td>\n",
              "    </tr>\n",
              "    <tr>\n",
              "      <th>Apache Divine</th>\n",
              "      <td>A</td>\n",
              "      <td>Y</td>\n",
              "      <td>AY</td>\n",
              "    </tr>\n",
              "    <tr>\n",
              "      <th>Deer Virginian</th>\n",
              "      <td>A</td>\n",
              "      <td>Z</td>\n",
              "      <td>AZ</td>\n",
              "    </tr>\n",
              "    <tr>\n",
              "      <th>Storm Happiness</th>\n",
              "      <td>A</td>\n",
              "      <td>Y</td>\n",
              "      <td>AY</td>\n",
              "    </tr>\n",
              "    <tr>\n",
              "      <th>Greatest North</th>\n",
              "      <td>A</td>\n",
              "      <td>Z</td>\n",
              "      <td>AZ</td>\n",
              "    </tr>\n",
              "    <tr>\n",
              "      <th>...</th>\n",
              "      <td>...</td>\n",
              "      <td>...</td>\n",
              "      <td>...</td>\n",
              "    </tr>\n",
              "    <tr>\n",
              "      <th>Cruelty Unforgiven</th>\n",
              "      <td>C</td>\n",
              "      <td>X</td>\n",
              "      <td>CX</td>\n",
              "    </tr>\n",
              "    <tr>\n",
              "      <th>Mixed Doors</th>\n",
              "      <td>C</td>\n",
              "      <td>Y</td>\n",
              "      <td>CY</td>\n",
              "    </tr>\n",
              "    <tr>\n",
              "      <th>Slacker Liaisons</th>\n",
              "      <td>C</td>\n",
              "      <td>Z</td>\n",
              "      <td>CZ</td>\n",
              "    </tr>\n",
              "    <tr>\n",
              "      <th>Flight Lies</th>\n",
              "      <td>C</td>\n",
              "      <td>Y</td>\n",
              "      <td>CY</td>\n",
              "    </tr>\n",
              "    <tr>\n",
              "      <th>Drumline Cyclone</th>\n",
              "      <td>C</td>\n",
              "      <td>Y</td>\n",
              "      <td>CY</td>\n",
              "    </tr>\n",
              "  </tbody>\n",
              "</table>\n",
              "<p>955 rows × 3 columns</p>\n",
              "</div>"
            ],
            "text/plain": [
              "                    ABC XYZ seq\n",
              "title                          \n",
              "Gleaming Jawbreaker   A   Y  AY\n",
              "Apache Divine         A   Y  AY\n",
              "Deer Virginian        A   Z  AZ\n",
              "Storm Happiness       A   Y  AY\n",
              "Greatest North        A   Z  AZ\n",
              "...                  ..  ..  ..\n",
              "Cruelty Unforgiven    C   X  CX\n",
              "Mixed Doors           C   Y  CY\n",
              "Slacker Liaisons      C   Z  CZ\n",
              "Flight Lies           C   Y  CY\n",
              "Drumline Cyclone      C   Y  CY\n",
              "\n",
              "[955 rows x 3 columns]"
            ]
          },
          "metadata": {
            "tags": []
          },
          "execution_count": 586
        }
      ]
    },
    {
      "cell_type": "code",
      "metadata": {
        "id": "vSPYmDfpkpk_"
      },
      "source": [
        "# Функция замены категорий ABC+XYZ анализа на новые категории A,B,C (в начале писале об этом + фотку прикрепил)\n",
        "def new_ABC_analysis(cur):\n",
        "  if cur in ('AX', 'AY', 'BX'):\n",
        "    return 'A'\n",
        "  elif cur in ('AZ', 'BY', 'CX'):\n",
        "    return 'B'\n",
        "  else:\n",
        "    return 'C'"
      ],
      "execution_count": null,
      "outputs": []
    },
    {
      "cell_type": "code",
      "metadata": {
        "colab": {
          "base_uri": "https://localhost:8080/",
          "height": 436
        },
        "id": "6uvnCILQlZiK",
        "outputId": "636b79a4-af4f-4be7-9e78-dda165617f39"
      },
      "source": [
        "# Добавление столбца с категориями\n",
        "res['new_seq'] = res['seq'].apply(new_ABC_analysis)\n",
        "res"
      ],
      "execution_count": null,
      "outputs": [
        {
          "output_type": "execute_result",
          "data": {
            "text/html": [
              "<div>\n",
              "<style scoped>\n",
              "    .dataframe tbody tr th:only-of-type {\n",
              "        vertical-align: middle;\n",
              "    }\n",
              "\n",
              "    .dataframe tbody tr th {\n",
              "        vertical-align: top;\n",
              "    }\n",
              "\n",
              "    .dataframe thead th {\n",
              "        text-align: right;\n",
              "    }\n",
              "</style>\n",
              "<table border=\"1\" class=\"dataframe\">\n",
              "  <thead>\n",
              "    <tr style=\"text-align: right;\">\n",
              "      <th></th>\n",
              "      <th>ABC</th>\n",
              "      <th>XYZ</th>\n",
              "      <th>seq</th>\n",
              "      <th>new_seq</th>\n",
              "    </tr>\n",
              "    <tr>\n",
              "      <th>title</th>\n",
              "      <th></th>\n",
              "      <th></th>\n",
              "      <th></th>\n",
              "      <th></th>\n",
              "    </tr>\n",
              "  </thead>\n",
              "  <tbody>\n",
              "    <tr>\n",
              "      <th>Gleaming Jawbreaker</th>\n",
              "      <td>A</td>\n",
              "      <td>Y</td>\n",
              "      <td>AY</td>\n",
              "      <td>A</td>\n",
              "    </tr>\n",
              "    <tr>\n",
              "      <th>Apache Divine</th>\n",
              "      <td>A</td>\n",
              "      <td>Y</td>\n",
              "      <td>AY</td>\n",
              "      <td>A</td>\n",
              "    </tr>\n",
              "    <tr>\n",
              "      <th>Deer Virginian</th>\n",
              "      <td>A</td>\n",
              "      <td>Z</td>\n",
              "      <td>AZ</td>\n",
              "      <td>B</td>\n",
              "    </tr>\n",
              "    <tr>\n",
              "      <th>Storm Happiness</th>\n",
              "      <td>A</td>\n",
              "      <td>Y</td>\n",
              "      <td>AY</td>\n",
              "      <td>A</td>\n",
              "    </tr>\n",
              "    <tr>\n",
              "      <th>Greatest North</th>\n",
              "      <td>A</td>\n",
              "      <td>Z</td>\n",
              "      <td>AZ</td>\n",
              "      <td>B</td>\n",
              "    </tr>\n",
              "    <tr>\n",
              "      <th>...</th>\n",
              "      <td>...</td>\n",
              "      <td>...</td>\n",
              "      <td>...</td>\n",
              "      <td>...</td>\n",
              "    </tr>\n",
              "    <tr>\n",
              "      <th>Cruelty Unforgiven</th>\n",
              "      <td>C</td>\n",
              "      <td>X</td>\n",
              "      <td>CX</td>\n",
              "      <td>B</td>\n",
              "    </tr>\n",
              "    <tr>\n",
              "      <th>Mixed Doors</th>\n",
              "      <td>C</td>\n",
              "      <td>Y</td>\n",
              "      <td>CY</td>\n",
              "      <td>C</td>\n",
              "    </tr>\n",
              "    <tr>\n",
              "      <th>Slacker Liaisons</th>\n",
              "      <td>C</td>\n",
              "      <td>Z</td>\n",
              "      <td>CZ</td>\n",
              "      <td>C</td>\n",
              "    </tr>\n",
              "    <tr>\n",
              "      <th>Flight Lies</th>\n",
              "      <td>C</td>\n",
              "      <td>Y</td>\n",
              "      <td>CY</td>\n",
              "      <td>C</td>\n",
              "    </tr>\n",
              "    <tr>\n",
              "      <th>Drumline Cyclone</th>\n",
              "      <td>C</td>\n",
              "      <td>Y</td>\n",
              "      <td>CY</td>\n",
              "      <td>C</td>\n",
              "    </tr>\n",
              "  </tbody>\n",
              "</table>\n",
              "<p>955 rows × 4 columns</p>\n",
              "</div>"
            ],
            "text/plain": [
              "                    ABC XYZ seq new_seq\n",
              "title                                  \n",
              "Gleaming Jawbreaker   A   Y  AY       A\n",
              "Apache Divine         A   Y  AY       A\n",
              "Deer Virginian        A   Z  AZ       B\n",
              "Storm Happiness       A   Y  AY       A\n",
              "Greatest North        A   Z  AZ       B\n",
              "...                  ..  ..  ..     ...\n",
              "Cruelty Unforgiven    C   X  CX       B\n",
              "Mixed Doors           C   Y  CY       C\n",
              "Slacker Liaisons      C   Z  CZ       C\n",
              "Flight Lies           C   Y  CY       C\n",
              "Drumline Cyclone      C   Y  CY       C\n",
              "\n",
              "[955 rows x 4 columns]"
            ]
          },
          "metadata": {
            "tags": []
          },
          "execution_count": 588
        }
      ]
    },
    {
      "cell_type": "markdown",
      "metadata": {
        "id": "oRsTdxjNqLh_"
      },
      "source": [
        "### Итоговое распределение по категориям"
      ]
    },
    {
      "cell_type": "code",
      "metadata": {
        "colab": {
          "base_uri": "https://localhost:8080/"
        },
        "id": "-AipzCVplrLN",
        "outputId": "79f6120d-a74c-4e47-be99-f25c3bb94b5f"
      },
      "source": [
        "# Процентное соотношение категорий (A,B,C)\n",
        "volume_groups = res['new_seq'].value_counts(normalize=True)\n",
        "volume_groups\n",
        "# Эти категории буду использовать в качестве меток классов модели машинного обучения"
      ],
      "execution_count": null,
      "outputs": [
        {
          "output_type": "execute_result",
          "data": {
            "text/plain": [
              "A    0.491099\n",
              "B    0.388482\n",
              "C    0.120419\n",
              "Name: new_seq, dtype: float64"
            ]
          },
          "metadata": {
            "tags": []
          },
          "execution_count": 589
        }
      ]
    },
    {
      "cell_type": "code",
      "metadata": {
        "colab": {
          "base_uri": "https://localhost:8080/",
          "height": 587
        },
        "id": "u4O4EOPxblA3",
        "outputId": "0a6aac70-1218-42e4-bed8-dc912c1fd8ba"
      },
      "source": [
        "# График доли категорий\n",
        "volume_groups.plot(kind='bar', figsize=(16, 9), title='ABC analysis', color='skyblue', edgecolor='navy', grid=True)"
      ],
      "execution_count": null,
      "outputs": [
        {
          "output_type": "execute_result",
          "data": {
            "text/plain": [
              "<matplotlib.axes._subplots.AxesSubplot at 0x7efd9952ce10>"
            ]
          },
          "metadata": {
            "tags": []
          },
          "execution_count": 590
        },
        {
          "output_type": "display_data",
          "data": {
            "image/png": "[encoded data removed]",
            "text/plain": [
              "<Figure size 1152x648 with 1 Axes>"
            ]
          },
          "metadata": {
            "tags": [],
            "needs_background": "light"
          }
        }
      ]
    },
    {
      "cell_type": "code",
      "metadata": {
        "colab": {
          "base_uri": "https://localhost:8080/"
        },
        "id": "d-0BnNQgY5c4",
        "outputId": "48c432ec-882b-4098-e3e9-d91ab98fe452"
      },
      "source": [
        "# Данные, которые дальше нужны будут для обучения модели\n",
        "data = res['new_seq']\n",
        "data"
      ],
      "execution_count": null,
      "outputs": [
        {
          "output_type": "execute_result",
          "data": {
            "text/plain": [
              "title\n",
              "Gleaming Jawbreaker    A\n",
              "Apache Divine          A\n",
              "Deer Virginian         B\n",
              "Storm Happiness        A\n",
              "Greatest North         B\n",
              "                      ..\n",
              "Cruelty Unforgiven     B\n",
              "Mixed Doors            C\n",
              "Slacker Liaisons       C\n",
              "Flight Lies            C\n",
              "Drumline Cyclone       C\n",
              "Name: new_seq, Length: 955, dtype: object"
            ]
          },
          "metadata": {
            "tags": []
          },
          "execution_count": 591
        }
      ]
    },
    {
      "cell_type": "markdown",
      "metadata": {
        "id": "SeXf5KDkoknZ"
      },
      "source": [
        "##Оценка среднего объёма недельной выручки\n",
        "Задание: На основе полученного (общего) анализа ассортимента, оцените средний объем недельной выручки в каждой категории в привязке к дате начала аренды. В какой категории эта оценка имеет меньший разброс?"
      ]
    },
    {
      "cell_type": "code",
      "metadata": {
        "colab": {
          "base_uri": "https://localhost:8080/",
          "height": 406
        },
        "id": "fP0z5jcMoi0v",
        "outputId": "df18a2af-8f7d-4fac-ecb3-5dd2b3a6964c"
      },
      "source": [
        "# Запрос на получение фильмов, выручки по ним, дата начала аренды\n",
        "revenue_data = pd.read_sql_query(\"\"\"SELECT title,\n",
        "       amount,\n",
        "       rental_date\n",
        "FROM   film \n",
        "       JOIN inventory\n",
        "         ON film.film_id = inventory.film_id\n",
        "       JOIN rental\n",
        "         ON inventory.inventory_id = rental.inventory_id\n",
        "       JOIN payment\n",
        "         ON rental.rental_id = payment.rental_id \n",
        "                     \"\"\", conn)\n",
        "revenue_data"
      ],
      "execution_count": null,
      "outputs": [
        {
          "output_type": "execute_result",
          "data": {
            "text/html": [
              "<div>\n",
              "<style scoped>\n",
              "    .dataframe tbody tr th:only-of-type {\n",
              "        vertical-align: middle;\n",
              "    }\n",
              "\n",
              "    .dataframe tbody tr th {\n",
              "        vertical-align: top;\n",
              "    }\n",
              "\n",
              "    .dataframe thead th {\n",
              "        text-align: right;\n",
              "    }\n",
              "</style>\n",
              "<table border=\"1\" class=\"dataframe\">\n",
              "  <thead>\n",
              "    <tr style=\"text-align: right;\">\n",
              "      <th></th>\n",
              "      <th>title</th>\n",
              "      <th>amount</th>\n",
              "      <th>rental_date</th>\n",
              "    </tr>\n",
              "  </thead>\n",
              "  <tbody>\n",
              "    <tr>\n",
              "      <th>0</th>\n",
              "      <td>Drumline Cyclone</td>\n",
              "      <td>3.99</td>\n",
              "      <td>2005-06-19 11:42:04</td>\n",
              "    </tr>\n",
              "    <tr>\n",
              "      <th>1</th>\n",
              "      <td>Drumline Cyclone</td>\n",
              "      <td>0.99</td>\n",
              "      <td>2005-06-16 18:01:36</td>\n",
              "    </tr>\n",
              "    <tr>\n",
              "      <th>2</th>\n",
              "      <td>Flight Lies</td>\n",
              "      <td>5.99</td>\n",
              "      <td>2005-06-17 08:19:22</td>\n",
              "    </tr>\n",
              "    <tr>\n",
              "      <th>3</th>\n",
              "      <td>Flight Lies</td>\n",
              "      <td>4.99</td>\n",
              "      <td>2005-06-16 06:03:33</td>\n",
              "    </tr>\n",
              "    <tr>\n",
              "      <th>4</th>\n",
              "      <td>Slacker Liaisons</td>\n",
              "      <td>4.99</td>\n",
              "      <td>2005-06-17 09:26:15</td>\n",
              "    </tr>\n",
              "    <tr>\n",
              "      <th>...</th>\n",
              "      <td>...</td>\n",
              "      <td>...</td>\n",
              "      <td>...</td>\n",
              "    </tr>\n",
              "    <tr>\n",
              "      <th>14591</th>\n",
              "      <td>Comancheros Enemy</td>\n",
              "      <td>30.15</td>\n",
              "      <td>2005-08-23 22:25:26</td>\n",
              "    </tr>\n",
              "    <tr>\n",
              "      <th>14592</th>\n",
              "      <td>Voyage Legally</td>\n",
              "      <td>22.93</td>\n",
              "      <td>2005-08-23 22:26:47</td>\n",
              "    </tr>\n",
              "    <tr>\n",
              "      <th>14593</th>\n",
              "      <td>Illusion Amelie</td>\n",
              "      <td>31.00</td>\n",
              "      <td>2005-08-23 22:42:48</td>\n",
              "    </tr>\n",
              "    <tr>\n",
              "      <th>14594</th>\n",
              "      <td>Hunchback Impossible</td>\n",
              "      <td>21.93</td>\n",
              "      <td>2005-08-23 22:43:07</td>\n",
              "    </tr>\n",
              "    <tr>\n",
              "      <th>14595</th>\n",
              "      <td>Mob Duffel</td>\n",
              "      <td>19.35</td>\n",
              "      <td>2005-08-23 22:50:12</td>\n",
              "    </tr>\n",
              "  </tbody>\n",
              "</table>\n",
              "<p>14596 rows × 3 columns</p>\n",
              "</div>"
            ],
            "text/plain": [
              "                      title  amount         rental_date\n",
              "0          Drumline Cyclone    3.99 2005-06-19 11:42:04\n",
              "1          Drumline Cyclone    0.99 2005-06-16 18:01:36\n",
              "2               Flight Lies    5.99 2005-06-17 08:19:22\n",
              "3               Flight Lies    4.99 2005-06-16 06:03:33\n",
              "4          Slacker Liaisons    4.99 2005-06-17 09:26:15\n",
              "...                     ...     ...                 ...\n",
              "14591     Comancheros Enemy   30.15 2005-08-23 22:25:26\n",
              "14592        Voyage Legally   22.93 2005-08-23 22:26:47\n",
              "14593       Illusion Amelie   31.00 2005-08-23 22:42:48\n",
              "14594  Hunchback Impossible   21.93 2005-08-23 22:43:07\n",
              "14595            Mob Duffel   19.35 2005-08-23 22:50:12\n",
              "\n",
              "[14596 rows x 3 columns]"
            ]
          },
          "metadata": {
            "tags": []
          },
          "execution_count": 592
        }
      ]
    },
    {
      "cell_type": "markdown",
      "metadata": {
        "id": "vc6g-u-bPeRj"
      },
      "source": [
        "### Анализ данных"
      ]
    },
    {
      "cell_type": "code",
      "metadata": {
        "colab": {
          "base_uri": "https://localhost:8080/"
        },
        "id": "ASA8KcHP4APZ",
        "outputId": "f6cc05f7-28eb-4c31-9419-55f85691585b"
      },
      "source": [
        "# Типы данных\n",
        "revenue_data.dtypes"
      ],
      "execution_count": null,
      "outputs": [
        {
          "output_type": "execute_result",
          "data": {
            "text/plain": [
              "title                  object\n",
              "amount                float64\n",
              "rental_date    datetime64[ns]\n",
              "dtype: object"
            ]
          },
          "metadata": {
            "tags": []
          },
          "execution_count": 593
        }
      ]
    },
    {
      "cell_type": "code",
      "metadata": {
        "colab": {
          "base_uri": "https://localhost:8080/"
        },
        "id": "68WOw-cgziMN",
        "outputId": "4c9e3a31-587b-491b-e914-9d77178d0756"
      },
      "source": [
        "# Хотел посмотреть первую и последнюю дату аренды, чтобы ориентрироваться какой период времени рассматривается\n",
        "print('Rental date')\n",
        "print('Min: ', revenue_data['rental_date'].min())\n",
        "print('Max: ', revenue_data['rental_date'].max())"
      ],
      "execution_count": null,
      "outputs": [
        {
          "output_type": "stream",
          "text": [
            "Rental date\n",
            "Min:  2005-06-14 22:53:33\n",
            "Max:  2006-02-14 15:16:03\n"
          ],
          "name": "stdout"
        }
      ]
    },
    {
      "cell_type": "code",
      "metadata": {
        "colab": {
          "base_uri": "https://localhost:8080/"
        },
        "id": "rgoH8GzX3DmW",
        "outputId": "d458e856-59a8-4851-cc15-e4c83357dd79"
      },
      "source": [
        "# Проверка на отсутствие нулевых значений\n",
        "print(revenue_data['rental_date'].isnull().value_counts(), '\\n')"
      ],
      "execution_count": null,
      "outputs": [
        {
          "output_type": "stream",
          "text": [
            "False    14596\n",
            "Name: rental_date, dtype: int64 \n",
            "\n"
          ],
          "name": "stdout"
        }
      ]
    },
    {
      "cell_type": "markdown",
      "metadata": {
        "id": "GqylPtpKPmtM"
      },
      "source": [
        "### Расчёт средней недельной выручки"
      ]
    },
    {
      "cell_type": "code",
      "metadata": {
        "colab": {
          "base_uri": "https://localhost:8080/",
          "height": 442
        },
        "id": "bwhKLaoczVV2",
        "outputId": "0eb0d12b-af95-4fe9-ec2b-4051f6b8f1c8"
      },
      "source": [
        "# Временной интервал меньше года, поэтому я не выделял год аренды, только неделю\n",
        "revenue_data['rental_week']=revenue_data['rental_date'].dt.week\n",
        "revenue_data"
      ],
      "execution_count": null,
      "outputs": [
        {
          "output_type": "stream",
          "text": [
            "/usr/local/lib/python3.7/dist-packages/ipykernel_launcher.py:2: FutureWarning: Series.dt.weekofyear and Series.dt.week have been deprecated.  Please use Series.dt.isocalendar().week instead.\n",
            "  \n"
          ],
          "name": "stderr"
        },
        {
          "output_type": "execute_result",
          "data": {
            "text/html": [
              "<div>\n",
              "<style scoped>\n",
              "    .dataframe tbody tr th:only-of-type {\n",
              "        vertical-align: middle;\n",
              "    }\n",
              "\n",
              "    .dataframe tbody tr th {\n",
              "        vertical-align: top;\n",
              "    }\n",
              "\n",
              "    .dataframe thead th {\n",
              "        text-align: right;\n",
              "    }\n",
              "</style>\n",
              "<table border=\"1\" class=\"dataframe\">\n",
              "  <thead>\n",
              "    <tr style=\"text-align: right;\">\n",
              "      <th></th>\n",
              "      <th>title</th>\n",
              "      <th>amount</th>\n",
              "      <th>rental_date</th>\n",
              "      <th>rental_week</th>\n",
              "    </tr>\n",
              "  </thead>\n",
              "  <tbody>\n",
              "    <tr>\n",
              "      <th>0</th>\n",
              "      <td>Drumline Cyclone</td>\n",
              "      <td>3.99</td>\n",
              "      <td>2005-06-19 11:42:04</td>\n",
              "      <td>24</td>\n",
              "    </tr>\n",
              "    <tr>\n",
              "      <th>1</th>\n",
              "      <td>Drumline Cyclone</td>\n",
              "      <td>0.99</td>\n",
              "      <td>2005-06-16 18:01:36</td>\n",
              "      <td>24</td>\n",
              "    </tr>\n",
              "    <tr>\n",
              "      <th>2</th>\n",
              "      <td>Flight Lies</td>\n",
              "      <td>5.99</td>\n",
              "      <td>2005-06-17 08:19:22</td>\n",
              "      <td>24</td>\n",
              "    </tr>\n",
              "    <tr>\n",
              "      <th>3</th>\n",
              "      <td>Flight Lies</td>\n",
              "      <td>4.99</td>\n",
              "      <td>2005-06-16 06:03:33</td>\n",
              "      <td>24</td>\n",
              "    </tr>\n",
              "    <tr>\n",
              "      <th>4</th>\n",
              "      <td>Slacker Liaisons</td>\n",
              "      <td>4.99</td>\n",
              "      <td>2005-06-17 09:26:15</td>\n",
              "      <td>24</td>\n",
              "    </tr>\n",
              "    <tr>\n",
              "      <th>...</th>\n",
              "      <td>...</td>\n",
              "      <td>...</td>\n",
              "      <td>...</td>\n",
              "      <td>...</td>\n",
              "    </tr>\n",
              "    <tr>\n",
              "      <th>14591</th>\n",
              "      <td>Comancheros Enemy</td>\n",
              "      <td>30.15</td>\n",
              "      <td>2005-08-23 22:25:26</td>\n",
              "      <td>34</td>\n",
              "    </tr>\n",
              "    <tr>\n",
              "      <th>14592</th>\n",
              "      <td>Voyage Legally</td>\n",
              "      <td>22.93</td>\n",
              "      <td>2005-08-23 22:26:47</td>\n",
              "      <td>34</td>\n",
              "    </tr>\n",
              "    <tr>\n",
              "      <th>14593</th>\n",
              "      <td>Illusion Amelie</td>\n",
              "      <td>31.00</td>\n",
              "      <td>2005-08-23 22:42:48</td>\n",
              "      <td>34</td>\n",
              "    </tr>\n",
              "    <tr>\n",
              "      <th>14594</th>\n",
              "      <td>Hunchback Impossible</td>\n",
              "      <td>21.93</td>\n",
              "      <td>2005-08-23 22:43:07</td>\n",
              "      <td>34</td>\n",
              "    </tr>\n",
              "    <tr>\n",
              "      <th>14595</th>\n",
              "      <td>Mob Duffel</td>\n",
              "      <td>19.35</td>\n",
              "      <td>2005-08-23 22:50:12</td>\n",
              "      <td>34</td>\n",
              "    </tr>\n",
              "  </tbody>\n",
              "</table>\n",
              "<p>14596 rows × 4 columns</p>\n",
              "</div>"
            ],
            "text/plain": [
              "                      title  amount         rental_date  rental_week\n",
              "0          Drumline Cyclone    3.99 2005-06-19 11:42:04           24\n",
              "1          Drumline Cyclone    0.99 2005-06-16 18:01:36           24\n",
              "2               Flight Lies    5.99 2005-06-17 08:19:22           24\n",
              "3               Flight Lies    4.99 2005-06-16 06:03:33           24\n",
              "4          Slacker Liaisons    4.99 2005-06-17 09:26:15           24\n",
              "...                     ...     ...                 ...          ...\n",
              "14591     Comancheros Enemy   30.15 2005-08-23 22:25:26           34\n",
              "14592        Voyage Legally   22.93 2005-08-23 22:26:47           34\n",
              "14593       Illusion Amelie   31.00 2005-08-23 22:42:48           34\n",
              "14594  Hunchback Impossible   21.93 2005-08-23 22:43:07           34\n",
              "14595            Mob Duffel   19.35 2005-08-23 22:50:12           34\n",
              "\n",
              "[14596 rows x 4 columns]"
            ]
          },
          "metadata": {
            "tags": []
          },
          "execution_count": 596
        }
      ]
    },
    {
      "cell_type": "code",
      "metadata": {
        "colab": {
          "base_uri": "https://localhost:8080/"
        },
        "id": "ujDu2jVdnQlD",
        "outputId": "ca496f33-e339-4ced-f7ef-0c7236d3156a"
      },
      "source": [
        "# Количество аренд по неделям\n",
        "revenue_data['rental_week'].value_counts().sort_index()"
      ],
      "execution_count": null,
      "outputs": [
        {
          "output_type": "execute_result",
          "data": {
            "text/plain": [
              "7      182\n",
              "24    1493\n",
              "25     522\n",
              "27    2501\n",
              "28     956\n",
              "30    3256\n",
              "31    1314\n",
              "33    3148\n",
              "34    1224\n",
              "Name: rental_week, dtype: int64"
            ]
          },
          "metadata": {
            "tags": []
          },
          "execution_count": 597
        }
      ]
    },
    {
      "cell_type": "code",
      "metadata": {
        "colab": {
          "base_uri": "https://localhost:8080/",
          "height": 406
        },
        "id": "HwnzQw3hnWqZ",
        "outputId": "52ddb804-41f2-4c6c-9bd4-bc611eea94a1"
      },
      "source": [
        "# Соединение результата с данными о категория\n",
        "revenue_data = revenue_data.merge(data, how='left', left_on='title', right_on='title').rename(columns={'new_seq':'category'})\n",
        "revenue_data"
      ],
      "execution_count": null,
      "outputs": [
        {
          "output_type": "execute_result",
          "data": {
            "text/html": [
              "<div>\n",
              "<style scoped>\n",
              "    .dataframe tbody tr th:only-of-type {\n",
              "        vertical-align: middle;\n",
              "    }\n",
              "\n",
              "    .dataframe tbody tr th {\n",
              "        vertical-align: top;\n",
              "    }\n",
              "\n",
              "    .dataframe thead th {\n",
              "        text-align: right;\n",
              "    }\n",
              "</style>\n",
              "<table border=\"1\" class=\"dataframe\">\n",
              "  <thead>\n",
              "    <tr style=\"text-align: right;\">\n",
              "      <th></th>\n",
              "      <th>title</th>\n",
              "      <th>amount</th>\n",
              "      <th>rental_date</th>\n",
              "      <th>rental_week</th>\n",
              "      <th>category</th>\n",
              "    </tr>\n",
              "  </thead>\n",
              "  <tbody>\n",
              "    <tr>\n",
              "      <th>0</th>\n",
              "      <td>Drumline Cyclone</td>\n",
              "      <td>3.99</td>\n",
              "      <td>2005-06-19 11:42:04</td>\n",
              "      <td>24</td>\n",
              "      <td>C</td>\n",
              "    </tr>\n",
              "    <tr>\n",
              "      <th>1</th>\n",
              "      <td>Drumline Cyclone</td>\n",
              "      <td>0.99</td>\n",
              "      <td>2005-06-16 18:01:36</td>\n",
              "      <td>24</td>\n",
              "      <td>C</td>\n",
              "    </tr>\n",
              "    <tr>\n",
              "      <th>2</th>\n",
              "      <td>Flight Lies</td>\n",
              "      <td>5.99</td>\n",
              "      <td>2005-06-17 08:19:22</td>\n",
              "      <td>24</td>\n",
              "      <td>C</td>\n",
              "    </tr>\n",
              "    <tr>\n",
              "      <th>3</th>\n",
              "      <td>Flight Lies</td>\n",
              "      <td>4.99</td>\n",
              "      <td>2005-06-16 06:03:33</td>\n",
              "      <td>24</td>\n",
              "      <td>C</td>\n",
              "    </tr>\n",
              "    <tr>\n",
              "      <th>4</th>\n",
              "      <td>Slacker Liaisons</td>\n",
              "      <td>4.99</td>\n",
              "      <td>2005-06-17 09:26:15</td>\n",
              "      <td>24</td>\n",
              "      <td>C</td>\n",
              "    </tr>\n",
              "    <tr>\n",
              "      <th>...</th>\n",
              "      <td>...</td>\n",
              "      <td>...</td>\n",
              "      <td>...</td>\n",
              "      <td>...</td>\n",
              "      <td>...</td>\n",
              "    </tr>\n",
              "    <tr>\n",
              "      <th>14591</th>\n",
              "      <td>Comancheros Enemy</td>\n",
              "      <td>30.15</td>\n",
              "      <td>2005-08-23 22:25:26</td>\n",
              "      <td>34</td>\n",
              "      <td>C</td>\n",
              "    </tr>\n",
              "    <tr>\n",
              "      <th>14592</th>\n",
              "      <td>Voyage Legally</td>\n",
              "      <td>22.93</td>\n",
              "      <td>2005-08-23 22:26:47</td>\n",
              "      <td>34</td>\n",
              "      <td>A</td>\n",
              "    </tr>\n",
              "    <tr>\n",
              "      <th>14593</th>\n",
              "      <td>Illusion Amelie</td>\n",
              "      <td>31.00</td>\n",
              "      <td>2005-08-23 22:42:48</td>\n",
              "      <td>34</td>\n",
              "      <td>A</td>\n",
              "    </tr>\n",
              "    <tr>\n",
              "      <th>14594</th>\n",
              "      <td>Hunchback Impossible</td>\n",
              "      <td>21.93</td>\n",
              "      <td>2005-08-23 22:43:07</td>\n",
              "      <td>34</td>\n",
              "      <td>B</td>\n",
              "    </tr>\n",
              "    <tr>\n",
              "      <th>14595</th>\n",
              "      <td>Mob Duffel</td>\n",
              "      <td>19.35</td>\n",
              "      <td>2005-08-23 22:50:12</td>\n",
              "      <td>34</td>\n",
              "      <td>C</td>\n",
              "    </tr>\n",
              "  </tbody>\n",
              "</table>\n",
              "<p>14596 rows × 5 columns</p>\n",
              "</div>"
            ],
            "text/plain": [
              "                      title  amount         rental_date  rental_week category\n",
              "0          Drumline Cyclone    3.99 2005-06-19 11:42:04           24        C\n",
              "1          Drumline Cyclone    0.99 2005-06-16 18:01:36           24        C\n",
              "2               Flight Lies    5.99 2005-06-17 08:19:22           24        C\n",
              "3               Flight Lies    4.99 2005-06-16 06:03:33           24        C\n",
              "4          Slacker Liaisons    4.99 2005-06-17 09:26:15           24        C\n",
              "...                     ...     ...                 ...          ...      ...\n",
              "14591     Comancheros Enemy   30.15 2005-08-23 22:25:26           34        C\n",
              "14592        Voyage Legally   22.93 2005-08-23 22:26:47           34        A\n",
              "14593       Illusion Amelie   31.00 2005-08-23 22:42:48           34        A\n",
              "14594  Hunchback Impossible   21.93 2005-08-23 22:43:07           34        B\n",
              "14595            Mob Duffel   19.35 2005-08-23 22:50:12           34        C\n",
              "\n",
              "[14596 rows x 5 columns]"
            ]
          },
          "metadata": {
            "tags": []
          },
          "execution_count": 598
        }
      ]
    },
    {
      "cell_type": "code",
      "metadata": {
        "colab": {
          "base_uri": "https://localhost:8080/"
        },
        "id": "buTijziL01QL",
        "outputId": "6f8b840e-4170-4dbf-e371-1450f3a45759"
      },
      "source": [
        "# Удаление стоблца с датами аренды, так как нужна только неделя аренды\n",
        "# Проверка на пропуски\n",
        "revenue_data = revenue_data.drop(columns=['rental_date'])\n",
        "revenue_data.isnull().value_counts()"
      ],
      "execution_count": null,
      "outputs": [
        {
          "output_type": "execute_result",
          "data": {
            "text/plain": [
              "title  amount  rental_week  category\n",
              "False  False   False        False       14512\n",
              "                            True           84\n",
              "dtype: int64"
            ]
          },
          "metadata": {
            "tags": []
          },
          "execution_count": 599
        }
      ]
    },
    {
      "cell_type": "code",
      "metadata": {
        "colab": {
          "base_uri": "https://localhost:8080/",
          "height": 406
        },
        "id": "r-xBTdrswugM",
        "outputId": "2de76aa4-a438-46a6-b16c-241f46364161"
      },
      "source": [
        "# Удаляю строчки с пропусками\n",
        "revenue_data = revenue_data.dropna()\n",
        "revenue_data"
      ],
      "execution_count": null,
      "outputs": [
        {
          "output_type": "execute_result",
          "data": {
            "text/html": [
              "<div>\n",
              "<style scoped>\n",
              "    .dataframe tbody tr th:only-of-type {\n",
              "        vertical-align: middle;\n",
              "    }\n",
              "\n",
              "    .dataframe tbody tr th {\n",
              "        vertical-align: top;\n",
              "    }\n",
              "\n",
              "    .dataframe thead th {\n",
              "        text-align: right;\n",
              "    }\n",
              "</style>\n",
              "<table border=\"1\" class=\"dataframe\">\n",
              "  <thead>\n",
              "    <tr style=\"text-align: right;\">\n",
              "      <th></th>\n",
              "      <th>title</th>\n",
              "      <th>amount</th>\n",
              "      <th>rental_week</th>\n",
              "      <th>category</th>\n",
              "    </tr>\n",
              "  </thead>\n",
              "  <tbody>\n",
              "    <tr>\n",
              "      <th>0</th>\n",
              "      <td>Drumline Cyclone</td>\n",
              "      <td>3.99</td>\n",
              "      <td>24</td>\n",
              "      <td>C</td>\n",
              "    </tr>\n",
              "    <tr>\n",
              "      <th>1</th>\n",
              "      <td>Drumline Cyclone</td>\n",
              "      <td>0.99</td>\n",
              "      <td>24</td>\n",
              "      <td>C</td>\n",
              "    </tr>\n",
              "    <tr>\n",
              "      <th>2</th>\n",
              "      <td>Flight Lies</td>\n",
              "      <td>5.99</td>\n",
              "      <td>24</td>\n",
              "      <td>C</td>\n",
              "    </tr>\n",
              "    <tr>\n",
              "      <th>3</th>\n",
              "      <td>Flight Lies</td>\n",
              "      <td>4.99</td>\n",
              "      <td>24</td>\n",
              "      <td>C</td>\n",
              "    </tr>\n",
              "    <tr>\n",
              "      <th>4</th>\n",
              "      <td>Slacker Liaisons</td>\n",
              "      <td>4.99</td>\n",
              "      <td>24</td>\n",
              "      <td>C</td>\n",
              "    </tr>\n",
              "    <tr>\n",
              "      <th>...</th>\n",
              "      <td>...</td>\n",
              "      <td>...</td>\n",
              "      <td>...</td>\n",
              "      <td>...</td>\n",
              "    </tr>\n",
              "    <tr>\n",
              "      <th>14591</th>\n",
              "      <td>Comancheros Enemy</td>\n",
              "      <td>30.15</td>\n",
              "      <td>34</td>\n",
              "      <td>C</td>\n",
              "    </tr>\n",
              "    <tr>\n",
              "      <th>14592</th>\n",
              "      <td>Voyage Legally</td>\n",
              "      <td>22.93</td>\n",
              "      <td>34</td>\n",
              "      <td>A</td>\n",
              "    </tr>\n",
              "    <tr>\n",
              "      <th>14593</th>\n",
              "      <td>Illusion Amelie</td>\n",
              "      <td>31.00</td>\n",
              "      <td>34</td>\n",
              "      <td>A</td>\n",
              "    </tr>\n",
              "    <tr>\n",
              "      <th>14594</th>\n",
              "      <td>Hunchback Impossible</td>\n",
              "      <td>21.93</td>\n",
              "      <td>34</td>\n",
              "      <td>B</td>\n",
              "    </tr>\n",
              "    <tr>\n",
              "      <th>14595</th>\n",
              "      <td>Mob Duffel</td>\n",
              "      <td>19.35</td>\n",
              "      <td>34</td>\n",
              "      <td>C</td>\n",
              "    </tr>\n",
              "  </tbody>\n",
              "</table>\n",
              "<p>14512 rows × 4 columns</p>\n",
              "</div>"
            ],
            "text/plain": [
              "                      title  amount  rental_week category\n",
              "0          Drumline Cyclone    3.99           24        C\n",
              "1          Drumline Cyclone    0.99           24        C\n",
              "2               Flight Lies    5.99           24        C\n",
              "3               Flight Lies    4.99           24        C\n",
              "4          Slacker Liaisons    4.99           24        C\n",
              "...                     ...     ...          ...      ...\n",
              "14591     Comancheros Enemy   30.15           34        C\n",
              "14592        Voyage Legally   22.93           34        A\n",
              "14593       Illusion Amelie   31.00           34        A\n",
              "14594  Hunchback Impossible   21.93           34        B\n",
              "14595            Mob Duffel   19.35           34        C\n",
              "\n",
              "[14512 rows x 4 columns]"
            ]
          },
          "metadata": {
            "tags": []
          },
          "execution_count": 600
        }
      ]
    },
    {
      "cell_type": "code",
      "metadata": {
        "colab": {
          "base_uri": "https://localhost:8080/",
          "height": 197
        },
        "id": "nkhU1qN2TfxA",
        "outputId": "f2c99b26-2bb4-4245-9351-810383cf20c8"
      },
      "source": [
        "# Выручки для каждой категории по неделям\n",
        "amount_category = revenue_data.groupby(['category', 'rental_week']).sum()\n",
        "amount_category = amount_category.unstack(level=1)\n",
        "amount_category"
      ],
      "execution_count": null,
      "outputs": [
        {
          "output_type": "execute_result",
          "data": {
            "text/html": [
              "<div>\n",
              "<style scoped>\n",
              "    .dataframe tbody tr th:only-of-type {\n",
              "        vertical-align: middle;\n",
              "    }\n",
              "\n",
              "    .dataframe tbody tr th {\n",
              "        vertical-align: top;\n",
              "    }\n",
              "\n",
              "    .dataframe thead tr th {\n",
              "        text-align: left;\n",
              "    }\n",
              "\n",
              "    .dataframe thead tr:last-of-type th {\n",
              "        text-align: right;\n",
              "    }\n",
              "</style>\n",
              "<table border=\"1\" class=\"dataframe\">\n",
              "  <thead>\n",
              "    <tr>\n",
              "      <th></th>\n",
              "      <th colspan=\"9\" halign=\"left\">amount</th>\n",
              "    </tr>\n",
              "    <tr>\n",
              "      <th>rental_week</th>\n",
              "      <th>7</th>\n",
              "      <th>24</th>\n",
              "      <th>25</th>\n",
              "      <th>27</th>\n",
              "      <th>28</th>\n",
              "      <th>30</th>\n",
              "      <th>31</th>\n",
              "      <th>33</th>\n",
              "      <th>34</th>\n",
              "    </tr>\n",
              "    <tr>\n",
              "      <th>category</th>\n",
              "      <th></th>\n",
              "      <th></th>\n",
              "      <th></th>\n",
              "      <th></th>\n",
              "      <th></th>\n",
              "      <th></th>\n",
              "      <th></th>\n",
              "      <th></th>\n",
              "      <th></th>\n",
              "    </tr>\n",
              "  </thead>\n",
              "  <tbody>\n",
              "    <tr>\n",
              "      <th>A</th>\n",
              "      <td>2663.08</td>\n",
              "      <td>24816.44</td>\n",
              "      <td>7504.60</td>\n",
              "      <td>37490.57</td>\n",
              "      <td>14089.92</td>\n",
              "      <td>43702.25</td>\n",
              "      <td>21911.21</td>\n",
              "      <td>42770.81</td>\n",
              "      <td>19890.53</td>\n",
              "    </tr>\n",
              "    <tr>\n",
              "      <th>B</th>\n",
              "      <td>1703.90</td>\n",
              "      <td>11827.11</td>\n",
              "      <td>5402.95</td>\n",
              "      <td>23681.30</td>\n",
              "      <td>8714.90</td>\n",
              "      <td>33121.77</td>\n",
              "      <td>10657.86</td>\n",
              "      <td>32236.14</td>\n",
              "      <td>9715.14</td>\n",
              "    </tr>\n",
              "    <tr>\n",
              "      <th>C</th>\n",
              "      <td>298.54</td>\n",
              "      <td>1290.45</td>\n",
              "      <td>576.61</td>\n",
              "      <td>2879.87</td>\n",
              "      <td>1231.08</td>\n",
              "      <td>5717.99</td>\n",
              "      <td>1418.13</td>\n",
              "      <td>4942.90</td>\n",
              "      <td>1834.25</td>\n",
              "    </tr>\n",
              "  </tbody>\n",
              "</table>\n",
              "</div>"
            ],
            "text/plain": [
              "              amount                     ...                              \n",
              "rental_week       7         24       25  ...        31        33        34\n",
              "category                                 ...                              \n",
              "A            2663.08  24816.44  7504.60  ...  21911.21  42770.81  19890.53\n",
              "B            1703.90  11827.11  5402.95  ...  10657.86  32236.14   9715.14\n",
              "C             298.54   1290.45   576.61  ...   1418.13   4942.90   1834.25\n",
              "\n",
              "[3 rows x 9 columns]"
            ]
          },
          "metadata": {
            "tags": []
          },
          "execution_count": 601
        }
      ]
    },
    {
      "cell_type": "code",
      "metadata": {
        "colab": {
          "base_uri": "https://localhost:8080/"
        },
        "id": "qrCQzpmCWDc8",
        "outputId": "a19386a3-79c7-42a4-a3ed-8408a1edd786"
      },
      "source": [
        "amount_category.index"
      ],
      "execution_count": null,
      "outputs": [
        {
          "output_type": "execute_result",
          "data": {
            "text/plain": [
              "Index(['A', 'B', 'C'], dtype='object', name='category')"
            ]
          },
          "metadata": {
            "tags": []
          },
          "execution_count": 602
        }
      ]
    },
    {
      "cell_type": "markdown",
      "metadata": {
        "id": "Rm_pbta2ulXr"
      },
      "source": [
        "### Итоговые значения"
      ]
    },
    {
      "cell_type": "code",
      "metadata": {
        "colab": {
          "base_uri": "https://localhost:8080/",
          "height": 197
        },
        "id": "2vtyqzyNVau2",
        "outputId": "4a4fe1de-1fff-4ccc-e151-5447d04161b6"
      },
      "source": [
        "# Чтобы оценить отклонения по выручке в каждой категории, я считал какой процент от среднего составляет стандартное отклонение\n",
        "for i in amount_category.index:\n",
        "  val_mean = round(amount_category.loc[i].mean(),3)\n",
        "  val_std = round(amount_category.loc[i].std(), 3)\n",
        "  amount_category.loc[i, 'mean'] = val_mean\n",
        "  amount_category.loc[i, 'std'] = val_std\n",
        "  amount_category.loc[i, 'percent_std'] = val_std / val_mean\n",
        "amount_category"
      ],
      "execution_count": null,
      "outputs": [
        {
          "output_type": "execute_result",
          "data": {
            "text/html": [
              "<div>\n",
              "<style scoped>\n",
              "    .dataframe tbody tr th:only-of-type {\n",
              "        vertical-align: middle;\n",
              "    }\n",
              "\n",
              "    .dataframe tbody tr th {\n",
              "        vertical-align: top;\n",
              "    }\n",
              "\n",
              "    .dataframe thead tr th {\n",
              "        text-align: left;\n",
              "    }\n",
              "\n",
              "    .dataframe thead tr:last-of-type th {\n",
              "        text-align: right;\n",
              "    }\n",
              "</style>\n",
              "<table border=\"1\" class=\"dataframe\">\n",
              "  <thead>\n",
              "    <tr>\n",
              "      <th></th>\n",
              "      <th colspan=\"9\" halign=\"left\">amount</th>\n",
              "      <th>mean</th>\n",
              "      <th>std</th>\n",
              "      <th>percent_std</th>\n",
              "    </tr>\n",
              "    <tr>\n",
              "      <th>rental_week</th>\n",
              "      <th>7</th>\n",
              "      <th>24</th>\n",
              "      <th>25</th>\n",
              "      <th>27</th>\n",
              "      <th>28</th>\n",
              "      <th>30</th>\n",
              "      <th>31</th>\n",
              "      <th>33</th>\n",
              "      <th>34</th>\n",
              "      <th></th>\n",
              "      <th></th>\n",
              "      <th></th>\n",
              "    </tr>\n",
              "    <tr>\n",
              "      <th>category</th>\n",
              "      <th></th>\n",
              "      <th></th>\n",
              "      <th></th>\n",
              "      <th></th>\n",
              "      <th></th>\n",
              "      <th></th>\n",
              "      <th></th>\n",
              "      <th></th>\n",
              "      <th></th>\n",
              "      <th></th>\n",
              "      <th></th>\n",
              "      <th></th>\n",
              "    </tr>\n",
              "  </thead>\n",
              "  <tbody>\n",
              "    <tr>\n",
              "      <th>A</th>\n",
              "      <td>2663.08</td>\n",
              "      <td>24816.44</td>\n",
              "      <td>7504.60</td>\n",
              "      <td>37490.57</td>\n",
              "      <td>14089.92</td>\n",
              "      <td>43702.25</td>\n",
              "      <td>21911.21</td>\n",
              "      <td>42770.81</td>\n",
              "      <td>19890.53</td>\n",
              "      <td>23871.046</td>\n",
              "      <td>14873.875</td>\n",
              "      <td>0.623093</td>\n",
              "    </tr>\n",
              "    <tr>\n",
              "      <th>B</th>\n",
              "      <td>1703.90</td>\n",
              "      <td>11827.11</td>\n",
              "      <td>5402.95</td>\n",
              "      <td>23681.30</td>\n",
              "      <td>8714.90</td>\n",
              "      <td>33121.77</td>\n",
              "      <td>10657.86</td>\n",
              "      <td>32236.14</td>\n",
              "      <td>9715.14</td>\n",
              "      <td>15229.008</td>\n",
              "      <td>11541.335</td>\n",
              "      <td>0.757852</td>\n",
              "    </tr>\n",
              "    <tr>\n",
              "      <th>C</th>\n",
              "      <td>298.54</td>\n",
              "      <td>1290.45</td>\n",
              "      <td>576.61</td>\n",
              "      <td>2879.87</td>\n",
              "      <td>1231.08</td>\n",
              "      <td>5717.99</td>\n",
              "      <td>1418.13</td>\n",
              "      <td>4942.90</td>\n",
              "      <td>1834.25</td>\n",
              "      <td>2243.313</td>\n",
              "      <td>1907.460</td>\n",
              "      <td>0.850287</td>\n",
              "    </tr>\n",
              "  </tbody>\n",
              "</table>\n",
              "</div>"
            ],
            "text/plain": [
              "              amount                     ...       mean        std percent_std\n",
              "rental_week        7        24       25  ...                                  \n",
              "category                                 ...                                  \n",
              "A            2663.08  24816.44  7504.60  ...  23871.046  14873.875    0.623093\n",
              "B            1703.90  11827.11  5402.95  ...  15229.008  11541.335    0.757852\n",
              "C             298.54   1290.45   576.61  ...   2243.313   1907.460    0.850287\n",
              "\n",
              "[3 rows x 12 columns]"
            ]
          },
          "metadata": {
            "tags": []
          },
          "execution_count": 603
        }
      ]
    },
    {
      "cell_type": "markdown",
      "metadata": {
        "id": "iL1HopTueEtQ"
      },
      "source": [
        "Вывод: чем важнее категория, тем меньше (относительно среднего) стандартное отклонение для недельной выручки"
      ]
    },
    {
      "cell_type": "markdown",
      "metadata": {
        "id": "qdJ-tUaRRv--"
      },
      "source": [
        "## Построение классификатора фильмов \n",
        "Задание: Используя оценки выручки из пункта 2 и категоризацию из пункта 1, постройте классификатор фильмов на основе актерского состава, языка, рейтинга (12+, 18+, см колонку rating) и продолжительности. При построении классификатора подберите пороговые значения для каждого класса так, чтобы максимизировать ожидаемую выручку. То-есть нужно предсказывать категории А,B,C. Дополнительно, при сравнении моделей воспользуйтесь построением доверительных интервалов (t интервалов) для оценки диапазона значений метрик качества для каждого классификатора."
      ]
    },
    {
      "cell_type": "markdown",
      "metadata": {
        "id": "5_aX7BCiqvmP"
      },
      "source": [
        "Честно, мне лень копировать все блоки с кодом, чтобы показывать что, когда я использовал и какой результат получил, поэтому я покажу итоговый вариант, но прокоммментирую что пробовал применять, и что получил."
      ]
    },
    {
      "cell_type": "code",
      "metadata": {
        "colab": {
          "base_uri": "https://localhost:8080/",
          "height": 406
        },
        "id": "ifkbtpwqbXu4",
        "outputId": "46cf6def-ff11-48ad-ca21-b5a69f0f7e6e"
      },
      "source": [
        "# Запрос на получение рейтинга, продолжительности, языка, актёрского состава для каждого фильма\n",
        "# Забегая вперёд скажу, что язык у всех фильмов одинаковый, поэтому использовать его в обучении бесполезно\n",
        "# Вместо языка я использовал категории (жанры) фильмов (category_id)\n",
        "# fulltext дал большой прирост по точности\n",
        "# Пробовал добавлять столбец special_features, но лучше модель не становилась\n",
        "model_data = pd.read_sql_query(\"\"\"SELECT title,\n",
        "       rating,\n",
        "       length,\n",
        "       language_id,\n",
        "       actor_id,\n",
        "       category_id, \n",
        "       fulltext\n",
        "FROM  film_category\n",
        "       JOIN film\n",
        "         ON film_category.film_id=film.film_id\n",
        "       JOIN film_actor\n",
        "         ON film.film_id = film_actor.film_id; \"\"\", conn)\n",
        "model_data"
      ],
      "execution_count": null,
      "outputs": [
        {
          "output_type": "execute_result",
          "data": {
            "text/html": [
              "<div>\n",
              "<style scoped>\n",
              "    .dataframe tbody tr th:only-of-type {\n",
              "        vertical-align: middle;\n",
              "    }\n",
              "\n",
              "    .dataframe tbody tr th {\n",
              "        vertical-align: top;\n",
              "    }\n",
              "\n",
              "    .dataframe thead th {\n",
              "        text-align: right;\n",
              "    }\n",
              "</style>\n",
              "<table border=\"1\" class=\"dataframe\">\n",
              "  <thead>\n",
              "    <tr style=\"text-align: right;\">\n",
              "      <th></th>\n",
              "      <th>title</th>\n",
              "      <th>rating</th>\n",
              "      <th>length</th>\n",
              "      <th>language_id</th>\n",
              "      <th>actor_id</th>\n",
              "      <th>category_id</th>\n",
              "      <th>fulltext</th>\n",
              "    </tr>\n",
              "  </thead>\n",
              "  <tbody>\n",
              "    <tr>\n",
              "      <th>0</th>\n",
              "      <td>Academy Dinosaur</td>\n",
              "      <td>PG</td>\n",
              "      <td>86</td>\n",
              "      <td>1</td>\n",
              "      <td>1</td>\n",
              "      <td>6</td>\n",
              "      <td>'academi':1 'battl':15 'canadian':20 'dinosaur...</td>\n",
              "    </tr>\n",
              "    <tr>\n",
              "      <th>1</th>\n",
              "      <td>Anaconda Confessions</td>\n",
              "      <td>R</td>\n",
              "      <td>92</td>\n",
              "      <td>1</td>\n",
              "      <td>1</td>\n",
              "      <td>2</td>\n",
              "      <td>'anaconda':1 'australia':18 'confess':2 'denti...</td>\n",
              "    </tr>\n",
              "    <tr>\n",
              "      <th>2</th>\n",
              "      <td>Angels Life</td>\n",
              "      <td>G</td>\n",
              "      <td>74</td>\n",
              "      <td>1</td>\n",
              "      <td>1</td>\n",
              "      <td>13</td>\n",
              "      <td>'angel':1 'astronaut':11 'battl':14 'berlin':1...</td>\n",
              "    </tr>\n",
              "    <tr>\n",
              "      <th>3</th>\n",
              "      <td>Bulworth Commandments</td>\n",
              "      <td>G</td>\n",
              "      <td>61</td>\n",
              "      <td>1</td>\n",
              "      <td>1</td>\n",
              "      <td>10</td>\n",
              "      <td>'amaz':4 'bulworth':1 'command':2 'cow':9 'dis...</td>\n",
              "    </tr>\n",
              "    <tr>\n",
              "      <th>4</th>\n",
              "      <td>Cheaper Clyde</td>\n",
              "      <td>G</td>\n",
              "      <td>87</td>\n",
              "      <td>1</td>\n",
              "      <td>1</td>\n",
              "      <td>14</td>\n",
              "      <td>'ancient':19 'charact':5 'cheaper':1 'clyde':2...</td>\n",
              "    </tr>\n",
              "    <tr>\n",
              "      <th>...</th>\n",
              "      <td>...</td>\n",
              "      <td>...</td>\n",
              "      <td>...</td>\n",
              "      <td>...</td>\n",
              "      <td>...</td>\n",
              "      <td>...</td>\n",
              "      <td>...</td>\n",
              "    </tr>\n",
              "    <tr>\n",
              "      <th>5457</th>\n",
              "      <td>Telegraph Voyage</td>\n",
              "      <td>PG</td>\n",
              "      <td>148</td>\n",
              "      <td>1</td>\n",
              "      <td>200</td>\n",
              "      <td>12</td>\n",
              "      <td>'battl':14 'boat':20 'dog':11 'fate':4 'husban...</td>\n",
              "    </tr>\n",
              "    <tr>\n",
              "      <th>5458</th>\n",
              "      <td>Trojan Tomorrow</td>\n",
              "      <td>PG</td>\n",
              "      <td>52</td>\n",
              "      <td>1</td>\n",
              "      <td>200</td>\n",
              "      <td>14</td>\n",
              "      <td>'ancient':19 'astound':4 'boat':17 'husband':8...</td>\n",
              "    </tr>\n",
              "    <tr>\n",
              "      <th>5459</th>\n",
              "      <td>Virginian Pluto</td>\n",
              "      <td>R</td>\n",
              "      <td>164</td>\n",
              "      <td>1</td>\n",
              "      <td>200</td>\n",
              "      <td>6</td>\n",
              "      <td>'berlin':18 'boy':16 'crocodil':11 'dentist':8...</td>\n",
              "    </tr>\n",
              "    <tr>\n",
              "      <th>5460</th>\n",
              "      <td>Wardrobe Phantom</td>\n",
              "      <td>G</td>\n",
              "      <td>178</td>\n",
              "      <td>1</td>\n",
              "      <td>200</td>\n",
              "      <td>7</td>\n",
              "      <td>'action':5 'action-pack':4 'ancient':21 'astro...</td>\n",
              "    </tr>\n",
              "    <tr>\n",
              "      <th>5461</th>\n",
              "      <td>Wrong Behavior</td>\n",
              "      <td>PG-13</td>\n",
              "      <td>178</td>\n",
              "      <td>1</td>\n",
              "      <td>200</td>\n",
              "      <td>3</td>\n",
              "      <td>'behavior':2 'cow':18 'crocodil':8 'discov':15...</td>\n",
              "    </tr>\n",
              "  </tbody>\n",
              "</table>\n",
              "<p>5462 rows × 7 columns</p>\n",
              "</div>"
            ],
            "text/plain": [
              "                      title  ...                                           fulltext\n",
              "0          Academy Dinosaur  ...  'academi':1 'battl':15 'canadian':20 'dinosaur...\n",
              "1      Anaconda Confessions  ...  'anaconda':1 'australia':18 'confess':2 'denti...\n",
              "2               Angels Life  ...  'angel':1 'astronaut':11 'battl':14 'berlin':1...\n",
              "3     Bulworth Commandments  ...  'amaz':4 'bulworth':1 'command':2 'cow':9 'dis...\n",
              "4             Cheaper Clyde  ...  'ancient':19 'charact':5 'cheaper':1 'clyde':2...\n",
              "...                     ...  ...                                                ...\n",
              "5457       Telegraph Voyage  ...  'battl':14 'boat':20 'dog':11 'fate':4 'husban...\n",
              "5458        Trojan Tomorrow  ...  'ancient':19 'astound':4 'boat':17 'husband':8...\n",
              "5459        Virginian Pluto  ...  'berlin':18 'boy':16 'crocodil':11 'dentist':8...\n",
              "5460       Wardrobe Phantom  ...  'action':5 'action-pack':4 'ancient':21 'astro...\n",
              "5461         Wrong Behavior  ...  'behavior':2 'cow':18 'crocodil':8 'discov':15...\n",
              "\n",
              "[5462 rows x 7 columns]"
            ]
          },
          "metadata": {
            "tags": []
          },
          "execution_count": 604
        }
      ]
    },
    {
      "cell_type": "markdown",
      "metadata": {
        "id": "NgVzVJWTeXhK"
      },
      "source": [
        "### Анализ данных"
      ]
    },
    {
      "cell_type": "code",
      "metadata": {
        "colab": {
          "base_uri": "https://localhost:8080/",
          "height": 651
        },
        "id": "RxOaObhWfE7m",
        "outputId": "078ac786-8745-4759-e885-ba46f14a7c03"
      },
      "source": [
        "# Проверка на наличие аномалий\n",
        "sns.boxplot(model_data['length'])"
      ],
      "execution_count": null,
      "outputs": [
        {
          "output_type": "stream",
          "text": [
            "/usr/local/lib/python3.7/dist-packages/seaborn/_decorators.py:43: FutureWarning: Pass the following variable as a keyword arg: x. From version 0.12, the only valid positional argument will be `data`, and passing other arguments without an explicit keyword will result in an error or misinterpretation.\n",
            "  FutureWarning\n"
          ],
          "name": "stderr"
        },
        {
          "output_type": "execute_result",
          "data": {
            "text/plain": [
              "<matplotlib.axes._subplots.AxesSubplot at 0x7efd994084d0>"
            ]
          },
          "metadata": {
            "tags": []
          },
          "execution_count": 605
        },
        {
          "output_type": "display_data",
          "data": {
            "image/png": "[encoded data removed]",
            "text/plain": [
              "<Figure size 1152x648 with 1 Axes>"
            ]
          },
          "metadata": {
            "tags": [],
            "needs_background": "light"
          }
        }
      ]
    },
    {
      "cell_type": "code",
      "metadata": {
        "colab": {
          "base_uri": "https://localhost:8080/",
          "height": 652
        },
        "id": "mN8d8_qEx_rp",
        "outputId": "8672c303-06ef-437b-9e88-309eb2785f56"
      },
      "source": [
        "sns.boxplot(model_data['category_id'])"
      ],
      "execution_count": null,
      "outputs": [
        {
          "output_type": "stream",
          "text": [
            "/usr/local/lib/python3.7/dist-packages/seaborn/_decorators.py:43: FutureWarning: Pass the following variable as a keyword arg: x. From version 0.12, the only valid positional argument will be `data`, and passing other arguments without an explicit keyword will result in an error or misinterpretation.\n",
            "  FutureWarning\n"
          ],
          "name": "stderr"
        },
        {
          "output_type": "execute_result",
          "data": {
            "text/plain": [
              "<matplotlib.axes._subplots.AxesSubplot at 0x7efd99c34490>"
            ]
          },
          "metadata": {
            "tags": []
          },
          "execution_count": 606
        },
        {
          "output_type": "display_data",
          "data": {
            "image/png": "[encoded data removed]",
            "text/plain": [
              "<Figure size 1152x648 with 1 Axes>"
            ]
          },
          "metadata": {
            "tags": [],
            "needs_background": "light"
          }
        }
      ]
    },
    {
      "cell_type": "code",
      "metadata": {
        "colab": {
          "base_uri": "https://localhost:8080/"
        },
        "id": "GxxJN5w537WL",
        "outputId": "16545011-ff76-484d-de33-7fc973e1e9ff"
      },
      "source": [
        "model_data['fulltext'].value_counts()"
      ],
      "execution_count": null,
      "outputs": [
        {
          "output_type": "execute_result",
          "data": {
            "text/plain": [
              "'australia':18 'cincinatti':2 'compos':16 'feminist':11 'fight':14 'insight':4 'lamb':1 'man':8 'must':13 'stori':5                     15\n",
              "'abandon':19 'cat':11 'crystal':2 'dracula':1 'feminist':8 'find':14 'frisbe':16 'fun':20 'hous':21 'must':13 'reflect':5 'thrill':4    13\n",
              "'australia':19 'charact':5 'creatur':2 'crocodil':9 'dentist':17 'fate':4 'meet':15 'monkey':12 'mummi':1 'must':14 'studi':6           13\n",
              "'cat':16 'confront':14 'drama':5 'fate':4 'frisbe':8 'go':2 'must':13 'random':1 'shark':19 'student':11 'tank':20                      13\n",
              "'administr':17 'boy':8 'crazi':1 'databas':16 'fanci':4 'home':2 'must':13 'outback':20 'panorama':5 'vanquish':14 'woman':11           13\n",
              "                                                                                                                                        ..\n",
              "'bride':1 'epic':4 'intrigu':2 'man':16 'monkey':11 'must':13 'new':18 'orlean':19 'robot':8 'tale':5 'vanquish':14                      1\n",
              "'amaz':4 'crocodil':8 'explor':11 'fight':14 'husband':16 'must':13 'nigeria':18 'panorama':5 'psycho':1 'shrunk':2                      1\n",
              "'display':5 'doll':1 'escap':14 'frisbe':11 'must':13 'outback':19 'pioneer':8 'rage':2 'teacher':16 'thrill':4                          1\n",
              "'alter':2 'ancient':18 'challeng':14 'compos':16 'dog':11 'dwarf':1 'emot':4 'girl':8 'japan':19 'must':13 'yarn':5                      1\n",
              "'amaz':4 'astronaut':11 'berlin':18 'display':5 'fight':14 'idaho':2 'must':13 'robot':8 'woman':16 'yentl':1                            1\n",
              "Name: fulltext, Length: 997, dtype: int64"
            ]
          },
          "metadata": {
            "tags": []
          },
          "execution_count": 607
        }
      ]
    },
    {
      "cell_type": "code",
      "metadata": {
        "colab": {
          "base_uri": "https://localhost:8080/"
        },
        "id": "N_PsRCO1fOnZ",
        "outputId": "40444287-d8cd-4c0f-883e-259fb43631ac"
      },
      "source": [
        "model_data['language_id'].value_counts()\n",
        "# Нет смысла использовать язык фильма в обучении, если он для всех одинаков"
      ],
      "execution_count": null,
      "outputs": [
        {
          "output_type": "execute_result",
          "data": {
            "text/plain": [
              "1    5462\n",
              "Name: language_id, dtype: int64"
            ]
          },
          "metadata": {
            "tags": []
          },
          "execution_count": 608
        }
      ]
    },
    {
      "cell_type": "code",
      "metadata": {
        "id": "Mm6f-MRnicj5",
        "colab": {
          "base_uri": "https://localhost:8080/",
          "height": 406
        },
        "outputId": "9fd40160-4a92-4a7a-db46-b788a55adc6e"
      },
      "source": [
        "# Присоединение категорий A,B,C\n",
        "# Удаление столбца с языками и названиями фильмов\n",
        "model_data = model_data.merge(data, how='left', left_on='title', right_on='title').rename(columns={'new_seq':'category', 'category_id': 'genre'})\n",
        "model_data = model_data.drop(columns=['title', 'language_id'])\n",
        "model_data"
      ],
      "execution_count": null,
      "outputs": [
        {
          "output_type": "execute_result",
          "data": {
            "text/html": [
              "<div>\n",
              "<style scoped>\n",
              "    .dataframe tbody tr th:only-of-type {\n",
              "        vertical-align: middle;\n",
              "    }\n",
              "\n",
              "    .dataframe tbody tr th {\n",
              "        vertical-align: top;\n",
              "    }\n",
              "\n",
              "    .dataframe thead th {\n",
              "        text-align: right;\n",
              "    }\n",
              "</style>\n",
              "<table border=\"1\" class=\"dataframe\">\n",
              "  <thead>\n",
              "    <tr style=\"text-align: right;\">\n",
              "      <th></th>\n",
              "      <th>rating</th>\n",
              "      <th>length</th>\n",
              "      <th>actor_id</th>\n",
              "      <th>genre</th>\n",
              "      <th>fulltext</th>\n",
              "      <th>category</th>\n",
              "    </tr>\n",
              "  </thead>\n",
              "  <tbody>\n",
              "    <tr>\n",
              "      <th>0</th>\n",
              "      <td>PG</td>\n",
              "      <td>86</td>\n",
              "      <td>1</td>\n",
              "      <td>6</td>\n",
              "      <td>'academi':1 'battl':15 'canadian':20 'dinosaur...</td>\n",
              "      <td>A</td>\n",
              "    </tr>\n",
              "    <tr>\n",
              "      <th>1</th>\n",
              "      <td>R</td>\n",
              "      <td>92</td>\n",
              "      <td>1</td>\n",
              "      <td>2</td>\n",
              "      <td>'anaconda':1 'australia':18 'confess':2 'denti...</td>\n",
              "      <td>A</td>\n",
              "    </tr>\n",
              "    <tr>\n",
              "      <th>2</th>\n",
              "      <td>G</td>\n",
              "      <td>74</td>\n",
              "      <td>1</td>\n",
              "      <td>13</td>\n",
              "      <td>'angel':1 'astronaut':11 'battl':14 'berlin':1...</td>\n",
              "      <td>A</td>\n",
              "    </tr>\n",
              "    <tr>\n",
              "      <th>3</th>\n",
              "      <td>G</td>\n",
              "      <td>61</td>\n",
              "      <td>1</td>\n",
              "      <td>10</td>\n",
              "      <td>'amaz':4 'bulworth':1 'command':2 'cow':9 'dis...</td>\n",
              "      <td>C</td>\n",
              "    </tr>\n",
              "    <tr>\n",
              "      <th>4</th>\n",
              "      <td>G</td>\n",
              "      <td>87</td>\n",
              "      <td>1</td>\n",
              "      <td>14</td>\n",
              "      <td>'ancient':19 'charact':5 'cheaper':1 'clyde':2...</td>\n",
              "      <td>A</td>\n",
              "    </tr>\n",
              "    <tr>\n",
              "      <th>...</th>\n",
              "      <td>...</td>\n",
              "      <td>...</td>\n",
              "      <td>...</td>\n",
              "      <td>...</td>\n",
              "      <td>...</td>\n",
              "      <td>...</td>\n",
              "    </tr>\n",
              "    <tr>\n",
              "      <th>5457</th>\n",
              "      <td>PG</td>\n",
              "      <td>148</td>\n",
              "      <td>200</td>\n",
              "      <td>12</td>\n",
              "      <td>'battl':14 'boat':20 'dog':11 'fate':4 'husban...</td>\n",
              "      <td>A</td>\n",
              "    </tr>\n",
              "    <tr>\n",
              "      <th>5458</th>\n",
              "      <td>PG</td>\n",
              "      <td>52</td>\n",
              "      <td>200</td>\n",
              "      <td>14</td>\n",
              "      <td>'ancient':19 'astound':4 'boat':17 'husband':8...</td>\n",
              "      <td>A</td>\n",
              "    </tr>\n",
              "    <tr>\n",
              "      <th>5459</th>\n",
              "      <td>R</td>\n",
              "      <td>164</td>\n",
              "      <td>200</td>\n",
              "      <td>6</td>\n",
              "      <td>'berlin':18 'boy':16 'crocodil':11 'dentist':8...</td>\n",
              "      <td>A</td>\n",
              "    </tr>\n",
              "    <tr>\n",
              "      <th>5460</th>\n",
              "      <td>G</td>\n",
              "      <td>178</td>\n",
              "      <td>200</td>\n",
              "      <td>7</td>\n",
              "      <td>'action':5 'action-pack':4 'ancient':21 'astro...</td>\n",
              "      <td>A</td>\n",
              "    </tr>\n",
              "    <tr>\n",
              "      <th>5461</th>\n",
              "      <td>PG-13</td>\n",
              "      <td>178</td>\n",
              "      <td>200</td>\n",
              "      <td>3</td>\n",
              "      <td>'behavior':2 'cow':18 'crocodil':8 'discov':15...</td>\n",
              "      <td>B</td>\n",
              "    </tr>\n",
              "  </tbody>\n",
              "</table>\n",
              "<p>5462 rows × 6 columns</p>\n",
              "</div>"
            ],
            "text/plain": [
              "     rating  length  ...                                           fulltext  category\n",
              "0        PG      86  ...  'academi':1 'battl':15 'canadian':20 'dinosaur...         A\n",
              "1         R      92  ...  'anaconda':1 'australia':18 'confess':2 'denti...         A\n",
              "2         G      74  ...  'angel':1 'astronaut':11 'battl':14 'berlin':1...         A\n",
              "3         G      61  ...  'amaz':4 'bulworth':1 'command':2 'cow':9 'dis...         C\n",
              "4         G      87  ...  'ancient':19 'charact':5 'cheaper':1 'clyde':2...         A\n",
              "...     ...     ...  ...                                                ...       ...\n",
              "5457     PG     148  ...  'battl':14 'boat':20 'dog':11 'fate':4 'husban...         A\n",
              "5458     PG      52  ...  'ancient':19 'astound':4 'boat':17 'husband':8...         A\n",
              "5459      R     164  ...  'berlin':18 'boy':16 'crocodil':11 'dentist':8...         A\n",
              "5460      G     178  ...  'action':5 'action-pack':4 'ancient':21 'astro...         A\n",
              "5461  PG-13     178  ...  'behavior':2 'cow':18 'crocodil':8 'discov':15...         B\n",
              "\n",
              "[5462 rows x 6 columns]"
            ]
          },
          "metadata": {
            "tags": []
          },
          "execution_count": 609
        }
      ]
    },
    {
      "cell_type": "code",
      "metadata": {
        "colab": {
          "base_uri": "https://localhost:8080/"
        },
        "id": "I-b8XgFrkOCU",
        "outputId": "5784e552-1b3f-408c-ef20-752d2d27118e"
      },
      "source": [
        "# Проверка на наличие нулевых значений\n",
        "model_data.isnull().value_counts()"
      ],
      "execution_count": null,
      "outputs": [
        {
          "output_type": "execute_result",
          "data": {
            "text/plain": [
              "rating  length  actor_id  genre  fulltext  category\n",
              "False   False   False     False  False     False       5232\n",
              "                                           True         230\n",
              "dtype: int64"
            ]
          },
          "metadata": {
            "tags": []
          },
          "execution_count": 610
        }
      ]
    },
    {
      "cell_type": "code",
      "metadata": {
        "colab": {
          "base_uri": "https://localhost:8080/",
          "height": 406
        },
        "id": "l8UG4bL9kVS1",
        "outputId": "d31ee889-e21c-40bf-ddf4-c47da67784ad"
      },
      "source": [
        "# Удаление нулевых значений\n",
        "model_data = model_data.dropna()\n",
        "model_data"
      ],
      "execution_count": null,
      "outputs": [
        {
          "output_type": "execute_result",
          "data": {
            "text/html": [
              "<div>\n",
              "<style scoped>\n",
              "    .dataframe tbody tr th:only-of-type {\n",
              "        vertical-align: middle;\n",
              "    }\n",
              "\n",
              "    .dataframe tbody tr th {\n",
              "        vertical-align: top;\n",
              "    }\n",
              "\n",
              "    .dataframe thead th {\n",
              "        text-align: right;\n",
              "    }\n",
              "</style>\n",
              "<table border=\"1\" class=\"dataframe\">\n",
              "  <thead>\n",
              "    <tr style=\"text-align: right;\">\n",
              "      <th></th>\n",
              "      <th>rating</th>\n",
              "      <th>length</th>\n",
              "      <th>actor_id</th>\n",
              "      <th>genre</th>\n",
              "      <th>fulltext</th>\n",
              "      <th>category</th>\n",
              "    </tr>\n",
              "  </thead>\n",
              "  <tbody>\n",
              "    <tr>\n",
              "      <th>0</th>\n",
              "      <td>PG</td>\n",
              "      <td>86</td>\n",
              "      <td>1</td>\n",
              "      <td>6</td>\n",
              "      <td>'academi':1 'battl':15 'canadian':20 'dinosaur...</td>\n",
              "      <td>A</td>\n",
              "    </tr>\n",
              "    <tr>\n",
              "      <th>1</th>\n",
              "      <td>R</td>\n",
              "      <td>92</td>\n",
              "      <td>1</td>\n",
              "      <td>2</td>\n",
              "      <td>'anaconda':1 'australia':18 'confess':2 'denti...</td>\n",
              "      <td>A</td>\n",
              "    </tr>\n",
              "    <tr>\n",
              "      <th>2</th>\n",
              "      <td>G</td>\n",
              "      <td>74</td>\n",
              "      <td>1</td>\n",
              "      <td>13</td>\n",
              "      <td>'angel':1 'astronaut':11 'battl':14 'berlin':1...</td>\n",
              "      <td>A</td>\n",
              "    </tr>\n",
              "    <tr>\n",
              "      <th>3</th>\n",
              "      <td>G</td>\n",
              "      <td>61</td>\n",
              "      <td>1</td>\n",
              "      <td>10</td>\n",
              "      <td>'amaz':4 'bulworth':1 'command':2 'cow':9 'dis...</td>\n",
              "      <td>C</td>\n",
              "    </tr>\n",
              "    <tr>\n",
              "      <th>4</th>\n",
              "      <td>G</td>\n",
              "      <td>87</td>\n",
              "      <td>1</td>\n",
              "      <td>14</td>\n",
              "      <td>'ancient':19 'charact':5 'cheaper':1 'clyde':2...</td>\n",
              "      <td>A</td>\n",
              "    </tr>\n",
              "    <tr>\n",
              "      <th>...</th>\n",
              "      <td>...</td>\n",
              "      <td>...</td>\n",
              "      <td>...</td>\n",
              "      <td>...</td>\n",
              "      <td>...</td>\n",
              "      <td>...</td>\n",
              "    </tr>\n",
              "    <tr>\n",
              "      <th>5457</th>\n",
              "      <td>PG</td>\n",
              "      <td>148</td>\n",
              "      <td>200</td>\n",
              "      <td>12</td>\n",
              "      <td>'battl':14 'boat':20 'dog':11 'fate':4 'husban...</td>\n",
              "      <td>A</td>\n",
              "    </tr>\n",
              "    <tr>\n",
              "      <th>5458</th>\n",
              "      <td>PG</td>\n",
              "      <td>52</td>\n",
              "      <td>200</td>\n",
              "      <td>14</td>\n",
              "      <td>'ancient':19 'astound':4 'boat':17 'husband':8...</td>\n",
              "      <td>A</td>\n",
              "    </tr>\n",
              "    <tr>\n",
              "      <th>5459</th>\n",
              "      <td>R</td>\n",
              "      <td>164</td>\n",
              "      <td>200</td>\n",
              "      <td>6</td>\n",
              "      <td>'berlin':18 'boy':16 'crocodil':11 'dentist':8...</td>\n",
              "      <td>A</td>\n",
              "    </tr>\n",
              "    <tr>\n",
              "      <th>5460</th>\n",
              "      <td>G</td>\n",
              "      <td>178</td>\n",
              "      <td>200</td>\n",
              "      <td>7</td>\n",
              "      <td>'action':5 'action-pack':4 'ancient':21 'astro...</td>\n",
              "      <td>A</td>\n",
              "    </tr>\n",
              "    <tr>\n",
              "      <th>5461</th>\n",
              "      <td>PG-13</td>\n",
              "      <td>178</td>\n",
              "      <td>200</td>\n",
              "      <td>3</td>\n",
              "      <td>'behavior':2 'cow':18 'crocodil':8 'discov':15...</td>\n",
              "      <td>B</td>\n",
              "    </tr>\n",
              "  </tbody>\n",
              "</table>\n",
              "<p>5232 rows × 6 columns</p>\n",
              "</div>"
            ],
            "text/plain": [
              "     rating  length  ...                                           fulltext  category\n",
              "0        PG      86  ...  'academi':1 'battl':15 'canadian':20 'dinosaur...         A\n",
              "1         R      92  ...  'anaconda':1 'australia':18 'confess':2 'denti...         A\n",
              "2         G      74  ...  'angel':1 'astronaut':11 'battl':14 'berlin':1...         A\n",
              "3         G      61  ...  'amaz':4 'bulworth':1 'command':2 'cow':9 'dis...         C\n",
              "4         G      87  ...  'ancient':19 'charact':5 'cheaper':1 'clyde':2...         A\n",
              "...     ...     ...  ...                                                ...       ...\n",
              "5457     PG     148  ...  'battl':14 'boat':20 'dog':11 'fate':4 'husban...         A\n",
              "5458     PG      52  ...  'ancient':19 'astound':4 'boat':17 'husband':8...         A\n",
              "5459      R     164  ...  'berlin':18 'boy':16 'crocodil':11 'dentist':8...         A\n",
              "5460      G     178  ...  'action':5 'action-pack':4 'ancient':21 'astro...         A\n",
              "5461  PG-13     178  ...  'behavior':2 'cow':18 'crocodil':8 'discov':15...         B\n",
              "\n",
              "[5232 rows x 6 columns]"
            ]
          },
          "metadata": {
            "tags": []
          },
          "execution_count": 611
        }
      ]
    },
    {
      "cell_type": "code",
      "metadata": {
        "colab": {
          "base_uri": "https://localhost:8080/",
          "height": 576
        },
        "id": "ujNUvpork75m",
        "outputId": "4799940f-cb70-46d4-f452-b852111be57e"
      },
      "source": [
        "# Проверка на наличие корреляций между значениями столбцов\n",
        "sns.heatmap(model_data.corr())"
      ],
      "execution_count": null,
      "outputs": [
        {
          "output_type": "execute_result",
          "data": {
            "text/plain": [
              "<matplotlib.axes._subplots.AxesSubplot at 0x7efd993a8310>"
            ]
          },
          "metadata": {
            "tags": []
          },
          "execution_count": 612
        },
        {
          "output_type": "display_data",
          "data": {
            "image/png": "[encoded data removed]",
            "text/plain": [
              "<Figure size 1152x648 with 2 Axes>"
            ]
          },
          "metadata": {
            "tags": [],
            "needs_background": "light"
          }
        }
      ]
    },
    {
      "cell_type": "code",
      "metadata": {
        "colab": {
          "base_uri": "https://localhost:8080/"
        },
        "id": "9VH4cLFSw6wa",
        "outputId": "e05cec4b-880d-41ea-faff-300488f6787e"
      },
      "source": [
        "model_data.dtypes\n",
        "# Нужно преобразовать типы из категориальных в числовые"
      ],
      "execution_count": null,
      "outputs": [
        {
          "output_type": "execute_result",
          "data": {
            "text/plain": [
              "rating      object\n",
              "length       int64\n",
              "actor_id     int64\n",
              "genre        int64\n",
              "fulltext    object\n",
              "category    object\n",
              "dtype: object"
            ]
          },
          "metadata": {
            "tags": []
          },
          "execution_count": 613
        }
      ]
    },
    {
      "cell_type": "code",
      "metadata": {
        "id": "UNAZYn3J6X6L"
      },
      "source": [
        "# Функция кодирующая категориальные признаки числовыми значениями\n",
        "def category_to_int(data):\n",
        "    result = data.copy() # копируем нашу исходную таблицу\n",
        "    encoders = {}\n",
        "    for column in result.columns:\n",
        "        if result.dtypes[column] == np.object:\n",
        "            encoders[column] = preprocessing.LabelEncoder()\n",
        "            result[column] = encoders[column].fit_transform(result[column])\n",
        "    return result, encoders"
      ],
      "execution_count": null,
      "outputs": []
    },
    {
      "cell_type": "code",
      "metadata": {
        "colab": {
          "base_uri": "https://localhost:8080/",
          "height": 406
        },
        "id": "Ia1yJ6oJ6hy-",
        "outputId": "6f912cbc-20b4-4287-eeaa-c24737b769f6"
      },
      "source": [
        "# Кодировка признаков\n",
        "encoded_data, encoders = category_to_int(model_data)\n",
        "encoded_data"
      ],
      "execution_count": null,
      "outputs": [
        {
          "output_type": "execute_result",
          "data": {
            "text/html": [
              "<div>\n",
              "<style scoped>\n",
              "    .dataframe tbody tr th:only-of-type {\n",
              "        vertical-align: middle;\n",
              "    }\n",
              "\n",
              "    .dataframe tbody tr th {\n",
              "        vertical-align: top;\n",
              "    }\n",
              "\n",
              "    .dataframe thead th {\n",
              "        text-align: right;\n",
              "    }\n",
              "</style>\n",
              "<table border=\"1\" class=\"dataframe\">\n",
              "  <thead>\n",
              "    <tr style=\"text-align: right;\">\n",
              "      <th></th>\n",
              "      <th>rating</th>\n",
              "      <th>length</th>\n",
              "      <th>actor_id</th>\n",
              "      <th>genre</th>\n",
              "      <th>fulltext</th>\n",
              "      <th>category</th>\n",
              "    </tr>\n",
              "  </thead>\n",
              "  <tbody>\n",
              "    <tr>\n",
              "      <th>0</th>\n",
              "      <td>2</td>\n",
              "      <td>86</td>\n",
              "      <td>1</td>\n",
              "      <td>6</td>\n",
              "      <td>101</td>\n",
              "      <td>0</td>\n",
              "    </tr>\n",
              "    <tr>\n",
              "      <th>1</th>\n",
              "      <td>4</td>\n",
              "      <td>92</td>\n",
              "      <td>1</td>\n",
              "      <td>2</td>\n",
              "      <td>308</td>\n",
              "      <td>0</td>\n",
              "    </tr>\n",
              "    <tr>\n",
              "      <th>2</th>\n",
              "      <td>0</td>\n",
              "      <td>74</td>\n",
              "      <td>1</td>\n",
              "      <td>13</td>\n",
              "      <td>400</td>\n",
              "      <td>0</td>\n",
              "    </tr>\n",
              "    <tr>\n",
              "      <th>3</th>\n",
              "      <td>0</td>\n",
              "      <td>61</td>\n",
              "      <td>1</td>\n",
              "      <td>10</td>\n",
              "      <td>290</td>\n",
              "      <td>2</td>\n",
              "    </tr>\n",
              "    <tr>\n",
              "      <th>4</th>\n",
              "      <td>0</td>\n",
              "      <td>87</td>\n",
              "      <td>1</td>\n",
              "      <td>14</td>\n",
              "      <td>363</td>\n",
              "      <td>0</td>\n",
              "    </tr>\n",
              "    <tr>\n",
              "      <th>...</th>\n",
              "      <td>...</td>\n",
              "      <td>...</td>\n",
              "      <td>...</td>\n",
              "      <td>...</td>\n",
              "      <td>...</td>\n",
              "      <td>...</td>\n",
              "    </tr>\n",
              "    <tr>\n",
              "      <th>5457</th>\n",
              "      <td>2</td>\n",
              "      <td>148</td>\n",
              "      <td>200</td>\n",
              "      <td>12</td>\n",
              "      <td>594</td>\n",
              "      <td>0</td>\n",
              "    </tr>\n",
              "    <tr>\n",
              "      <th>5458</th>\n",
              "      <td>2</td>\n",
              "      <td>52</td>\n",
              "      <td>200</td>\n",
              "      <td>14</td>\n",
              "      <td>345</td>\n",
              "      <td>0</td>\n",
              "    </tr>\n",
              "    <tr>\n",
              "      <th>5459</th>\n",
              "      <td>4</td>\n",
              "      <td>164</td>\n",
              "      <td>200</td>\n",
              "      <td>6</td>\n",
              "      <td>630</td>\n",
              "      <td>0</td>\n",
              "    </tr>\n",
              "    <tr>\n",
              "      <th>5460</th>\n",
              "      <td>0</td>\n",
              "      <td>178</td>\n",
              "      <td>200</td>\n",
              "      <td>7</td>\n",
              "      <td>112</td>\n",
              "      <td>0</td>\n",
              "    </tr>\n",
              "    <tr>\n",
              "      <th>5461</th>\n",
              "      <td>3</td>\n",
              "      <td>178</td>\n",
              "      <td>200</td>\n",
              "      <td>3</td>\n",
              "      <td>626</td>\n",
              "      <td>1</td>\n",
              "    </tr>\n",
              "  </tbody>\n",
              "</table>\n",
              "<p>5232 rows × 6 columns</p>\n",
              "</div>"
            ],
            "text/plain": [
              "      rating  length  actor_id  genre  fulltext  category\n",
              "0          2      86         1      6       101         0\n",
              "1          4      92         1      2       308         0\n",
              "2          0      74         1     13       400         0\n",
              "3          0      61         1     10       290         2\n",
              "4          0      87         1     14       363         0\n",
              "...      ...     ...       ...    ...       ...       ...\n",
              "5457       2     148       200     12       594         0\n",
              "5458       2      52       200     14       345         0\n",
              "5459       4     164       200      6       630         0\n",
              "5460       0     178       200      7       112         0\n",
              "5461       3     178       200      3       626         1\n",
              "\n",
              "[5232 rows x 6 columns]"
            ]
          },
          "metadata": {
            "tags": []
          },
          "execution_count": 615
        }
      ]
    },
    {
      "cell_type": "code",
      "metadata": {
        "colab": {
          "base_uri": "https://localhost:8080/"
        },
        "id": "-BPG3lwE7LoJ",
        "outputId": "37ae1020-efcb-48f8-8f54-14f342f3107f"
      },
      "source": [
        "encoders\n",
        "# Закодированы два столбца"
      ],
      "execution_count": null,
      "outputs": [
        {
          "output_type": "execute_result",
          "data": {
            "text/plain": [
              "{'category': LabelEncoder(),\n",
              " 'fulltext': LabelEncoder(),\n",
              " 'rating': LabelEncoder()}"
            ]
          },
          "metadata": {
            "tags": []
          },
          "execution_count": 616
        }
      ]
    },
    {
      "cell_type": "code",
      "metadata": {
        "colab": {
          "base_uri": "https://localhost:8080/"
        },
        "id": "ZZa1IyT0j0md",
        "outputId": "d66fbb39-5c16-49bf-d4c3-c7cc06191f4e"
      },
      "source": [
        "# labels - метки классов для обучения\n",
        "labels = encoded_data['category'].values\n",
        "labels"
      ],
      "execution_count": null,
      "outputs": [
        {
          "output_type": "execute_result",
          "data": {
            "text/plain": [
              "array([0, 0, 0, ..., 0, 0, 1])"
            ]
          },
          "metadata": {
            "tags": []
          },
          "execution_count": 617
        }
      ]
    },
    {
      "cell_type": "code",
      "metadata": {
        "colab": {
          "base_uri": "https://localhost:8080/",
          "height": 406
        },
        "id": "XYsgL6jKjqCv",
        "outputId": "4b44be02-8b81-47fe-cf7c-5832746c324b"
      },
      "source": [
        "# Удаление меток классов из датасета\n",
        "encoded_data = encoded_data.drop(columns=['category'])\n",
        "encoded_data"
      ],
      "execution_count": null,
      "outputs": [
        {
          "output_type": "execute_result",
          "data": {
            "text/html": [
              "<div>\n",
              "<style scoped>\n",
              "    .dataframe tbody tr th:only-of-type {\n",
              "        vertical-align: middle;\n",
              "    }\n",
              "\n",
              "    .dataframe tbody tr th {\n",
              "        vertical-align: top;\n",
              "    }\n",
              "\n",
              "    .dataframe thead th {\n",
              "        text-align: right;\n",
              "    }\n",
              "</style>\n",
              "<table border=\"1\" class=\"dataframe\">\n",
              "  <thead>\n",
              "    <tr style=\"text-align: right;\">\n",
              "      <th></th>\n",
              "      <th>rating</th>\n",
              "      <th>length</th>\n",
              "      <th>actor_id</th>\n",
              "      <th>genre</th>\n",
              "      <th>fulltext</th>\n",
              "    </tr>\n",
              "  </thead>\n",
              "  <tbody>\n",
              "    <tr>\n",
              "      <th>0</th>\n",
              "      <td>2</td>\n",
              "      <td>86</td>\n",
              "      <td>1</td>\n",
              "      <td>6</td>\n",
              "      <td>101</td>\n",
              "    </tr>\n",
              "    <tr>\n",
              "      <th>1</th>\n",
              "      <td>4</td>\n",
              "      <td>92</td>\n",
              "      <td>1</td>\n",
              "      <td>2</td>\n",
              "      <td>308</td>\n",
              "    </tr>\n",
              "    <tr>\n",
              "      <th>2</th>\n",
              "      <td>0</td>\n",
              "      <td>74</td>\n",
              "      <td>1</td>\n",
              "      <td>13</td>\n",
              "      <td>400</td>\n",
              "    </tr>\n",
              "    <tr>\n",
              "      <th>3</th>\n",
              "      <td>0</td>\n",
              "      <td>61</td>\n",
              "      <td>1</td>\n",
              "      <td>10</td>\n",
              "      <td>290</td>\n",
              "    </tr>\n",
              "    <tr>\n",
              "      <th>4</th>\n",
              "      <td>0</td>\n",
              "      <td>87</td>\n",
              "      <td>1</td>\n",
              "      <td>14</td>\n",
              "      <td>363</td>\n",
              "    </tr>\n",
              "    <tr>\n",
              "      <th>...</th>\n",
              "      <td>...</td>\n",
              "      <td>...</td>\n",
              "      <td>...</td>\n",
              "      <td>...</td>\n",
              "      <td>...</td>\n",
              "    </tr>\n",
              "    <tr>\n",
              "      <th>5457</th>\n",
              "      <td>2</td>\n",
              "      <td>148</td>\n",
              "      <td>200</td>\n",
              "      <td>12</td>\n",
              "      <td>594</td>\n",
              "    </tr>\n",
              "    <tr>\n",
              "      <th>5458</th>\n",
              "      <td>2</td>\n",
              "      <td>52</td>\n",
              "      <td>200</td>\n",
              "      <td>14</td>\n",
              "      <td>345</td>\n",
              "    </tr>\n",
              "    <tr>\n",
              "      <th>5459</th>\n",
              "      <td>4</td>\n",
              "      <td>164</td>\n",
              "      <td>200</td>\n",
              "      <td>6</td>\n",
              "      <td>630</td>\n",
              "    </tr>\n",
              "    <tr>\n",
              "      <th>5460</th>\n",
              "      <td>0</td>\n",
              "      <td>178</td>\n",
              "      <td>200</td>\n",
              "      <td>7</td>\n",
              "      <td>112</td>\n",
              "    </tr>\n",
              "    <tr>\n",
              "      <th>5461</th>\n",
              "      <td>3</td>\n",
              "      <td>178</td>\n",
              "      <td>200</td>\n",
              "      <td>3</td>\n",
              "      <td>626</td>\n",
              "    </tr>\n",
              "  </tbody>\n",
              "</table>\n",
              "<p>5232 rows × 5 columns</p>\n",
              "</div>"
            ],
            "text/plain": [
              "      rating  length  actor_id  genre  fulltext\n",
              "0          2      86         1      6       101\n",
              "1          4      92         1      2       308\n",
              "2          0      74         1     13       400\n",
              "3          0      61         1     10       290\n",
              "4          0      87         1     14       363\n",
              "...      ...     ...       ...    ...       ...\n",
              "5457       2     148       200     12       594\n",
              "5458       2      52       200     14       345\n",
              "5459       4     164       200      6       630\n",
              "5460       0     178       200      7       112\n",
              "5461       3     178       200      3       626\n",
              "\n",
              "[5232 rows x 5 columns]"
            ]
          },
          "metadata": {
            "tags": []
          },
          "execution_count": 618
        }
      ]
    },
    {
      "cell_type": "code",
      "metadata": {
        "id": "GASmXnMvkrGS"
      },
      "source": [
        "# В последствии нужно будет для того, чтобы посмотреть важность признаков\n",
        "feature = encoded_data.columns"
      ],
      "execution_count": null,
      "outputs": []
    },
    {
      "cell_type": "markdown",
      "metadata": {
        "id": "sgT5pWchhAYL"
      },
      "source": [
        "### Разбиение на обучение и тест"
      ]
    },
    {
      "cell_type": "code",
      "metadata": {
        "colab": {
          "base_uri": "https://localhost:8080/"
        },
        "id": "ARcV2rXNN2Wj",
        "outputId": "53350d9c-e06d-47a6-d231-f4fe0212fc6b"
      },
      "source": [
        "# Масштабирование\n",
        "# Помогло увеличить точность модели\n",
        "from sklearn.preprocessing import StandardScaler\n",
        "scaler = StandardScaler()\n",
        "scaler.fit(encoded_data)\n",
        "encoded_data = scaler.transform(encoded_data)\n",
        "encoded_data"
      ],
      "execution_count": null,
      "outputs": [
        {
          "output_type": "execute_result",
          "data": {
            "text/plain": [
              "array([[-0.02612647, -0.72553707, -1.75033675, -0.53672739, -1.33826507],\n",
              "       [ 1.42036771, -0.57791378, -1.75033675, -1.39470407, -0.58523909],\n",
              "       [-1.47262065, -1.02078366, -1.75033675,  0.96473181, -0.25056088],\n",
              "       ...,\n",
              "       [ 1.42036771,  1.19356574,  1.738635  , -0.53672739,  0.58613464],\n",
              "       [-1.47262065,  1.53802009,  1.738635  , -0.32223322, -1.29824919],\n",
              "       [ 0.69712062,  1.53802009,  1.738635  , -1.1802099 ,  0.57158341]])"
            ]
          },
          "metadata": {
            "tags": []
          },
          "execution_count": 620
        }
      ]
    },
    {
      "cell_type": "code",
      "metadata": {
        "id": "p4EqV92RiJLU"
      },
      "source": [
        "# Разделение данных на обучающую и тестовую выборки\n",
        "train_data, test_data, train_labels, test_labels = train_test_split(encoded_data, labels, stratify=labels, test_size=0.3)"
      ],
      "execution_count": null,
      "outputs": []
    },
    {
      "cell_type": "markdown",
      "metadata": {
        "id": "LxXqLAwKhHyb"
      },
      "source": [
        "### Оценка работы модели на кросс валидации"
      ]
    },
    {
      "cell_type": "code",
      "metadata": {
        "id": "xtDEJRfvroUA"
      },
      "source": [
        " # Разбиение на 5 фолдов\n",
        "skf = StratifiedKFold(n_splits=5)"
      ],
      "execution_count": null,
      "outputs": []
    },
    {
      "cell_type": "code",
      "metadata": {
        "id": "7GESx9AjryYE"
      },
      "source": [
        "# Функция кросс-валидация и подсчёта доли верных ответов \n",
        "# В качастве метрики для выбора лучшей модели была выбрана accuracy, хотя только по ней делать выводы некорректно, поскольку кол-во экземпляров классов разное\n",
        "# Помимо accuracy, выводится подробный отчёт по precision и recall\n",
        "# Думаю, в данной задаче важнее precision, чем recall\n",
        "# Нам важнее верно определять класс фильмов (как можно меньше ошибок совершать), важнее с точки зрения выручки\n",
        "# В итоге получилось, что модель которая лучше по accuracy, лучше и по другим метрикам\n",
        "def learn_score(classifier, parameters):\n",
        "  clf = GridSearchCV(classifier, param_grid=parameters, cv=skf, scoring='accuracy')\n",
        "  clf.fit(train_data, train_labels)\n",
        "  mean_values = clf.cv_results_['mean_test_score']\n",
        "  std_values = clf.cv_results_['std_test_score']\n",
        "  print('Accuracy on train data:')\n",
        "  for i in range(len(mean_values)):\n",
        "    print(str(clf.cv_results_['params'][i]) + ': ' + str(round(mean_values[i], 3)) + ' +/- ' + str(round(std_values[i], 3)))\n",
        "  print('\\n' + 'Best parameters: ' + str(clf.best_params_))\n",
        "  # Построение доверительного интервала для accuracy (t интервалов)\n",
        "  print('\\n'+ 'Model mean accuracy 95% confidence interval: ' + str(_tconfint_generic(mean=mean_values.mean(), std_mean=mean_values.std(ddof=1)/sqrt(len(mean_values)), alpha=0.05, alternative='two-sided', dof=len(mean_values)-1)))\n",
        "  print('\\nDetailed classification report (test data):')\n",
        "  print(classification_report(test_labels, clf.predict(test_data)))\n",
        "  print('\\n\\n')\n",
        "  return clf"
      ],
      "execution_count": null,
      "outputs": []
    },
    {
      "cell_type": "code",
      "metadata": {
        "id": "EqLWsMBftKRd"
      },
      "source": [
        "# Словарь с настройками для каждого классификатора\n",
        "classifiers = {'KNN': {'n_neighbors': [2,3,4,5,6,7,8,9,10]},                                                                                 # Метод k ближайших соседей\n",
        "               'DTC': {'criterion': ['gini', 'entropy'], 'max_depth': [2,3,4,5,6,7,8,9,10]},                                                 # Дерево решений\n",
        "               'NB': {'priors': [None, [0.5, 0.32, 0.18], [0.5, 0.45, 0.05], [0.7, 0.2, 0.1], [0.6, 0.25, 0.15]]},                           # Наивный Байес\n",
        "               'LR': {'penalty': ['l1', 'l2', 'elasticnet', 'none'], 'class_weight': ['balanced', None], 'max_iter': [100, 1000, 10000]},    # Логистическая регрессия\n",
        "               'SVM': {'C': [1.0, 1.25, 1.5, 1.75, 2.0], 'class_weight': ['balanced', None], 'max_iter': [100, 1000, 10000]}}                # Метод опорных векторов"
      ],
      "execution_count": null,
      "outputs": []
    },
    {
      "cell_type": "code",
      "metadata": {
        "colab": {
          "base_uri": "https://localhost:8080/"
        },
        "id": "e86Whyb4tMUB",
        "outputId": "d9a56e30-9f64-451a-ce9b-fb3475b77c29"
      },
      "source": [
        "# Обучение модели\n",
        "learn_score(KNeighborsClassifier(), classifiers['KNN'])"
      ],
      "execution_count": null,
      "outputs": [
        {
          "output_type": "stream",
          "text": [
            "Accuracy on train data:\n",
            "{'n_neighbors': 2}: 0.677 +/- 0.016\n",
            "{'n_neighbors': 3}: 0.664 +/- 0.014\n",
            "{'n_neighbors': 4}: 0.638 +/- 0.008\n",
            "{'n_neighbors': 5}: 0.63 +/- 0.007\n",
            "{'n_neighbors': 6}: 0.623 +/- 0.02\n",
            "{'n_neighbors': 7}: 0.614 +/- 0.022\n",
            "{'n_neighbors': 8}: 0.615 +/- 0.015\n",
            "{'n_neighbors': 9}: 0.603 +/- 0.014\n",
            "{'n_neighbors': 10}: 0.6 +/- 0.009\n",
            "\n",
            "Best parameters: {'n_neighbors': 2}\n",
            "\n",
            "Model mean accuracy 95% confidence interval: (0.6092495815577593, 0.6495664393028574)\n",
            "\n",
            "Detailed classification report (test data):\n",
            "              precision    recall  f1-score   support\n",
            "\n",
            "           0       0.69      0.88      0.78       768\n",
            "           1       0.75      0.61      0.67       625\n",
            "           2       0.74      0.35      0.48       177\n",
            "\n",
            "    accuracy                           0.71      1570\n",
            "   macro avg       0.73      0.61      0.64      1570\n",
            "weighted avg       0.72      0.71      0.70      1570\n",
            "\n",
            "\n",
            "\n",
            "\n"
          ],
          "name": "stdout"
        },
        {
          "output_type": "execute_result",
          "data": {
            "text/plain": [
              "GridSearchCV(cv=StratifiedKFold(n_splits=5, random_state=None, shuffle=False),\n",
              "             error_score=nan,\n",
              "             estimator=KNeighborsClassifier(algorithm='auto', leaf_size=30,\n",
              "                                            metric='minkowski',\n",
              "                                            metric_params=None, n_jobs=None,\n",
              "                                            n_neighbors=5, p=2,\n",
              "                                            weights='uniform'),\n",
              "             iid='deprecated', n_jobs=None,\n",
              "             param_grid={'n_neighbors': [2, 3, 4, 5, 6, 7, 8, 9, 10]},\n",
              "             pre_dispatch='2*n_jobs', refit=True, return_train_score=False,\n",
              "             scoring='accuracy', verbose=0)"
            ]
          },
          "metadata": {
            "tags": []
          },
          "execution_count": 625
        }
      ]
    },
    {
      "cell_type": "code",
      "metadata": {
        "colab": {
          "base_uri": "https://localhost:8080/"
        },
        "id": "Aq51En_L8Gs7",
        "outputId": "fe6326ce-de00-4fd2-fcf8-ea38abc3f2f4"
      },
      "source": [
        "# Обучение модели\n",
        "learn_score(DecisionTreeClassifier(), classifiers['DTC'])"
      ],
      "execution_count": null,
      "outputs": [
        {
          "output_type": "stream",
          "text": [
            "Accuracy on train data:\n",
            "{'criterion': 'gini', 'max_depth': 2}: 0.527 +/- 0.01\n",
            "{'criterion': 'gini', 'max_depth': 3}: 0.539 +/- 0.012\n",
            "{'criterion': 'gini', 'max_depth': 4}: 0.557 +/- 0.016\n",
            "{'criterion': 'gini', 'max_depth': 5}: 0.561 +/- 0.015\n",
            "{'criterion': 'gini', 'max_depth': 6}: 0.616 +/- 0.026\n",
            "{'criterion': 'gini', 'max_depth': 7}: 0.629 +/- 0.026\n",
            "{'criterion': 'gini', 'max_depth': 8}: 0.657 +/- 0.033\n",
            "{'criterion': 'gini', 'max_depth': 9}: 0.713 +/- 0.031\n",
            "{'criterion': 'gini', 'max_depth': 10}: 0.757 +/- 0.033\n",
            "{'criterion': 'entropy', 'max_depth': 2}: 0.533 +/- 0.011\n",
            "{'criterion': 'entropy', 'max_depth': 3}: 0.54 +/- 0.008\n",
            "{'criterion': 'entropy', 'max_depth': 4}: 0.549 +/- 0.012\n",
            "{'criterion': 'entropy', 'max_depth': 5}: 0.566 +/- 0.01\n",
            "{'criterion': 'entropy', 'max_depth': 6}: 0.583 +/- 0.015\n",
            "{'criterion': 'entropy', 'max_depth': 7}: 0.613 +/- 0.015\n",
            "{'criterion': 'entropy', 'max_depth': 8}: 0.635 +/- 0.016\n",
            "{'criterion': 'entropy', 'max_depth': 9}: 0.679 +/- 0.026\n",
            "{'criterion': 'entropy', 'max_depth': 10}: 0.718 +/- 0.025\n",
            "\n",
            "Best parameters: {'criterion': 'gini', 'max_depth': 10}\n",
            "\n",
            "Model mean accuracy 95% confidence interval: (0.5740586829286256, 0.6449552172462345)\n",
            "\n",
            "Detailed classification report (test data):\n",
            "              precision    recall  f1-score   support\n",
            "\n",
            "           0       0.73      0.86      0.79       768\n",
            "           1       0.74      0.68      0.70       625\n",
            "           2       0.86      0.45      0.59       177\n",
            "\n",
            "    accuracy                           0.74      1570\n",
            "   macro avg       0.78      0.66      0.70      1570\n",
            "weighted avg       0.75      0.74      0.74      1570\n",
            "\n",
            "\n",
            "\n",
            "\n"
          ],
          "name": "stdout"
        },
        {
          "output_type": "execute_result",
          "data": {
            "text/plain": [
              "GridSearchCV(cv=StratifiedKFold(n_splits=5, random_state=None, shuffle=False),\n",
              "             error_score=nan,\n",
              "             estimator=DecisionTreeClassifier(ccp_alpha=0.0, class_weight=None,\n",
              "                                              criterion='gini', max_depth=None,\n",
              "                                              max_features=None,\n",
              "                                              max_leaf_nodes=None,\n",
              "                                              min_impurity_decrease=0.0,\n",
              "                                              min_impurity_split=None,\n",
              "                                              min_samples_leaf=1,\n",
              "                                              min_samples_split=2,\n",
              "                                              min_weight_fraction_leaf=0.0,\n",
              "                                              presort='deprecated',\n",
              "                                              random_state=None,\n",
              "                                              splitter='best'),\n",
              "             iid='deprecated', n_jobs=None,\n",
              "             param_grid={'criterion': ['gini', 'entropy'],\n",
              "                         'max_depth': [2, 3, 4, 5, 6, 7, 8, 9, 10]},\n",
              "             pre_dispatch='2*n_jobs', refit=True, return_train_score=False,\n",
              "             scoring='accuracy', verbose=0)"
            ]
          },
          "metadata": {
            "tags": []
          },
          "execution_count": 626
        }
      ]
    },
    {
      "cell_type": "code",
      "metadata": {
        "colab": {
          "base_uri": "https://localhost:8080/"
        },
        "id": "ujYHIEiq8Kry",
        "outputId": "4e313736-19aa-4f6e-c77a-c409c97b630e"
      },
      "source": [
        "# Обучение модели\n",
        "learn_score(GaussianNB(), classifiers['NB'])"
      ],
      "execution_count": null,
      "outputs": [
        {
          "output_type": "stream",
          "text": [
            "Accuracy on train data:\n",
            "{'priors': None}: 0.503 +/- 0.02\n",
            "{'priors': [0.5, 0.32, 0.18]}: 0.496 +/- 0.008\n",
            "{'priors': [0.5, 0.45, 0.05]}: 0.507 +/- 0.017\n",
            "{'priors': [0.7, 0.2, 0.1]}: 0.489 +/- 0.0\n",
            "{'priors': [0.6, 0.25, 0.15]}: 0.494 +/- 0.004\n",
            "\n",
            "Best parameters: {'priors': [0.5, 0.45, 0.05]}\n",
            "\n",
            "Model mean accuracy 95% confidence interval: (0.48878172308180273, 0.5068554890638075)\n",
            "\n",
            "Detailed classification report (test data):\n",
            "              precision    recall  f1-score   support\n",
            "\n",
            "           0       0.53      0.67      0.59       768\n",
            "           1       0.44      0.42      0.43       625\n",
            "           2       0.00      0.00      0.00       177\n",
            "\n",
            "    accuracy                           0.50      1570\n",
            "   macro avg       0.32      0.36      0.34      1570\n",
            "weighted avg       0.43      0.50      0.46      1570\n",
            "\n",
            "\n",
            "\n",
            "\n"
          ],
          "name": "stdout"
        },
        {
          "output_type": "stream",
          "text": [
            "/usr/local/lib/python3.7/dist-packages/sklearn/metrics/_classification.py:1272: UndefinedMetricWarning: Precision and F-score are ill-defined and being set to 0.0 in labels with no predicted samples. Use `zero_division` parameter to control this behavior.\n",
            "  _warn_prf(average, modifier, msg_start, len(result))\n"
          ],
          "name": "stderr"
        },
        {
          "output_type": "execute_result",
          "data": {
            "text/plain": [
              "GridSearchCV(cv=StratifiedKFold(n_splits=5, random_state=None, shuffle=False),\n",
              "             error_score=nan,\n",
              "             estimator=GaussianNB(priors=None, var_smoothing=1e-09),\n",
              "             iid='deprecated', n_jobs=None,\n",
              "             param_grid={'priors': [None, [0.5, 0.32, 0.18], [0.5, 0.45, 0.05],\n",
              "                                    [0.7, 0.2, 0.1], [0.6, 0.25, 0.15]]},\n",
              "             pre_dispatch='2*n_jobs', refit=True, return_train_score=False,\n",
              "             scoring='accuracy', verbose=0)"
            ]
          },
          "metadata": {
            "tags": []
          },
          "execution_count": 627
        }
      ]
    },
    {
      "cell_type": "code",
      "metadata": {
        "colab": {
          "base_uri": "https://localhost:8080/"
        },
        "id": "G9uyvrpCKagt",
        "outputId": "b74ed740-d20c-4a49-cb02-bb8a375ed9e5"
      },
      "source": [
        "# Обучение модели\n",
        "learn_score(LogisticRegression(), classifiers['LR'])"
      ],
      "execution_count": null,
      "outputs": [
        {
          "output_type": "stream",
          "text": [
            "/usr/local/lib/python3.7/dist-packages/sklearn/model_selection/_validation.py:536: FitFailedWarning: Estimator fit failed. The score on this train-test partition for these parameters will be set to nan. Details: \n",
            "ValueError: Solver lbfgs supports only 'l2' or 'none' penalties, got l1 penalty.\n",
            "\n",
            "  FitFailedWarning)\n",
            "/usr/local/lib/python3.7/dist-packages/sklearn/model_selection/_validation.py:536: FitFailedWarning: Estimator fit failed. The score on this train-test partition for these parameters will be set to nan. Details: \n",
            "ValueError: Solver lbfgs supports only 'l2' or 'none' penalties, got elasticnet penalty.\n",
            "\n",
            "  FitFailedWarning)\n",
            "/usr/local/lib/python3.7/dist-packages/sklearn/model_selection/_validation.py:536: FitFailedWarning: Estimator fit failed. The score on this train-test partition for these parameters will be set to nan. Details: \n",
            "ValueError: Solver lbfgs supports only 'l2' or 'none' penalties, got l1 penalty.\n",
            "\n",
            "  FitFailedWarning)\n",
            "/usr/local/lib/python3.7/dist-packages/sklearn/model_selection/_validation.py:536: FitFailedWarning: Estimator fit failed. The score on this train-test partition for these parameters will be set to nan. Details: \n",
            "ValueError: Solver lbfgs supports only 'l2' or 'none' penalties, got elasticnet penalty.\n",
            "\n",
            "  FitFailedWarning)\n",
            "/usr/local/lib/python3.7/dist-packages/sklearn/model_selection/_validation.py:536: FitFailedWarning: Estimator fit failed. The score on this train-test partition for these parameters will be set to nan. Details: \n",
            "ValueError: Solver lbfgs supports only 'l2' or 'none' penalties, got l1 penalty.\n",
            "\n",
            "  FitFailedWarning)\n",
            "/usr/local/lib/python3.7/dist-packages/sklearn/model_selection/_validation.py:536: FitFailedWarning: Estimator fit failed. The score on this train-test partition for these parameters will be set to nan. Details: \n",
            "ValueError: Solver lbfgs supports only 'l2' or 'none' penalties, got elasticnet penalty.\n",
            "\n",
            "  FitFailedWarning)\n",
            "/usr/local/lib/python3.7/dist-packages/sklearn/model_selection/_validation.py:536: FitFailedWarning: Estimator fit failed. The score on this train-test partition for these parameters will be set to nan. Details: \n",
            "ValueError: Solver lbfgs supports only 'l2' or 'none' penalties, got l1 penalty.\n",
            "\n",
            "  FitFailedWarning)\n",
            "/usr/local/lib/python3.7/dist-packages/sklearn/model_selection/_validation.py:536: FitFailedWarning: Estimator fit failed. The score on this train-test partition for these parameters will be set to nan. Details: \n",
            "ValueError: Solver lbfgs supports only 'l2' or 'none' penalties, got elasticnet penalty.\n",
            "\n",
            "  FitFailedWarning)\n",
            "/usr/local/lib/python3.7/dist-packages/sklearn/model_selection/_validation.py:536: FitFailedWarning: Estimator fit failed. The score on this train-test partition for these parameters will be set to nan. Details: \n",
            "ValueError: Solver lbfgs supports only 'l2' or 'none' penalties, got l1 penalty.\n",
            "\n",
            "  FitFailedWarning)\n",
            "/usr/local/lib/python3.7/dist-packages/sklearn/model_selection/_validation.py:536: FitFailedWarning: Estimator fit failed. The score on this train-test partition for these parameters will be set to nan. Details: \n",
            "ValueError: Solver lbfgs supports only 'l2' or 'none' penalties, got elasticnet penalty.\n",
            "\n",
            "  FitFailedWarning)\n",
            "/usr/local/lib/python3.7/dist-packages/sklearn/model_selection/_validation.py:536: FitFailedWarning: Estimator fit failed. The score on this train-test partition for these parameters will be set to nan. Details: \n",
            "ValueError: Solver lbfgs supports only 'l2' or 'none' penalties, got l1 penalty.\n",
            "\n",
            "  FitFailedWarning)\n",
            "/usr/local/lib/python3.7/dist-packages/sklearn/model_selection/_validation.py:536: FitFailedWarning: Estimator fit failed. The score on this train-test partition for these parameters will be set to nan. Details: \n",
            "ValueError: Solver lbfgs supports only 'l2' or 'none' penalties, got elasticnet penalty.\n",
            "\n",
            "  FitFailedWarning)\n"
          ],
          "name": "stderr"
        },
        {
          "output_type": "stream",
          "text": [
            "Accuracy on train data:\n",
            "{'class_weight': 'balanced', 'max_iter': 100, 'penalty': 'l1'}: nan +/- nan\n",
            "{'class_weight': 'balanced', 'max_iter': 100, 'penalty': 'l2'}: 0.399 +/- 0.016\n",
            "{'class_weight': 'balanced', 'max_iter': 100, 'penalty': 'elasticnet'}: nan +/- nan\n",
            "{'class_weight': 'balanced', 'max_iter': 100, 'penalty': 'none'}: 0.399 +/- 0.016\n",
            "{'class_weight': 'balanced', 'max_iter': 1000, 'penalty': 'l1'}: nan +/- nan\n",
            "{'class_weight': 'balanced', 'max_iter': 1000, 'penalty': 'l2'}: 0.399 +/- 0.016\n",
            "{'class_weight': 'balanced', 'max_iter': 1000, 'penalty': 'elasticnet'}: nan +/- nan\n",
            "{'class_weight': 'balanced', 'max_iter': 1000, 'penalty': 'none'}: 0.399 +/- 0.016\n",
            "{'class_weight': 'balanced', 'max_iter': 10000, 'penalty': 'l1'}: nan +/- nan\n",
            "{'class_weight': 'balanced', 'max_iter': 10000, 'penalty': 'l2'}: 0.399 +/- 0.016\n",
            "{'class_weight': 'balanced', 'max_iter': 10000, 'penalty': 'elasticnet'}: nan +/- nan\n",
            "{'class_weight': 'balanced', 'max_iter': 10000, 'penalty': 'none'}: 0.399 +/- 0.016\n",
            "{'class_weight': None, 'max_iter': 100, 'penalty': 'l1'}: nan +/- nan\n",
            "{'class_weight': None, 'max_iter': 100, 'penalty': 'l2'}: 0.498 +/- 0.021\n",
            "{'class_weight': None, 'max_iter': 100, 'penalty': 'elasticnet'}: nan +/- nan\n",
            "{'class_weight': None, 'max_iter': 100, 'penalty': 'none'}: 0.498 +/- 0.021\n",
            "{'class_weight': None, 'max_iter': 1000, 'penalty': 'l1'}: nan +/- nan\n",
            "{'class_weight': None, 'max_iter': 1000, 'penalty': 'l2'}: 0.498 +/- 0.021\n",
            "{'class_weight': None, 'max_iter': 1000, 'penalty': 'elasticnet'}: nan +/- nan\n",
            "{'class_weight': None, 'max_iter': 1000, 'penalty': 'none'}: 0.498 +/- 0.021\n",
            "{'class_weight': None, 'max_iter': 10000, 'penalty': 'l1'}: nan +/- nan\n",
            "{'class_weight': None, 'max_iter': 10000, 'penalty': 'l2'}: 0.498 +/- 0.021\n",
            "{'class_weight': None, 'max_iter': 10000, 'penalty': 'elasticnet'}: nan +/- nan\n",
            "{'class_weight': None, 'max_iter': 10000, 'penalty': 'none'}: 0.498 +/- 0.021\n",
            "\n",
            "Best parameters: {'class_weight': None, 'max_iter': 100, 'penalty': 'l2'}\n",
            "\n",
            "Model mean accuracy 95% confidence interval: (nan, nan)\n",
            "\n",
            "Detailed classification report (test data):\n",
            "              precision    recall  f1-score   support\n",
            "\n",
            "           0       0.51      0.79      0.62       768\n",
            "           1       0.44      0.28      0.34       625\n",
            "           2       0.00      0.00      0.00       177\n",
            "\n",
            "    accuracy                           0.49      1570\n",
            "   macro avg       0.32      0.35      0.32      1570\n",
            "weighted avg       0.43      0.49      0.44      1570\n",
            "\n",
            "\n",
            "\n",
            "\n"
          ],
          "name": "stdout"
        },
        {
          "output_type": "stream",
          "text": [
            "/usr/local/lib/python3.7/dist-packages/sklearn/metrics/_classification.py:1272: UndefinedMetricWarning: Precision and F-score are ill-defined and being set to 0.0 in labels with no predicted samples. Use `zero_division` parameter to control this behavior.\n",
            "  _warn_prf(average, modifier, msg_start, len(result))\n"
          ],
          "name": "stderr"
        },
        {
          "output_type": "execute_result",
          "data": {
            "text/plain": [
              "GridSearchCV(cv=StratifiedKFold(n_splits=5, random_state=None, shuffle=False),\n",
              "             error_score=nan,\n",
              "             estimator=LogisticRegression(C=1.0, class_weight=None, dual=False,\n",
              "                                          fit_intercept=True,\n",
              "                                          intercept_scaling=1, l1_ratio=None,\n",
              "                                          max_iter=100, multi_class='auto',\n",
              "                                          n_jobs=None, penalty='l2',\n",
              "                                          random_state=None, solver='lbfgs',\n",
              "                                          tol=0.0001, verbose=0,\n",
              "                                          warm_start=False),\n",
              "             iid='deprecated', n_jobs=None,\n",
              "             param_grid={'class_weight': ['balanced', None],\n",
              "                         'max_iter': [100, 1000, 10000],\n",
              "                         'penalty': ['l1', 'l2', 'elasticnet', 'none']},\n",
              "             pre_dispatch='2*n_jobs', refit=True, return_train_score=False,\n",
              "             scoring='accuracy', verbose=0)"
            ]
          },
          "metadata": {
            "tags": []
          },
          "execution_count": 628
        }
      ]
    },
    {
      "cell_type": "code",
      "metadata": {
        "colab": {
          "base_uri": "https://localhost:8080/"
        },
        "id": "ALwo_WLzKLEu",
        "outputId": "23ca0a4c-5d08-4aad-bd72-3a97ea0e9825"
      },
      "source": [
        "# Обучение модели\n",
        "learn_score(SVC(), classifiers['SVM'])"
      ],
      "execution_count": null,
      "outputs": [
        {
          "output_type": "stream",
          "text": [
            "/usr/local/lib/python3.7/dist-packages/sklearn/svm/_base.py:231: ConvergenceWarning: Solver terminated early (max_iter=100).  Consider pre-processing your data with StandardScaler or MinMaxScaler.\n",
            "  % self.max_iter, ConvergenceWarning)\n",
            "/usr/local/lib/python3.7/dist-packages/sklearn/svm/_base.py:231: ConvergenceWarning: Solver terminated early (max_iter=100).  Consider pre-processing your data with StandardScaler or MinMaxScaler.\n",
            "  % self.max_iter, ConvergenceWarning)\n",
            "/usr/local/lib/python3.7/dist-packages/sklearn/svm/_base.py:231: ConvergenceWarning: Solver terminated early (max_iter=100).  Consider pre-processing your data with StandardScaler or MinMaxScaler.\n",
            "  % self.max_iter, ConvergenceWarning)\n",
            "/usr/local/lib/python3.7/dist-packages/sklearn/svm/_base.py:231: ConvergenceWarning: Solver terminated early (max_iter=100).  Consider pre-processing your data with StandardScaler or MinMaxScaler.\n",
            "  % self.max_iter, ConvergenceWarning)\n",
            "/usr/local/lib/python3.7/dist-packages/sklearn/svm/_base.py:231: ConvergenceWarning: Solver terminated early (max_iter=100).  Consider pre-processing your data with StandardScaler or MinMaxScaler.\n",
            "  % self.max_iter, ConvergenceWarning)\n",
            "/usr/local/lib/python3.7/dist-packages/sklearn/svm/_base.py:231: ConvergenceWarning: Solver terminated early (max_iter=1000).  Consider pre-processing your data with StandardScaler or MinMaxScaler.\n",
            "  % self.max_iter, ConvergenceWarning)\n",
            "/usr/local/lib/python3.7/dist-packages/sklearn/svm/_base.py:231: ConvergenceWarning: Solver terminated early (max_iter=1000).  Consider pre-processing your data with StandardScaler or MinMaxScaler.\n",
            "  % self.max_iter, ConvergenceWarning)\n",
            "/usr/local/lib/python3.7/dist-packages/sklearn/svm/_base.py:231: ConvergenceWarning: Solver terminated early (max_iter=1000).  Consider pre-processing your data with StandardScaler or MinMaxScaler.\n",
            "  % self.max_iter, ConvergenceWarning)\n",
            "/usr/local/lib/python3.7/dist-packages/sklearn/svm/_base.py:231: ConvergenceWarning: Solver terminated early (max_iter=1000).  Consider pre-processing your data with StandardScaler or MinMaxScaler.\n",
            "  % self.max_iter, ConvergenceWarning)\n",
            "/usr/local/lib/python3.7/dist-packages/sklearn/svm/_base.py:231: ConvergenceWarning: Solver terminated early (max_iter=1000).  Consider pre-processing your data with StandardScaler or MinMaxScaler.\n",
            "  % self.max_iter, ConvergenceWarning)\n",
            "/usr/local/lib/python3.7/dist-packages/sklearn/svm/_base.py:231: ConvergenceWarning: Solver terminated early (max_iter=100).  Consider pre-processing your data with StandardScaler or MinMaxScaler.\n",
            "  % self.max_iter, ConvergenceWarning)\n",
            "/usr/local/lib/python3.7/dist-packages/sklearn/svm/_base.py:231: ConvergenceWarning: Solver terminated early (max_iter=100).  Consider pre-processing your data with StandardScaler or MinMaxScaler.\n",
            "  % self.max_iter, ConvergenceWarning)\n",
            "/usr/local/lib/python3.7/dist-packages/sklearn/svm/_base.py:231: ConvergenceWarning: Solver terminated early (max_iter=100).  Consider pre-processing your data with StandardScaler or MinMaxScaler.\n",
            "  % self.max_iter, ConvergenceWarning)\n",
            "/usr/local/lib/python3.7/dist-packages/sklearn/svm/_base.py:231: ConvergenceWarning: Solver terminated early (max_iter=100).  Consider pre-processing your data with StandardScaler or MinMaxScaler.\n",
            "  % self.max_iter, ConvergenceWarning)\n",
            "/usr/local/lib/python3.7/dist-packages/sklearn/svm/_base.py:231: ConvergenceWarning: Solver terminated early (max_iter=100).  Consider pre-processing your data with StandardScaler or MinMaxScaler.\n",
            "  % self.max_iter, ConvergenceWarning)\n",
            "/usr/local/lib/python3.7/dist-packages/sklearn/svm/_base.py:231: ConvergenceWarning: Solver terminated early (max_iter=1000).  Consider pre-processing your data with StandardScaler or MinMaxScaler.\n",
            "  % self.max_iter, ConvergenceWarning)\n",
            "/usr/local/lib/python3.7/dist-packages/sklearn/svm/_base.py:231: ConvergenceWarning: Solver terminated early (max_iter=1000).  Consider pre-processing your data with StandardScaler or MinMaxScaler.\n",
            "  % self.max_iter, ConvergenceWarning)\n",
            "/usr/local/lib/python3.7/dist-packages/sklearn/svm/_base.py:231: ConvergenceWarning: Solver terminated early (max_iter=1000).  Consider pre-processing your data with StandardScaler or MinMaxScaler.\n",
            "  % self.max_iter, ConvergenceWarning)\n",
            "/usr/local/lib/python3.7/dist-packages/sklearn/svm/_base.py:231: ConvergenceWarning: Solver terminated early (max_iter=1000).  Consider pre-processing your data with StandardScaler or MinMaxScaler.\n",
            "  % self.max_iter, ConvergenceWarning)\n",
            "/usr/local/lib/python3.7/dist-packages/sklearn/svm/_base.py:231: ConvergenceWarning: Solver terminated early (max_iter=1000).  Consider pre-processing your data with StandardScaler or MinMaxScaler.\n",
            "  % self.max_iter, ConvergenceWarning)\n",
            "/usr/local/lib/python3.7/dist-packages/sklearn/svm/_base.py:231: ConvergenceWarning: Solver terminated early (max_iter=100).  Consider pre-processing your data with StandardScaler or MinMaxScaler.\n",
            "  % self.max_iter, ConvergenceWarning)\n",
            "/usr/local/lib/python3.7/dist-packages/sklearn/svm/_base.py:231: ConvergenceWarning: Solver terminated early (max_iter=100).  Consider pre-processing your data with StandardScaler or MinMaxScaler.\n",
            "  % self.max_iter, ConvergenceWarning)\n",
            "/usr/local/lib/python3.7/dist-packages/sklearn/svm/_base.py:231: ConvergenceWarning: Solver terminated early (max_iter=100).  Consider pre-processing your data with StandardScaler or MinMaxScaler.\n",
            "  % self.max_iter, ConvergenceWarning)\n",
            "/usr/local/lib/python3.7/dist-packages/sklearn/svm/_base.py:231: ConvergenceWarning: Solver terminated early (max_iter=100).  Consider pre-processing your data with StandardScaler or MinMaxScaler.\n",
            "  % self.max_iter, ConvergenceWarning)\n",
            "/usr/local/lib/python3.7/dist-packages/sklearn/svm/_base.py:231: ConvergenceWarning: Solver terminated early (max_iter=100).  Consider pre-processing your data with StandardScaler or MinMaxScaler.\n",
            "  % self.max_iter, ConvergenceWarning)\n",
            "/usr/local/lib/python3.7/dist-packages/sklearn/svm/_base.py:231: ConvergenceWarning: Solver terminated early (max_iter=1000).  Consider pre-processing your data with StandardScaler or MinMaxScaler.\n",
            "  % self.max_iter, ConvergenceWarning)\n",
            "/usr/local/lib/python3.7/dist-packages/sklearn/svm/_base.py:231: ConvergenceWarning: Solver terminated early (max_iter=1000).  Consider pre-processing your data with StandardScaler or MinMaxScaler.\n",
            "  % self.max_iter, ConvergenceWarning)\n",
            "/usr/local/lib/python3.7/dist-packages/sklearn/svm/_base.py:231: ConvergenceWarning: Solver terminated early (max_iter=1000).  Consider pre-processing your data with StandardScaler or MinMaxScaler.\n",
            "  % self.max_iter, ConvergenceWarning)\n",
            "/usr/local/lib/python3.7/dist-packages/sklearn/svm/_base.py:231: ConvergenceWarning: Solver terminated early (max_iter=1000).  Consider pre-processing your data with StandardScaler or MinMaxScaler.\n",
            "  % self.max_iter, ConvergenceWarning)\n",
            "/usr/local/lib/python3.7/dist-packages/sklearn/svm/_base.py:231: ConvergenceWarning: Solver terminated early (max_iter=1000).  Consider pre-processing your data with StandardScaler or MinMaxScaler.\n",
            "  % self.max_iter, ConvergenceWarning)\n",
            "/usr/local/lib/python3.7/dist-packages/sklearn/svm/_base.py:231: ConvergenceWarning: Solver terminated early (max_iter=100).  Consider pre-processing your data with StandardScaler or MinMaxScaler.\n",
            "  % self.max_iter, ConvergenceWarning)\n",
            "/usr/local/lib/python3.7/dist-packages/sklearn/svm/_base.py:231: ConvergenceWarning: Solver terminated early (max_iter=100).  Consider pre-processing your data with StandardScaler or MinMaxScaler.\n",
            "  % self.max_iter, ConvergenceWarning)\n",
            "/usr/local/lib/python3.7/dist-packages/sklearn/svm/_base.py:231: ConvergenceWarning: Solver terminated early (max_iter=100).  Consider pre-processing your data with StandardScaler or MinMaxScaler.\n",
            "  % self.max_iter, ConvergenceWarning)\n",
            "/usr/local/lib/python3.7/dist-packages/sklearn/svm/_base.py:231: ConvergenceWarning: Solver terminated early (max_iter=100).  Consider pre-processing your data with StandardScaler or MinMaxScaler.\n",
            "  % self.max_iter, ConvergenceWarning)\n",
            "/usr/local/lib/python3.7/dist-packages/sklearn/svm/_base.py:231: ConvergenceWarning: Solver terminated early (max_iter=100).  Consider pre-processing your data with StandardScaler or MinMaxScaler.\n",
            "  % self.max_iter, ConvergenceWarning)\n",
            "/usr/local/lib/python3.7/dist-packages/sklearn/svm/_base.py:231: ConvergenceWarning: Solver terminated early (max_iter=1000).  Consider pre-processing your data with StandardScaler or MinMaxScaler.\n",
            "  % self.max_iter, ConvergenceWarning)\n",
            "/usr/local/lib/python3.7/dist-packages/sklearn/svm/_base.py:231: ConvergenceWarning: Solver terminated early (max_iter=1000).  Consider pre-processing your data with StandardScaler or MinMaxScaler.\n",
            "  % self.max_iter, ConvergenceWarning)\n",
            "/usr/local/lib/python3.7/dist-packages/sklearn/svm/_base.py:231: ConvergenceWarning: Solver terminated early (max_iter=1000).  Consider pre-processing your data with StandardScaler or MinMaxScaler.\n",
            "  % self.max_iter, ConvergenceWarning)\n",
            "/usr/local/lib/python3.7/dist-packages/sklearn/svm/_base.py:231: ConvergenceWarning: Solver terminated early (max_iter=1000).  Consider pre-processing your data with StandardScaler or MinMaxScaler.\n",
            "  % self.max_iter, ConvergenceWarning)\n",
            "/usr/local/lib/python3.7/dist-packages/sklearn/svm/_base.py:231: ConvergenceWarning: Solver terminated early (max_iter=1000).  Consider pre-processing your data with StandardScaler or MinMaxScaler.\n",
            "  % self.max_iter, ConvergenceWarning)\n",
            "/usr/local/lib/python3.7/dist-packages/sklearn/svm/_base.py:231: ConvergenceWarning: Solver terminated early (max_iter=100).  Consider pre-processing your data with StandardScaler or MinMaxScaler.\n",
            "  % self.max_iter, ConvergenceWarning)\n",
            "/usr/local/lib/python3.7/dist-packages/sklearn/svm/_base.py:231: ConvergenceWarning: Solver terminated early (max_iter=100).  Consider pre-processing your data with StandardScaler or MinMaxScaler.\n",
            "  % self.max_iter, ConvergenceWarning)\n",
            "/usr/local/lib/python3.7/dist-packages/sklearn/svm/_base.py:231: ConvergenceWarning: Solver terminated early (max_iter=100).  Consider pre-processing your data with StandardScaler or MinMaxScaler.\n",
            "  % self.max_iter, ConvergenceWarning)\n",
            "/usr/local/lib/python3.7/dist-packages/sklearn/svm/_base.py:231: ConvergenceWarning: Solver terminated early (max_iter=100).  Consider pre-processing your data with StandardScaler or MinMaxScaler.\n",
            "  % self.max_iter, ConvergenceWarning)\n",
            "/usr/local/lib/python3.7/dist-packages/sklearn/svm/_base.py:231: ConvergenceWarning: Solver terminated early (max_iter=100).  Consider pre-processing your data with StandardScaler or MinMaxScaler.\n",
            "  % self.max_iter, ConvergenceWarning)\n",
            "/usr/local/lib/python3.7/dist-packages/sklearn/svm/_base.py:231: ConvergenceWarning: Solver terminated early (max_iter=1000).  Consider pre-processing your data with StandardScaler or MinMaxScaler.\n",
            "  % self.max_iter, ConvergenceWarning)\n",
            "/usr/local/lib/python3.7/dist-packages/sklearn/svm/_base.py:231: ConvergenceWarning: Solver terminated early (max_iter=1000).  Consider pre-processing your data with StandardScaler or MinMaxScaler.\n",
            "  % self.max_iter, ConvergenceWarning)\n",
            "/usr/local/lib/python3.7/dist-packages/sklearn/svm/_base.py:231: ConvergenceWarning: Solver terminated early (max_iter=1000).  Consider pre-processing your data with StandardScaler or MinMaxScaler.\n",
            "  % self.max_iter, ConvergenceWarning)\n",
            "/usr/local/lib/python3.7/dist-packages/sklearn/svm/_base.py:231: ConvergenceWarning: Solver terminated early (max_iter=1000).  Consider pre-processing your data with StandardScaler or MinMaxScaler.\n",
            "  % self.max_iter, ConvergenceWarning)\n",
            "/usr/local/lib/python3.7/dist-packages/sklearn/svm/_base.py:231: ConvergenceWarning: Solver terminated early (max_iter=1000).  Consider pre-processing your data with StandardScaler or MinMaxScaler.\n",
            "  % self.max_iter, ConvergenceWarning)\n",
            "/usr/local/lib/python3.7/dist-packages/sklearn/svm/_base.py:231: ConvergenceWarning: Solver terminated early (max_iter=100).  Consider pre-processing your data with StandardScaler or MinMaxScaler.\n",
            "  % self.max_iter, ConvergenceWarning)\n",
            "/usr/local/lib/python3.7/dist-packages/sklearn/svm/_base.py:231: ConvergenceWarning: Solver terminated early (max_iter=100).  Consider pre-processing your data with StandardScaler or MinMaxScaler.\n",
            "  % self.max_iter, ConvergenceWarning)\n",
            "/usr/local/lib/python3.7/dist-packages/sklearn/svm/_base.py:231: ConvergenceWarning: Solver terminated early (max_iter=100).  Consider pre-processing your data with StandardScaler or MinMaxScaler.\n",
            "  % self.max_iter, ConvergenceWarning)\n",
            "/usr/local/lib/python3.7/dist-packages/sklearn/svm/_base.py:231: ConvergenceWarning: Solver terminated early (max_iter=100).  Consider pre-processing your data with StandardScaler or MinMaxScaler.\n",
            "  % self.max_iter, ConvergenceWarning)\n",
            "/usr/local/lib/python3.7/dist-packages/sklearn/svm/_base.py:231: ConvergenceWarning: Solver terminated early (max_iter=100).  Consider pre-processing your data with StandardScaler or MinMaxScaler.\n",
            "  % self.max_iter, ConvergenceWarning)\n",
            "/usr/local/lib/python3.7/dist-packages/sklearn/svm/_base.py:231: ConvergenceWarning: Solver terminated early (max_iter=1000).  Consider pre-processing your data with StandardScaler or MinMaxScaler.\n",
            "  % self.max_iter, ConvergenceWarning)\n",
            "/usr/local/lib/python3.7/dist-packages/sklearn/svm/_base.py:231: ConvergenceWarning: Solver terminated early (max_iter=1000).  Consider pre-processing your data with StandardScaler or MinMaxScaler.\n",
            "  % self.max_iter, ConvergenceWarning)\n",
            "/usr/local/lib/python3.7/dist-packages/sklearn/svm/_base.py:231: ConvergenceWarning: Solver terminated early (max_iter=1000).  Consider pre-processing your data with StandardScaler or MinMaxScaler.\n",
            "  % self.max_iter, ConvergenceWarning)\n",
            "/usr/local/lib/python3.7/dist-packages/sklearn/svm/_base.py:231: ConvergenceWarning: Solver terminated early (max_iter=1000).  Consider pre-processing your data with StandardScaler or MinMaxScaler.\n",
            "  % self.max_iter, ConvergenceWarning)\n",
            "/usr/local/lib/python3.7/dist-packages/sklearn/svm/_base.py:231: ConvergenceWarning: Solver terminated early (max_iter=1000).  Consider pre-processing your data with StandardScaler or MinMaxScaler.\n",
            "  % self.max_iter, ConvergenceWarning)\n",
            "/usr/local/lib/python3.7/dist-packages/sklearn/svm/_base.py:231: ConvergenceWarning: Solver terminated early (max_iter=100).  Consider pre-processing your data with StandardScaler or MinMaxScaler.\n",
            "  % self.max_iter, ConvergenceWarning)\n",
            "/usr/local/lib/python3.7/dist-packages/sklearn/svm/_base.py:231: ConvergenceWarning: Solver terminated early (max_iter=100).  Consider pre-processing your data with StandardScaler or MinMaxScaler.\n",
            "  % self.max_iter, ConvergenceWarning)\n",
            "/usr/local/lib/python3.7/dist-packages/sklearn/svm/_base.py:231: ConvergenceWarning: Solver terminated early (max_iter=100).  Consider pre-processing your data with StandardScaler or MinMaxScaler.\n",
            "  % self.max_iter, ConvergenceWarning)\n",
            "/usr/local/lib/python3.7/dist-packages/sklearn/svm/_base.py:231: ConvergenceWarning: Solver terminated early (max_iter=100).  Consider pre-processing your data with StandardScaler or MinMaxScaler.\n",
            "  % self.max_iter, ConvergenceWarning)\n",
            "/usr/local/lib/python3.7/dist-packages/sklearn/svm/_base.py:231: ConvergenceWarning: Solver terminated early (max_iter=100).  Consider pre-processing your data with StandardScaler or MinMaxScaler.\n",
            "  % self.max_iter, ConvergenceWarning)\n",
            "/usr/local/lib/python3.7/dist-packages/sklearn/svm/_base.py:231: ConvergenceWarning: Solver terminated early (max_iter=1000).  Consider pre-processing your data with StandardScaler or MinMaxScaler.\n",
            "  % self.max_iter, ConvergenceWarning)\n",
            "/usr/local/lib/python3.7/dist-packages/sklearn/svm/_base.py:231: ConvergenceWarning: Solver terminated early (max_iter=1000).  Consider pre-processing your data with StandardScaler or MinMaxScaler.\n",
            "  % self.max_iter, ConvergenceWarning)\n",
            "/usr/local/lib/python3.7/dist-packages/sklearn/svm/_base.py:231: ConvergenceWarning: Solver terminated early (max_iter=1000).  Consider pre-processing your data with StandardScaler or MinMaxScaler.\n",
            "  % self.max_iter, ConvergenceWarning)\n",
            "/usr/local/lib/python3.7/dist-packages/sklearn/svm/_base.py:231: ConvergenceWarning: Solver terminated early (max_iter=1000).  Consider pre-processing your data with StandardScaler or MinMaxScaler.\n",
            "  % self.max_iter, ConvergenceWarning)\n",
            "/usr/local/lib/python3.7/dist-packages/sklearn/svm/_base.py:231: ConvergenceWarning: Solver terminated early (max_iter=1000).  Consider pre-processing your data with StandardScaler or MinMaxScaler.\n",
            "  % self.max_iter, ConvergenceWarning)\n",
            "/usr/local/lib/python3.7/dist-packages/sklearn/svm/_base.py:231: ConvergenceWarning: Solver terminated early (max_iter=100).  Consider pre-processing your data with StandardScaler or MinMaxScaler.\n",
            "  % self.max_iter, ConvergenceWarning)\n",
            "/usr/local/lib/python3.7/dist-packages/sklearn/svm/_base.py:231: ConvergenceWarning: Solver terminated early (max_iter=100).  Consider pre-processing your data with StandardScaler or MinMaxScaler.\n",
            "  % self.max_iter, ConvergenceWarning)\n",
            "/usr/local/lib/python3.7/dist-packages/sklearn/svm/_base.py:231: ConvergenceWarning: Solver terminated early (max_iter=100).  Consider pre-processing your data with StandardScaler or MinMaxScaler.\n",
            "  % self.max_iter, ConvergenceWarning)\n",
            "/usr/local/lib/python3.7/dist-packages/sklearn/svm/_base.py:231: ConvergenceWarning: Solver terminated early (max_iter=100).  Consider pre-processing your data with StandardScaler or MinMaxScaler.\n",
            "  % self.max_iter, ConvergenceWarning)\n",
            "/usr/local/lib/python3.7/dist-packages/sklearn/svm/_base.py:231: ConvergenceWarning: Solver terminated early (max_iter=100).  Consider pre-processing your data with StandardScaler or MinMaxScaler.\n",
            "  % self.max_iter, ConvergenceWarning)\n",
            "/usr/local/lib/python3.7/dist-packages/sklearn/svm/_base.py:231: ConvergenceWarning: Solver terminated early (max_iter=1000).  Consider pre-processing your data with StandardScaler or MinMaxScaler.\n",
            "  % self.max_iter, ConvergenceWarning)\n",
            "/usr/local/lib/python3.7/dist-packages/sklearn/svm/_base.py:231: ConvergenceWarning: Solver terminated early (max_iter=1000).  Consider pre-processing your data with StandardScaler or MinMaxScaler.\n",
            "  % self.max_iter, ConvergenceWarning)\n",
            "/usr/local/lib/python3.7/dist-packages/sklearn/svm/_base.py:231: ConvergenceWarning: Solver terminated early (max_iter=1000).  Consider pre-processing your data with StandardScaler or MinMaxScaler.\n",
            "  % self.max_iter, ConvergenceWarning)\n",
            "/usr/local/lib/python3.7/dist-packages/sklearn/svm/_base.py:231: ConvergenceWarning: Solver terminated early (max_iter=1000).  Consider pre-processing your data with StandardScaler or MinMaxScaler.\n",
            "  % self.max_iter, ConvergenceWarning)\n",
            "/usr/local/lib/python3.7/dist-packages/sklearn/svm/_base.py:231: ConvergenceWarning: Solver terminated early (max_iter=1000).  Consider pre-processing your data with StandardScaler or MinMaxScaler.\n",
            "  % self.max_iter, ConvergenceWarning)\n",
            "/usr/local/lib/python3.7/dist-packages/sklearn/svm/_base.py:231: ConvergenceWarning: Solver terminated early (max_iter=100).  Consider pre-processing your data with StandardScaler or MinMaxScaler.\n",
            "  % self.max_iter, ConvergenceWarning)\n",
            "/usr/local/lib/python3.7/dist-packages/sklearn/svm/_base.py:231: ConvergenceWarning: Solver terminated early (max_iter=100).  Consider pre-processing your data with StandardScaler or MinMaxScaler.\n",
            "  % self.max_iter, ConvergenceWarning)\n",
            "/usr/local/lib/python3.7/dist-packages/sklearn/svm/_base.py:231: ConvergenceWarning: Solver terminated early (max_iter=100).  Consider pre-processing your data with StandardScaler or MinMaxScaler.\n",
            "  % self.max_iter, ConvergenceWarning)\n",
            "/usr/local/lib/python3.7/dist-packages/sklearn/svm/_base.py:231: ConvergenceWarning: Solver terminated early (max_iter=100).  Consider pre-processing your data with StandardScaler or MinMaxScaler.\n",
            "  % self.max_iter, ConvergenceWarning)\n",
            "/usr/local/lib/python3.7/dist-packages/sklearn/svm/_base.py:231: ConvergenceWarning: Solver terminated early (max_iter=100).  Consider pre-processing your data with StandardScaler or MinMaxScaler.\n",
            "  % self.max_iter, ConvergenceWarning)\n",
            "/usr/local/lib/python3.7/dist-packages/sklearn/svm/_base.py:231: ConvergenceWarning: Solver terminated early (max_iter=1000).  Consider pre-processing your data with StandardScaler or MinMaxScaler.\n",
            "  % self.max_iter, ConvergenceWarning)\n",
            "/usr/local/lib/python3.7/dist-packages/sklearn/svm/_base.py:231: ConvergenceWarning: Solver terminated early (max_iter=1000).  Consider pre-processing your data with StandardScaler or MinMaxScaler.\n",
            "  % self.max_iter, ConvergenceWarning)\n",
            "/usr/local/lib/python3.7/dist-packages/sklearn/svm/_base.py:231: ConvergenceWarning: Solver terminated early (max_iter=1000).  Consider pre-processing your data with StandardScaler or MinMaxScaler.\n",
            "  % self.max_iter, ConvergenceWarning)\n",
            "/usr/local/lib/python3.7/dist-packages/sklearn/svm/_base.py:231: ConvergenceWarning: Solver terminated early (max_iter=1000).  Consider pre-processing your data with StandardScaler or MinMaxScaler.\n",
            "  % self.max_iter, ConvergenceWarning)\n",
            "/usr/local/lib/python3.7/dist-packages/sklearn/svm/_base.py:231: ConvergenceWarning: Solver terminated early (max_iter=1000).  Consider pre-processing your data with StandardScaler or MinMaxScaler.\n",
            "  % self.max_iter, ConvergenceWarning)\n",
            "/usr/local/lib/python3.7/dist-packages/sklearn/svm/_base.py:231: ConvergenceWarning: Solver terminated early (max_iter=100).  Consider pre-processing your data with StandardScaler or MinMaxScaler.\n",
            "  % self.max_iter, ConvergenceWarning)\n",
            "/usr/local/lib/python3.7/dist-packages/sklearn/svm/_base.py:231: ConvergenceWarning: Solver terminated early (max_iter=100).  Consider pre-processing your data with StandardScaler or MinMaxScaler.\n",
            "  % self.max_iter, ConvergenceWarning)\n",
            "/usr/local/lib/python3.7/dist-packages/sklearn/svm/_base.py:231: ConvergenceWarning: Solver terminated early (max_iter=100).  Consider pre-processing your data with StandardScaler or MinMaxScaler.\n",
            "  % self.max_iter, ConvergenceWarning)\n",
            "/usr/local/lib/python3.7/dist-packages/sklearn/svm/_base.py:231: ConvergenceWarning: Solver terminated early (max_iter=100).  Consider pre-processing your data with StandardScaler or MinMaxScaler.\n",
            "  % self.max_iter, ConvergenceWarning)\n",
            "/usr/local/lib/python3.7/dist-packages/sklearn/svm/_base.py:231: ConvergenceWarning: Solver terminated early (max_iter=100).  Consider pre-processing your data with StandardScaler or MinMaxScaler.\n",
            "  % self.max_iter, ConvergenceWarning)\n",
            "/usr/local/lib/python3.7/dist-packages/sklearn/svm/_base.py:231: ConvergenceWarning: Solver terminated early (max_iter=1000).  Consider pre-processing your data with StandardScaler or MinMaxScaler.\n",
            "  % self.max_iter, ConvergenceWarning)\n",
            "/usr/local/lib/python3.7/dist-packages/sklearn/svm/_base.py:231: ConvergenceWarning: Solver terminated early (max_iter=1000).  Consider pre-processing your data with StandardScaler or MinMaxScaler.\n",
            "  % self.max_iter, ConvergenceWarning)\n",
            "/usr/local/lib/python3.7/dist-packages/sklearn/svm/_base.py:231: ConvergenceWarning: Solver terminated early (max_iter=1000).  Consider pre-processing your data with StandardScaler or MinMaxScaler.\n",
            "  % self.max_iter, ConvergenceWarning)\n",
            "/usr/local/lib/python3.7/dist-packages/sklearn/svm/_base.py:231: ConvergenceWarning: Solver terminated early (max_iter=1000).  Consider pre-processing your data with StandardScaler or MinMaxScaler.\n",
            "  % self.max_iter, ConvergenceWarning)\n",
            "/usr/local/lib/python3.7/dist-packages/sklearn/svm/_base.py:231: ConvergenceWarning: Solver terminated early (max_iter=1000).  Consider pre-processing your data with StandardScaler or MinMaxScaler.\n",
            "  % self.max_iter, ConvergenceWarning)\n"
          ],
          "name": "stderr"
        },
        {
          "output_type": "stream",
          "text": [
            "Accuracy on train data:\n",
            "{'C': 1.0, 'class_weight': 'balanced', 'max_iter': 100}: 0.113 +/- 0.001\n",
            "{'C': 1.0, 'class_weight': 'balanced', 'max_iter': 1000}: 0.362 +/- 0.008\n",
            "{'C': 1.0, 'class_weight': 'balanced', 'max_iter': 10000}: 0.491 +/- 0.009\n",
            "{'C': 1.0, 'class_weight': None, 'max_iter': 100}: 0.452 +/- 0.033\n",
            "{'C': 1.0, 'class_weight': None, 'max_iter': 1000}: 0.548 +/- 0.004\n",
            "{'C': 1.0, 'class_weight': None, 'max_iter': 10000}: 0.549 +/- 0.01\n",
            "{'C': 1.25, 'class_weight': 'balanced', 'max_iter': 100}: 0.119 +/- 0.012\n",
            "{'C': 1.25, 'class_weight': 'balanced', 'max_iter': 1000}: 0.376 +/- 0.013\n",
            "{'C': 1.25, 'class_weight': 'balanced', 'max_iter': 10000}: 0.495 +/- 0.011\n",
            "{'C': 1.25, 'class_weight': None, 'max_iter': 100}: 0.439 +/- 0.016\n",
            "{'C': 1.25, 'class_weight': None, 'max_iter': 1000}: 0.531 +/- 0.027\n",
            "{'C': 1.25, 'class_weight': None, 'max_iter': 10000}: 0.554 +/- 0.014\n",
            "{'C': 1.5, 'class_weight': 'balanced', 'max_iter': 100}: 0.122 +/- 0.014\n",
            "{'C': 1.5, 'class_weight': 'balanced', 'max_iter': 1000}: 0.385 +/- 0.014\n",
            "{'C': 1.5, 'class_weight': 'balanced', 'max_iter': 10000}: 0.494 +/- 0.009\n",
            "{'C': 1.5, 'class_weight': None, 'max_iter': 100}: 0.443 +/- 0.02\n",
            "{'C': 1.5, 'class_weight': None, 'max_iter': 1000}: 0.545 +/- 0.01\n",
            "{'C': 1.5, 'class_weight': None, 'max_iter': 10000}: 0.553 +/- 0.016\n",
            "{'C': 1.75, 'class_weight': 'balanced', 'max_iter': 100}: 0.149 +/- 0.043\n",
            "{'C': 1.75, 'class_weight': 'balanced', 'max_iter': 1000}: 0.404 +/- 0.014\n",
            "{'C': 1.75, 'class_weight': 'balanced', 'max_iter': 10000}: 0.499 +/- 0.01\n",
            "{'C': 1.75, 'class_weight': None, 'max_iter': 100}: 0.457 +/- 0.007\n",
            "{'C': 1.75, 'class_weight': None, 'max_iter': 1000}: 0.556 +/- 0.017\n",
            "{'C': 1.75, 'class_weight': None, 'max_iter': 10000}: 0.559 +/- 0.013\n",
            "{'C': 2.0, 'class_weight': 'balanced', 'max_iter': 100}: 0.133 +/- 0.022\n",
            "{'C': 2.0, 'class_weight': 'balanced', 'max_iter': 1000}: 0.403 +/- 0.009\n",
            "{'C': 2.0, 'class_weight': 'balanced', 'max_iter': 10000}: 0.499 +/- 0.011\n",
            "{'C': 2.0, 'class_weight': None, 'max_iter': 100}: 0.472 +/- 0.018\n",
            "{'C': 2.0, 'class_weight': None, 'max_iter': 1000}: 0.546 +/- 0.015\n",
            "{'C': 2.0, 'class_weight': None, 'max_iter': 10000}: 0.56 +/- 0.014\n",
            "\n",
            "Best parameters: {'C': 2.0, 'class_weight': None, 'max_iter': 10000}\n",
            "\n",
            "Model mean accuracy 95% confidence interval: (0.371454218527411, 0.48239494788454473)\n",
            "\n",
            "Detailed classification report (test data):\n",
            "              precision    recall  f1-score   support\n",
            "\n",
            "           0       0.59      0.77      0.67       768\n",
            "           1       0.52      0.46      0.49       625\n",
            "           2       0.50      0.01      0.02       177\n",
            "\n",
            "    accuracy                           0.56      1570\n",
            "   macro avg       0.53      0.41      0.39      1570\n",
            "weighted avg       0.55      0.56      0.52      1570\n",
            "\n",
            "\n",
            "\n",
            "\n"
          ],
          "name": "stdout"
        },
        {
          "output_type": "execute_result",
          "data": {
            "text/plain": [
              "GridSearchCV(cv=StratifiedKFold(n_splits=5, random_state=None, shuffle=False),\n",
              "             error_score=nan,\n",
              "             estimator=SVC(C=1.0, break_ties=False, cache_size=200,\n",
              "                           class_weight=None, coef0=0.0,\n",
              "                           decision_function_shape='ovr', degree=3,\n",
              "                           gamma='scale', kernel='rbf', max_iter=-1,\n",
              "                           probability=False, random_state=None, shrinking=True,\n",
              "                           tol=0.001, verbose=False),\n",
              "             iid='deprecated', n_jobs=None,\n",
              "             param_grid={'C': [1.0, 1.25, 1.5, 1.75, 2.0],\n",
              "                         'class_weight': ['balanced', None],\n",
              "                         'max_iter': [100, 1000, 10000]},\n",
              "             pre_dispatch='2*n_jobs', refit=True, return_train_score=False,\n",
              "             scoring='accuracy', verbose=0)"
            ]
          },
          "metadata": {
            "tags": []
          },
          "execution_count": 629
        }
      ]
    },
    {
      "cell_type": "markdown",
      "metadata": {
        "id": "8-uORmXih0U8"
      },
      "source": [
        "###Выбор наилучшего набора параметров на основе кросс валидации и обучение модели на всем наборе данных для обучения"
      ]
    },
    {
      "cell_type": "code",
      "metadata": {
        "id": "aPj2eiRyyFqQ",
        "colab": {
          "base_uri": "https://localhost:8080/"
        },
        "outputId": "3181a35e-080d-4ed8-d07e-d91f6e95c430"
      },
      "source": [
        "# Дерево решений - алгоритм, который показал лучшие результаты\n",
        "# Обучаю эту модель (с оптимальными параметрами) на всём датасете\n",
        "model = DecisionTreeClassifier(criterion='gini', max_depth=10)\n",
        "model.fit(train_data, train_labels)"
      ],
      "execution_count": null,
      "outputs": [
        {
          "output_type": "execute_result",
          "data": {
            "text/plain": [
              "DecisionTreeClassifier(ccp_alpha=0.0, class_weight=None, criterion='gini',\n",
              "                       max_depth=10, max_features=None, max_leaf_nodes=None,\n",
              "                       min_impurity_decrease=0.0, min_impurity_split=None,\n",
              "                       min_samples_leaf=1, min_samples_split=2,\n",
              "                       min_weight_fraction_leaf=0.0, presort='deprecated',\n",
              "                       random_state=None, splitter='best')"
            ]
          },
          "metadata": {
            "tags": []
          },
          "execution_count": 630
        }
      ]
    },
    {
      "cell_type": "markdown",
      "metadata": {
        "id": "soLxWFwCiQQL"
      },
      "source": [
        "### Сбор метрик на обучении и тесте"
      ]
    },
    {
      "cell_type": "code",
      "metadata": {
        "id": "cgBtth95yBZC",
        "colab": {
          "base_uri": "https://localhost:8080/",
          "height": 1000
        },
        "outputId": "34412eec-e9b4-47b1-b423-6e434783b34f"
      },
      "source": [
        "print(classification_report(test_labels, model.predict(test_data)))\n",
        "from sklearn.metrics import plot_confusion_matrix  \n",
        "sns.set(rc={'figure.figsize':(16,16)}, font_scale=2)\n",
        "plot_confusion_matrix(model, test_data, test_labels, display_labels=model.classes_, cmap=plt.cm.Blues, xticks_rotation='vertical')  \n",
        "plt.show()"
      ],
      "execution_count": null,
      "outputs": [
        {
          "output_type": "stream",
          "text": [
            "              precision    recall  f1-score   support\n",
            "\n",
            "           0       0.73      0.86      0.79       768\n",
            "           1       0.74      0.68      0.71       625\n",
            "           2       0.86      0.45      0.59       177\n",
            "\n",
            "    accuracy                           0.74      1570\n",
            "   macro avg       0.78      0.66      0.70      1570\n",
            "weighted avg       0.75      0.74      0.74      1570\n",
            "\n"
          ],
          "name": "stdout"
        },
        {
          "output_type": "display_data",
          "data": {
            "image/png": "[encoded data removed]",
            "text/plain": [
              "<Figure size 1152x1152 with 2 Axes>"
            ]
          },
          "metadata": {
            "tags": []
          }
        }
      ]
    },
    {
      "cell_type": "code",
      "metadata": {
        "colab": {
          "base_uri": "https://localhost:8080/",
          "height": 1000
        },
        "id": "_13tiSBV5wXm",
        "outputId": "80ff0b35-6831-479c-c7bc-cb64aa7fd77a"
      },
      "source": [
        "# Ещё одна попытка получить хорошие результаты\n",
        "clf = RandomForestClassifier()\n",
        "clf.fit(train_data, train_labels)\n",
        "print(classification_report(test_labels, clf.predict(test_data)))\n",
        "plot_confusion_matrix(clf, test_data, test_labels, display_labels=clf.classes_, cmap=plt.cm.Blues, xticks_rotation='vertical')  \n",
        "# Вау! Алгоритм без параметров сразу дал такие результаты"
      ],
      "execution_count": null,
      "outputs": [
        {
          "output_type": "stream",
          "text": [
            "              precision    recall  f1-score   support\n",
            "\n",
            "           0       0.98      1.00      0.99       768\n",
            "           1       0.99      0.98      0.99       625\n",
            "           2       0.98      0.92      0.95       177\n",
            "\n",
            "    accuracy                           0.98      1570\n",
            "   macro avg       0.98      0.97      0.97      1570\n",
            "weighted avg       0.98      0.98      0.98      1570\n",
            "\n"
          ],
          "name": "stdout"
        },
        {
          "output_type": "execute_result",
          "data": {
            "text/plain": [
              "<sklearn.metrics._plot.confusion_matrix.ConfusionMatrixDisplay at 0x7efd993b3090>"
            ]
          },
          "metadata": {
            "tags": []
          },
          "execution_count": 632
        },
        {
          "output_type": "display_data",
          "data": {
            "image/png": "[encoded data removed]",
            "text/plain": [
              "<Figure size 1152x1152 with 2 Axes>"
            ]
          },
          "metadata": {
            "tags": []
          }
        }
      ]
    },
    {
      "cell_type": "code",
      "metadata": {
        "colab": {
          "base_uri": "https://localhost:8080/",
          "height": 952
        },
        "id": "hvFJjcd5510x",
        "outputId": "3909ebb4-c55a-41f2-c4a3-83989e48007c"
      },
      "source": [
        "# Столбчатая диаграмма важности каждого признака\n",
        "plt.bar(feature, clf.feature_importances_)"
      ],
      "execution_count": null,
      "outputs": [
        {
          "output_type": "execute_result",
          "data": {
            "text/plain": [
              "<BarContainer object of 5 artists>"
            ]
          },
          "metadata": {
            "tags": []
          },
          "execution_count": 633
        },
        {
          "output_type": "display_data",
          "data": {
            "image/png": "[encoded data removed]",
            "text/plain": [
              "<Figure size 1152x1152 with 1 Axes>"
            ]
          },
          "metadata": {
            "tags": []
          }
        }
      ]
    },
    {
      "cell_type": "markdown",
      "metadata": {
        "id": "fOntx3ZdRB7Q"
      },
      "source": [
        "### Подбор пороговых значений для каждого класса так, чтобы максимизировать ожидаемую выручку"
      ]
    },
    {
      "cell_type": "code",
      "metadata": {
        "id": "_YLHpqIFzyu6",
        "colab": {
          "base_uri": "https://localhost:8080/"
        },
        "outputId": "94719631-635f-4902-d48e-f31fbb424f30"
      },
      "source": [
        "# Взятие вероятностей отнесения к классам\n",
        "clf.predict_proba(test_data)\n",
        "probs = clf.predict_proba(test_data)\n",
        "probs = probs[:,1]\n",
        "probs"
      ],
      "execution_count": null,
      "outputs": [
        {
          "output_type": "execute_result",
          "data": {
            "text/plain": [
              "array([0.11, 0.99, 0.3 , ..., 0.06, 0.07, 0.31])"
            ]
          },
          "metadata": {
            "tags": []
          },
          "execution_count": 634
        }
      ]
    },
    {
      "cell_type": "markdown",
      "metadata": {
        "id": "QrAFvFMyY8h9"
      },
      "source": [
        "При составлении формулы для расчёта оптимального порога я исходил из позиции, что магазин может зарабатывать меньше, чем возможно, а не терять. Поэтому в формуле нет отрицательных множителей, само значение множителя меняется.\n",
        "\n",
        "Логика определения множителей:\n",
        "\n",
        "**Класс А**\n",
        "\n",
        "Выгоднее всегда выбирать фильмы из категории (класса) А. Фильмы категории А - это крупные мировые премьеры с известными режиссёрами, голливудскими актёрами. \n",
        "Чтобы получить максимальную выручку, их нужно покупать в период их выхода в прокат, в период наибольшего ажиотажа. Если купить их позже, то спрос будет ниже и вырочка, соответственно, меньше.\n",
        "\n",
        "Чем ниже категория фильма, тем дольше он не будет добавлен в аренду (или вообще не будет добавлен). Если не будет фильмов категории А, то будут добавляться фильмы категории B и так далее.\n",
        "\n",
        "Поэтому если модель ошибётся и определит фильм класса А, как фильм класса B, то магазин заработает меньше. Если модель классифицирует его как класс C, то выручка будет ещё меньше.\n",
        "\n",
        "**Класс B**\n",
        "\n",
        "Если модель ошибётся: классифицирует фильм как B, вместо А, то он поступит в продажу (аренду) вместо фильма категории А, следовательно магазин недозаработает.\n",
        "Если модель ошибётся: классифицирует фильм как С, то он появится в продаже позже, магазин получит меньшую выручку.\n",
        "\n",
        "**Класс С**\n",
        "\n",
        "Логика такая, как и для предыдущих классов.\n",
        "\n",
        "Если по ошибке модель отнесла фильм к категории А, то он (фильм) появится в продаже вместо фильма категории А. Спрос на него будет меньше и выручка-меньше.\n",
        "Тоже самое, если по ошибке отнести фильм к категории B, но влияние на выручку меньше.\n",
        "\n",
        "Таблица с множителя для расчёта представлена ниже."
      ]
    },
    {
      "cell_type": "markdown",
      "metadata": {
        "id": "LK5HwewMgndZ"
      },
      "source": [
        "![Документ1 - Word 04_06_2021 22_30_12 (2).png](data:image/png;base64,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)"
      ]
    },
    {
      "cell_type": "code",
      "metadata": {
        "id": "7Qs6SZHZ0VtX",
        "colab": {
          "base_uri": "https://localhost:8080/",
          "height": 1000
        },
        "outputId": "f1d58b82-e1bc-40ea-d790-8c9c23477aec"
      },
      "source": [
        "# Определение оптимального значения порога\n",
        "revenue = []\n",
        "threshold = np.arange(0,1,0.05)\n",
        "for t in threshold:\n",
        "  mtx = confusion_matrix(test_labels, (probs > t).astype(np.int16))\n",
        "  revenue.append(1000*mtx[0][0] + 350*mtx[1][0] + 100*mtx[2][0] + 750*mtx[0][1] + 600*mtx[1][1] + 200*mtx[2][1] + 500*mtx[0][2] + 450*mtx[1][2] + 300*mtx[2][2])\n",
        "\n",
        "plt.ylabel('revenue')\n",
        "plt.xlabel('threshold')\n",
        "plt.title('Revenue level')\n",
        "plt.plot(threshold, revenue)\n",
        "max_value = np.max(revenue)\n",
        "max_index = revenue.index(max_value)\n",
        "print(\"Maximum threshold: {}\".format(threshold[max_index]))\n",
        "print(\"Maximum revenue: {}\".format(max_value))"
      ],
      "execution_count": null,
      "outputs": [
        {
          "output_type": "stream",
          "text": [
            "Maximum threshold: 0.45\n",
            "Maximum revenue: 1157800\n"
          ],
          "name": "stdout"
        },
        {
          "output_type": "display_data",
          "data": {
            "image/png": "[encoded data removed]",
            "text/plain": [
              "<Figure size 1152x1152 with 1 Axes>"
            ]
          },
          "metadata": {
            "tags": []
          }
        }
      ]
    },
    {
      "cell_type": "markdown",
      "metadata": {
        "id": "YZQpuhOKiYP6"
      },
      "source": [
        "### Принятие решения"
      ]
    },
    {
      "cell_type": "markdown",
      "metadata": {
        "id": "m39AXb9QY16-"
      },
      "source": [
        "  По итогам работы получены хорошие результаты. Разработанная модель сможет с высокой точностью определять самые продаваемые и востребованные фильмы.\n",
        "\n",
        "  Однако, по моему мнению, её нужно будет периодически переобучать. Модель учитывает актёрский состав фильма. Могут появится молодые популярные актёры или звёдный артист (режиссёр) может попасть в неприятную историю, испорить себе репутацию и спрос на фильмы с его участием упадёт.\n",
        "\n",
        "  Также может меняться популярность тех или иных жанров фильмов. Ниже представлены графики популярности жанров кино по годам с 1918 по 2018."
      ]
    },
    {
      "cell_type": "markdown",
      "metadata": {
        "id": "CYC18uP1ktWZ"
      },
      "source": [
        "![image.png](data:image/png;base64,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)"
      ]
    },
    {
      "cell_type": "markdown",
      "metadata": {
        "id": "P2QmoLc9axSy"
      },
      "source": [
        "## Дэшборд\n",
        "В redash постройте дэшборд, отражающий динамику о кол-ве заказов каждую неделю, а также информацию о том какие фильмы ожидают возвращения в магазин и о клиентах (телефон, email), которые должны их вернуть."
      ]
    },
    {
      "cell_type": "markdown",
      "metadata": {
        "id": "L_K5xFIVgLIN"
      },
      "source": [
        "Ссылка на дэшборд в Redash: http://89.223.29.217/dashboard/project"
      ]
    },
    {
      "cell_type": "code",
      "metadata": {
        "id": "Xca5NufTK8HB"
      },
      "source": [
        ""
      ],
      "execution_count": null,
      "outputs": []
    }
  ]
}